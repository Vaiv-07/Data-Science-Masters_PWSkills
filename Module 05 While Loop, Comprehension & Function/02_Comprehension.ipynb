{
 "cells": [
  {
   "cell_type": "markdown",
   "id": "4063a5c0-e276-4164-93e7-c57fbd113310",
   "metadata": {},
   "source": [
    "## Comprehension"
   ]
  },
  {
   "cell_type": "code",
   "execution_count": 1,
   "id": "8bfb69fb-3a6e-4ed3-b292-79c9d2b0b376",
   "metadata": {},
   "outputs": [],
   "source": [
    "l = [1,2,3,4,45, 5]\n",
    "l1=[]\n",
    "for i in l:\n",
    "    l1.append(i**2)"
   ]
  },
  {
   "cell_type": "code",
   "execution_count": 2,
   "id": "92145acf-6be2-410d-a10b-46492edb235c",
   "metadata": {},
   "outputs": [
    {
     "data": {
      "text/plain": [
       "[1, 4, 9, 16, 2025, 25]"
      ]
     },
     "execution_count": 2,
     "metadata": {},
     "output_type": "execute_result"
    }
   ],
   "source": [
    "l1"
   ]
  },
  {
   "cell_type": "code",
   "execution_count": 3,
   "id": "75e2ef56-68cb-4d15-830f-c3a507ea7fc4",
   "metadata": {},
   "outputs": [
    {
     "data": {
      "text/plain": [
       "[1, 2, 3, 4, 45, 5]"
      ]
     },
     "execution_count": 3,
     "metadata": {},
     "output_type": "execute_result"
    }
   ],
   "source": [
    "l"
   ]
  },
  {
   "cell_type": "code",
   "execution_count": 4,
   "id": "274c5f64-b13b-43a0-bfaf-098d8b16db08",
   "metadata": {},
   "outputs": [
    {
     "data": {
      "text/plain": [
       "[1, 4, 9, 16, 2025, 25]"
      ]
     },
     "execution_count": 4,
     "metadata": {},
     "output_type": "execute_result"
    }
   ],
   "source": [
    "[i**2 for i in l]   # comprehensive way of above code"
   ]
  },
  {
   "cell_type": "code",
   "execution_count": 5,
   "id": "1c62662d-e83c-45b9-98e1-d0da9d816f72",
   "metadata": {},
   "outputs": [
    {
     "data": {
      "text/plain": [
       "[2, 4]"
      ]
     },
     "execution_count": 5,
     "metadata": {},
     "output_type": "execute_result"
    }
   ],
   "source": [
    "[i for i in l if i%2==0]   # [.] means we want output in list form"
   ]
  },
  {
   "cell_type": "code",
   "execution_count": 6,
   "id": "76e4b458-d9d9-4b33-8c25-54c2f95c471f",
   "metadata": {},
   "outputs": [],
   "source": [
    "l1 = [\"sudh\", \"pwskills\", \"kumar\", \"data science masters\"]"
   ]
  },
  {
   "cell_type": "code",
   "execution_count": 7,
   "id": "cf2ba1eb-8fec-4755-a649-9e72de4e07dc",
   "metadata": {},
   "outputs": [
    {
     "data": {
      "text/plain": [
       "['SUDH', 'PWSKILLS', 'KUMAR', 'DATA SCIENCE MASTERS']"
      ]
     },
     "execution_count": 7,
     "metadata": {},
     "output_type": "execute_result"
    }
   ],
   "source": [
    "[i.upper() for i in l1] "
   ]
  },
  {
   "cell_type": "code",
   "execution_count": 8,
   "id": "24b9ac0c-bb92-4ddb-98ed-859bf2c31bbe",
   "metadata": {},
   "outputs": [
    {
     "name": "stdout",
     "output_type": "stream",
     "text": [
      "[1, 2, 3, 4, 45, 5]\n"
     ]
    },
    {
     "data": {
      "text/plain": [
       "{1, 4, 9, 16, 25, 2025}"
      ]
     },
     "execution_count": 8,
     "metadata": {},
     "output_type": "execute_result"
    }
   ],
   "source": [
    "## Dictionary compehension\n",
    "print(l)\n",
    "{i**2 for i in l}"
   ]
  },
  {
   "cell_type": "code",
   "execution_count": 9,
   "id": "164b6653-576c-41a1-ba1c-f74d13f6dbde",
   "metadata": {},
   "outputs": [],
   "source": [
    "d = {\"key1\": 1, \"key2\":2, \"key3\":3, \"key4\":4}"
   ]
  },
  {
   "cell_type": "code",
   "execution_count": 10,
   "id": "a352495d-294e-481f-aaab-fd639a3f88f1",
   "metadata": {},
   "outputs": [
    {
     "data": {
      "text/plain": [
       "{'key1': 1, 'key2': 4, 'key3': 9, 'key4': 16}"
      ]
     },
     "execution_count": 10,
     "metadata": {},
     "output_type": "execute_result"
    }
   ],
   "source": [
    "# square the value in dictionary\n",
    "{k:v**2 for k, v in d.items()}"
   ]
  },
  {
   "cell_type": "code",
   "execution_count": 11,
   "id": "e832b355-fb7d-48c1-a0d2-15444c3b99fd",
   "metadata": {},
   "outputs": [
    {
     "data": {
      "text/plain": [
       "{'key1': 1, 'key2': 2, 'key3': 3, 'key4': 4}"
      ]
     },
     "execution_count": 11,
     "metadata": {},
     "output_type": "execute_result"
    }
   ],
   "source": [
    "d"
   ]
  },
  {
   "cell_type": "code",
   "execution_count": 12,
   "id": "97ee88c9-87db-4ae7-b01e-71f6fac7be99",
   "metadata": {},
   "outputs": [
    {
     "data": {
      "text/plain": [
       "{'key2': 2, 'key3': 3, 'key4': 4}"
      ]
     },
     "execution_count": 12,
     "metadata": {},
     "output_type": "execute_result"
    }
   ],
   "source": [
    "# getting values greater than one\n",
    "{k:v for k,v in d.items() if v>1}"
   ]
  },
  {
   "cell_type": "code",
   "execution_count": 13,
   "id": "0a556ad8-7008-4481-a6c6-98210a12e74c",
   "metadata": {},
   "outputs": [
    {
     "ename": "SyntaxError",
     "evalue": "invalid syntax (3237820768.py, line 1)",
     "output_type": "error",
     "traceback": [
      "\u001b[0;36m  Cell \u001b[0;32mIn[13], line 1\u001b[0;36m\u001b[0m\n\u001b[0;31m    k:v for k,v in d.items() if v>1\u001b[0m\n\u001b[0m        ^\u001b[0m\n\u001b[0;31mSyntaxError\u001b[0m\u001b[0;31m:\u001b[0m invalid syntax\n"
     ]
    }
   ],
   "source": [
    "k:v for k,v in d.items() if v>1"
   ]
  },
  {
   "cell_type": "code",
   "execution_count": null,
   "id": "bd81bf0d-c14d-46b0-be83-1a963fb0a002",
   "metadata": {},
   "outputs": [],
   "source": []
  },
  {
   "cell_type": "code",
   "execution_count": null,
   "id": "bf75d432-76ec-4de3-a34b-9962340761d3",
   "metadata": {},
   "outputs": [],
   "source": []
  }
 ],
 "metadata": {
  "kernelspec": {
   "display_name": "Python 3 (ipykernel)",
   "language": "python",
   "name": "python3"
  },
  "language_info": {
   "codemirror_mode": {
    "name": "ipython",
    "version": 3
   },
   "file_extension": ".py",
   "mimetype": "text/x-python",
   "name": "python",
   "nbconvert_exporter": "python",
   "pygments_lexer": "ipython3",
   "version": "3.10.8"
  }
 },
 "nbformat": 4,
 "nbformat_minor": 5
}
