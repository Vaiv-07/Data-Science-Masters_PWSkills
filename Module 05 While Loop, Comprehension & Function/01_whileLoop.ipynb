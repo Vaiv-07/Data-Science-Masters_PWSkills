{
 "cells": [
  {
   "cell_type": "code",
   "execution_count": 1,
   "id": "d0ad95ba-c748-4f85-968f-4beb5cb1ff7f",
   "metadata": {},
   "outputs": [
    {
     "name": "stdout",
     "output_type": "stream",
     "text": [
      "1\n",
      "2\n",
      "3\n",
      "4\n",
      "5\n",
      "6\n",
      "7\n",
      "8\n",
      "9\n",
      "10\n",
      "Out of while loop!!!\n",
      "Now a is  11\n"
     ]
    }
   ],
   "source": [
    "a = 1\n",
    "\n",
    "while a<=10 : # while pahle condition check karega lekin for pahle check mhi karta\n",
    "    print(a)\n",
    "    a = a+1\n",
    "print(\"Out of while loop!!!\")\n",
    "print(\"Now a is \",a)"
   ]
  },
  {
   "cell_type": "code",
   "execution_count": 2,
   "id": "907eee91-339f-4f64-8802-b464401653cc",
   "metadata": {},
   "outputs": [
    {
     "name": "stdin",
     "output_type": "stream",
     "text": [
      "Enter upper marks:  5\n"
     ]
    },
    {
     "name": "stdout",
     "output_type": "stream",
     "text": [
      "The sum of 5 numbers is:  15\n"
     ]
    }
   ],
   "source": [
    "# Sum up whole numbers till some points\n",
    "n = int(input(\"Enter upper marks: \"))\n",
    "starting_num = 0\n",
    "count = 1\n",
    "while count <= n :\n",
    "    starting_num = starting_num + count\n",
    "    count = count + 1\n",
    "\n",
    "print(\"The sum of\",n,\"numbers is: \",starting_num)"
   ]
  },
  {
   "cell_type": "code",
   "execution_count": 3,
   "id": "977b00b5-b6c4-43f3-960a-80a0ec2f9c0f",
   "metadata": {},
   "outputs": [
    {
     "name": "stdin",
     "output_type": "stream",
     "text": [
      "Enter number: 5\n"
     ]
    },
    {
     "name": "stdout",
     "output_type": "stream",
     "text": [
      "5 ! is 120\n"
     ]
    }
   ],
   "source": [
    "# factorial\n",
    "n = int(input(\"Enter number:\"))\n",
    "num = n\n",
    "fact = 1\n",
    "if n==0 :\n",
    "    fact = 1\n",
    "while n > 0:\n",
    "    fact = fact*n\n",
    "    n = n-1\n",
    "    \n",
    "print(num,\"! is\",fact)"
   ]
  },
  {
   "cell_type": "code",
   "execution_count": 4,
   "id": "e2f79149-92b6-43b7-8bef-ac610602049b",
   "metadata": {},
   "outputs": [
    {
     "name": "stdin",
     "output_type": "stream",
     "text": [
      "Enter the count of series: 5\n"
     ]
    },
    {
     "name": "stdout",
     "output_type": "stream",
     "text": [
      "0\n",
      "1\n",
      "1\n",
      "2\n",
      "3\n"
     ]
    }
   ],
   "source": [
    "# Fibonacci Series\n",
    "n = int(input(\"Enter the count of series:\"))\n",
    "a, b = 0, 1\n",
    "counter = 0\n",
    "while counter < n :\n",
    "    print(a)\n",
    "    c = a+b\n",
    "    a = b\n",
    "    b = c\n",
    "    counter = counter+1"
   ]
  },
  {
   "cell_type": "code",
   "execution_count": 5,
   "id": "eb8838b0-e600-438a-aa24-7d6673db531a",
   "metadata": {},
   "outputs": [
    {
     "name": "stdin",
     "output_type": "stream",
     "text": [
      "Enter the count of series: 5\n"
     ]
    },
    {
     "name": "stdout",
     "output_type": "stream",
     "text": [
      "0\n",
      "1\n",
      "1\n",
      "2\n",
      "3\n"
     ]
    }
   ],
   "source": [
    "a=0\n",
    "b=1\n",
    "n = int(input(\"Enter the count of series:\"))\n",
    "for i in range(n):   # for loop counter ko khud hi manage kar leta h\n",
    "    print(a)\n",
    "    c = a+b\n",
    "    a = b\n",
    "    b = c"
   ]
  },
  {
   "cell_type": "code",
   "execution_count": 6,
   "id": "7f74da09-c1ff-4891-b10d-dea14488c734",
   "metadata": {},
   "outputs": [
    {
     "data": {
      "text/plain": [
       "'hdus'"
      ]
     },
     "execution_count": 6,
     "metadata": {},
     "output_type": "execute_result"
    }
   ],
   "source": [
    "s = \"sudh\"\n",
    "s[::-1]"
   ]
  },
  {
   "cell_type": "code",
   "execution_count": 7,
   "id": "65fd815a-b6e7-446c-8ee8-08b07b443ccd",
   "metadata": {},
   "outputs": [
    {
     "name": "stdin",
     "output_type": "stream",
     "text": [
      "enter your strng: 5\n"
     ]
    },
    {
     "name": "stdout",
     "output_type": "stream",
     "text": [
      "Reversed string is:\n",
      " 5\n"
     ]
    }
   ],
   "source": [
    "# reversing string using loop\n",
    "str = input(\"enter your strng:\")\n",
    "reverse = \"\"\n",
    "length = len(str)\n",
    "while length > 0 :\n",
    "    reverse = reverse + str[length - 1]\n",
    "    length = length - 1\n",
    "print(\"Reversed string is:\\n\",reverse)"
   ]
  },
  {
   "cell_type": "code",
   "execution_count": 8,
   "id": "2d859b27-28c8-4a17-a8b3-e79c4d8bf548",
   "metadata": {},
   "outputs": [
    {
     "name": "stdout",
     "output_type": "stream",
     "text": [
      "1\n",
      "2\n",
      "3\n",
      "4\n",
      "Out of bound\n",
      "else part\n",
      "it will execute only once while complete successfully\n"
     ]
    }
   ],
   "source": [
    "# using ELSE with while\n",
    "n = 5\n",
    "i = 1\n",
    "while i<n :\n",
    "    print(i)\n",
    "    i = i+1\n",
    "else :\n",
    "    print(\"Out of bound\\nelse part\\nit will execute only once while complete successfully\")"
   ]
  },
  {
   "cell_type": "code",
   "execution_count": 9,
   "id": "ade5f34b-4874-42e3-afc9-4c5cbf2e3959",
   "metadata": {},
   "outputs": [
    {
     "name": "stdout",
     "output_type": "stream",
     "text": [
      "1\n",
      "2\n",
      "3\n"
     ]
    }
   ],
   "source": [
    "# using ELSE with while\n",
    "n = 5\n",
    "i = 1\n",
    "while i<n :\n",
    "    print(i)\n",
    "    if i==3 :\n",
    "        break\n",
    "    i = i+1\n",
    "else :\n",
    "    print(\"Out of bound\\nelse part\\nit will execute only once while complete successfully\")"
   ]
  },
  {
   "cell_type": "code",
   "execution_count": null,
   "id": "afc2cefe-e396-45e3-aa6a-7dce70f7551a",
   "metadata": {},
   "outputs": [],
   "source": []
  }
 ],
 "metadata": {
  "kernelspec": {
   "display_name": "Python 3 (ipykernel)",
   "language": "python",
   "name": "python3"
  },
  "language_info": {
   "codemirror_mode": {
    "name": "ipython",
    "version": 3
   },
   "file_extension": ".py",
   "mimetype": "text/x-python",
   "name": "python",
   "nbconvert_exporter": "python",
   "pygments_lexer": "ipython3",
   "version": "3.10.8"
  }
 },
 "nbformat": 4,
 "nbformat_minor": 5
}
