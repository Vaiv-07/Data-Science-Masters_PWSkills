{
 "cells": [
  {
   "cell_type": "markdown",
   "id": "a0e3cfd3-5824-4481-b898-c071501bdb6d",
   "metadata": {},
   "source": [
    "## Functions"
   ]
  },
  {
   "cell_type": "code",
   "execution_count": 1,
   "id": "1627dc91-5d82-4212-a3ae-8ba67405ecd2",
   "metadata": {},
   "outputs": [
    {
     "ename": "SyntaxError",
     "evalue": "incomplete input (3306138534.py, line 5)",
     "output_type": "error",
     "traceback": [
      "\u001b[0;36m  Cell \u001b[0;32mIn[1], line 5\u001b[0;36m\u001b[0m\n\u001b[0;31m    # it will give error as we didn't writtten any body code for function\u001b[0m\n\u001b[0m                                                                         ^\u001b[0m\n\u001b[0;31mSyntaxError\u001b[0m\u001b[0;31m:\u001b[0m incomplete input\n"
     ]
    }
   ],
   "source": [
    "def fuct_name() :\n",
    "    # function body \n",
    "    # return statement if any\n",
    "    \n",
    "# it will give error as we didn't writtten any body code for function"
   ]
  },
  {
   "cell_type": "code",
   "execution_count": 2,
   "id": "60f0318b-2cc1-4c3b-a593-6e5b52f07953",
   "metadata": {},
   "outputs": [],
   "source": [
    "def fuct_name() :\n",
    "    # function body \n",
    "    # return statement if any\n",
    "    pass # a keyword to avoid above error"
   ]
  },
  {
   "cell_type": "code",
   "execution_count": 3,
   "id": "810bce02-137c-40c1-80da-48f570842a2a",
   "metadata": {},
   "outputs": [
    {
     "name": "stdout",
     "output_type": "stream",
     "text": [
      "This is function body\n"
     ]
    }
   ],
   "source": [
    "def fuct_name() :\n",
    "    print(\"This is function body\")\n",
    "    \n",
    "fuct_name()    # function call"
   ]
  },
  {
   "cell_type": "code",
   "execution_count": 4,
   "id": "e399260a-9a5f-4306-a0b5-335e701c77ab",
   "metadata": {},
   "outputs": [
    {
     "name": "stdout",
     "output_type": "stream",
     "text": [
      "This is function body\n"
     ]
    },
    {
     "data": {
      "text/plain": [
       "NoneType"
      ]
     },
     "execution_count": 4,
     "metadata": {},
     "output_type": "execute_result"
    }
   ],
   "source": [
    "type(fuct_name())"
   ]
  },
  {
   "cell_type": "code",
   "execution_count": 5,
   "id": "74f9f0d4-49c4-40e2-8aad-6058da059c3a",
   "metadata": {},
   "outputs": [
    {
     "name": "stdout",
     "output_type": "stream",
     "text": [
      "This is function body\n"
     ]
    },
    {
     "ename": "TypeError",
     "evalue": "unsupported operand type(s) for +: 'NoneType' and 'str'",
     "output_type": "error",
     "traceback": [
      "\u001b[0;31m---------------------------------------------------------------------------\u001b[0m",
      "\u001b[0;31mTypeError\u001b[0m                                 Traceback (most recent call last)",
      "Cell \u001b[0;32mIn[5], line 1\u001b[0m\n\u001b[0;32m----> 1\u001b[0m \u001b[43mfuct_name\u001b[49m\u001b[43m(\u001b[49m\u001b[43m)\u001b[49m\u001b[43m \u001b[49m\u001b[38;5;241;43m+\u001b[39;49m\u001b[43m \u001b[49m\u001b[38;5;124;43m\"\u001b[39;49m\u001b[38;5;124;43mhello\u001b[39;49m\u001b[38;5;124;43m\"\u001b[39;49m \u001b[38;5;66;03m# will give error as can't concatenate noneType with string\u001b[39;00m\n",
      "\u001b[0;31mTypeError\u001b[0m: unsupported operand type(s) for +: 'NoneType' and 'str'"
     ]
    }
   ],
   "source": [
    "fuct_name() + \"hello\" # will give error as can't concatenate noneType with string"
   ]
  },
  {
   "cell_type": "code",
   "execution_count": 6,
   "id": "b7250574-dbd9-4114-8aed-56006f2f541d",
   "metadata": {},
   "outputs": [
    {
     "name": "stdout",
     "output_type": "stream",
     "text": [
      "This is my return statement\n",
      "<class 'str'>\n"
     ]
    }
   ],
   "source": [
    "def test():\n",
    "    return \"This is my return statement\"\n",
    "\n",
    "print(test()) #now the data type will be string as we geting it from \n",
    "print(type(test()))"
   ]
  },
  {
   "cell_type": "code",
   "execution_count": 7,
   "id": "2b2be9b0-1063-469d-af1e-bd08c2d6ce15",
   "metadata": {},
   "outputs": [
    {
     "data": {
      "text/plain": [
       "'This is my return statement Concatenated String'"
      ]
     },
     "execution_count": 7,
     "metadata": {},
     "output_type": "execute_result"
    }
   ],
   "source": [
    "test() + \" Concatenated String\""
   ]
  },
  {
   "cell_type": "code",
   "execution_count": 8,
   "id": "b1dde76c-5bc2-4837-92b9-9567f5364f68",
   "metadata": {},
   "outputs": [
    {
     "data": {
      "text/plain": [
       "('PW', 34, 89.7, True, (4-3j))"
      ]
     },
     "execution_count": 8,
     "metadata": {},
     "output_type": "execute_result"
    }
   ],
   "source": [
    "def test2() :\n",
    "    return \"PW\", 34,89.70, True, 4-3j\n",
    "\n",
    "test2()"
   ]
  },
  {
   "cell_type": "code",
   "execution_count": 9,
   "id": "da58e02b-529c-4d73-ac63-19088aef2503",
   "metadata": {},
   "outputs": [
    {
     "data": {
      "text/plain": [
       "tuple"
      ]
     },
     "execution_count": 9,
     "metadata": {},
     "output_type": "execute_result"
    }
   ],
   "source": [
    "type(test2())"
   ]
  },
  {
   "cell_type": "code",
   "execution_count": 10,
   "id": "ad797285-6fdc-4cf4-929b-b5d85f411cbd",
   "metadata": {},
   "outputs": [],
   "source": [
    "def test3() :\n",
    "    return [1,3,6,34,98.45], (5,3,35,6), {4,6,3,5,7,4,6}, {'k1':1, 'k2':2}"
   ]
  },
  {
   "cell_type": "code",
   "execution_count": 11,
   "id": "4eca2ca8-15db-4ece-a5b5-2bedef95028b",
   "metadata": {},
   "outputs": [
    {
     "data": {
      "text/plain": [
       "([1, 3, 6, 34, 98.45], (5, 3, 35, 6), {3, 4, 5, 6, 7}, {'k1': 1, 'k2': 2})"
      ]
     },
     "execution_count": 11,
     "metadata": {},
     "output_type": "execute_result"
    }
   ],
   "source": [
    "test3()"
   ]
  },
  {
   "cell_type": "code",
   "execution_count": 12,
   "id": "09e62f03-b467-46d1-873d-1a9a4e7fedeb",
   "metadata": {},
   "outputs": [
    {
     "data": {
      "text/plain": [
       "tuple"
      ]
     },
     "execution_count": 12,
     "metadata": {},
     "output_type": "execute_result"
    }
   ],
   "source": [
    "type(test3())"
   ]
  },
  {
   "cell_type": "code",
   "execution_count": 13,
   "id": "bf090544-5672-4d8d-a0bc-ba9aa99986af",
   "metadata": {},
   "outputs": [],
   "source": [
    "a,b,c,d = test3()"
   ]
  },
  {
   "cell_type": "code",
   "execution_count": 14,
   "id": "183096c4-038d-4289-8934-571fa92747a7",
   "metadata": {},
   "outputs": [
    {
     "name": "stdout",
     "output_type": "stream",
     "text": [
      "[1, 3, 6, 34, 98.45]\n",
      "(5, 3, 35, 6)\n",
      "{3, 4, 5, 6, 7}\n",
      "{'k1': 1, 'k2': 2}\n"
     ]
    }
   ],
   "source": [
    "print(a)\n",
    "print(b)\n",
    "print(c)\n",
    "print(d)"
   ]
  },
  {
   "cell_type": "code",
   "execution_count": 15,
   "id": "7c9881b5-edaa-452b-8cc3-6741c1bd1682",
   "metadata": {},
   "outputs": [],
   "source": [
    "def test4() :\n",
    "    a = 5+6/7\n",
    "    return a"
   ]
  },
  {
   "cell_type": "code",
   "execution_count": 16,
   "id": "b95d842f-8054-44ab-bfe3-e873684ad5d2",
   "metadata": {},
   "outputs": [
    {
     "data": {
      "text/plain": [
       "5.857142857142857"
      ]
     },
     "execution_count": 16,
     "metadata": {},
     "output_type": "execute_result"
    }
   ],
   "source": [
    "test4()"
   ]
  },
  {
   "cell_type": "code",
   "execution_count": 17,
   "id": "e652bdcf-b027-4071-92fe-395ffb5b5621",
   "metadata": {},
   "outputs": [],
   "source": [
    "def test5(arg1, arg2, arg3) :\n",
    "    a= arg1 + arg2 / arg3\n",
    "    return a"
   ]
  },
  {
   "cell_type": "code",
   "execution_count": 18,
   "id": "e9bd4a85-26e3-4cf5-b0da-59ce20837337",
   "metadata": {},
   "outputs": [
    {
     "ename": "TypeError",
     "evalue": "test5() missing 3 required positional arguments: 'arg1', 'arg2', and 'arg3'",
     "output_type": "error",
     "traceback": [
      "\u001b[0;31m---------------------------------------------------------------------------\u001b[0m",
      "\u001b[0;31mTypeError\u001b[0m                                 Traceback (most recent call last)",
      "Cell \u001b[0;32mIn[18], line 1\u001b[0m\n\u001b[0;32m----> 1\u001b[0m \u001b[43mtest5\u001b[49m\u001b[43m(\u001b[49m\u001b[43m)\u001b[49m  \u001b[38;5;66;03m# will ask for arguments\u001b[39;00m\n",
      "\u001b[0;31mTypeError\u001b[0m: test5() missing 3 required positional arguments: 'arg1', 'arg2', and 'arg3'"
     ]
    }
   ],
   "source": [
    "test5()  # will ask for arguments"
   ]
  },
  {
   "cell_type": "code",
   "execution_count": 19,
   "id": "987ced26-57ea-425e-97bd-76ee34de0b05",
   "metadata": {},
   "outputs": [
    {
     "data": {
      "text/plain": [
       "4.25"
      ]
     },
     "execution_count": 19,
     "metadata": {},
     "output_type": "execute_result"
    }
   ],
   "source": [
    "test5(3,5,4)"
   ]
  },
  {
   "cell_type": "code",
   "execution_count": 20,
   "id": "57dccd1c-3b62-4f0a-bdc6-c7c06dd18cad",
   "metadata": {},
   "outputs": [
    {
     "ename": "TypeError",
     "evalue": "unsupported operand type(s) for /: 'int' and 'str'",
     "output_type": "error",
     "traceback": [
      "\u001b[0;31m---------------------------------------------------------------------------\u001b[0m",
      "\u001b[0;31mTypeError\u001b[0m                                 Traceback (most recent call last)",
      "Cell \u001b[0;32mIn[20], line 1\u001b[0m\n\u001b[0;32m----> 1\u001b[0m \u001b[43mtest5\u001b[49m\u001b[43m(\u001b[49m\u001b[38;5;241;43m5\u001b[39;49m\u001b[43m,\u001b[49m\u001b[43m \u001b[49m\u001b[38;5;241;43m6\u001b[39;49m\u001b[43m,\u001b[49m\u001b[43m \u001b[49m\u001b[38;5;124;43m'\u001b[39;49m\u001b[38;5;124;43mpw\u001b[39;49m\u001b[38;5;124;43m'\u001b[39;49m\u001b[43m)\u001b[49m\n",
      "Cell \u001b[0;32mIn[17], line 2\u001b[0m, in \u001b[0;36mtest5\u001b[0;34m(arg1, arg2, arg3)\u001b[0m\n\u001b[1;32m      1\u001b[0m \u001b[38;5;28;01mdef\u001b[39;00m \u001b[38;5;21mtest5\u001b[39m(arg1, arg2, arg3) :\n\u001b[0;32m----> 2\u001b[0m     a\u001b[38;5;241m=\u001b[39m arg1 \u001b[38;5;241m+\u001b[39m \u001b[43marg2\u001b[49m\u001b[43m \u001b[49m\u001b[38;5;241;43m/\u001b[39;49m\u001b[43m \u001b[49m\u001b[43marg3\u001b[49m\n\u001b[1;32m      3\u001b[0m     \u001b[38;5;28;01mreturn\u001b[39;00m a\n",
      "\u001b[0;31mTypeError\u001b[0m: unsupported operand type(s) for /: 'int' and 'str'"
     ]
    }
   ],
   "source": [
    "test5(5, 6, 'pw')"
   ]
  },
  {
   "cell_type": "code",
   "execution_count": 21,
   "id": "23fdb71f-8a89-4ebe-87b9-448f2adfd9c3",
   "metadata": {},
   "outputs": [],
   "source": [
    "def test6(a,b) :\n",
    "    return a+b"
   ]
  },
  {
   "cell_type": "code",
   "execution_count": 22,
   "id": "29fd101a-9d35-46b5-8826-1bce0970db6c",
   "metadata": {},
   "outputs": [
    {
     "data": {
      "text/plain": [
       "7"
      ]
     },
     "execution_count": 22,
     "metadata": {},
     "output_type": "execute_result"
    }
   ],
   "source": [
    "test6(3,4)"
   ]
  },
  {
   "cell_type": "code",
   "execution_count": 23,
   "id": "f8c09973-f889-4864-9b49-cbecaa046e15",
   "metadata": {},
   "outputs": [
    {
     "data": {
      "text/plain": [
       "'pwskills'"
      ]
     },
     "execution_count": 23,
     "metadata": {},
     "output_type": "execute_result"
    }
   ],
   "source": [
    "test6('pw','skills')"
   ]
  },
  {
   "cell_type": "code",
   "execution_count": 24,
   "id": "6adb2689-8e3a-455b-b1fd-f093167a1aa5",
   "metadata": {},
   "outputs": [
    {
     "ename": "TypeError",
     "evalue": "unsupported operand type(s) for +: 'int' and 'str'",
     "output_type": "error",
     "traceback": [
      "\u001b[0;31m---------------------------------------------------------------------------\u001b[0m",
      "\u001b[0;31mTypeError\u001b[0m                                 Traceback (most recent call last)",
      "Cell \u001b[0;32mIn[24], line 1\u001b[0m\n\u001b[0;32m----> 1\u001b[0m \u001b[43mtest6\u001b[49m\u001b[43m(\u001b[49m\u001b[38;5;241;43m4\u001b[39;49m\u001b[43m,\u001b[49m\u001b[43m \u001b[49m\u001b[38;5;124;43m'\u001b[39;49m\u001b[38;5;124;43mpw\u001b[39;49m\u001b[38;5;124;43m'\u001b[39;49m\u001b[43m)\u001b[49m\n",
      "Cell \u001b[0;32mIn[21], line 2\u001b[0m, in \u001b[0;36mtest6\u001b[0;34m(a, b)\u001b[0m\n\u001b[1;32m      1\u001b[0m \u001b[38;5;28;01mdef\u001b[39;00m \u001b[38;5;21mtest6\u001b[39m(a,b) :\n\u001b[0;32m----> 2\u001b[0m     \u001b[38;5;28;01mreturn\u001b[39;00m \u001b[43ma\u001b[49m\u001b[38;5;241;43m+\u001b[39;49m\u001b[43mb\u001b[49m\n",
      "\u001b[0;31mTypeError\u001b[0m: unsupported operand type(s) for +: 'int' and 'str'"
     ]
    }
   ],
   "source": [
    "test6(4, 'pw')"
   ]
  },
  {
   "cell_type": "code",
   "execution_count": 25,
   "id": "8987543a-f8a6-4649-9ee7-bdc7779ea759",
   "metadata": {},
   "outputs": [
    {
     "data": {
      "text/plain": [
       "[1, 4, 2, 6, 2, 7, 42]"
      ]
     },
     "execution_count": 25,
     "metadata": {},
     "output_type": "execute_result"
    }
   ],
   "source": [
    "test6([1,4,2,6], [2,7,42])"
   ]
  },
  {
   "cell_type": "code",
   "execution_count": 26,
   "id": "17738e09-5e20-4e70-aa44-edcab7b181a0",
   "metadata": {},
   "outputs": [],
   "source": [
    "l = [1,4,6,7.3,True, 'pwskills', [3,12,5]]"
   ]
  },
  {
   "cell_type": "code",
   "execution_count": 27,
   "id": "e51dbe2b-7e10-41a7-b644-179bf7d69fd5",
   "metadata": {},
   "outputs": [
    {
     "data": {
      "text/plain": [
       "[1, 4, 6, 7.3]"
      ]
     },
     "execution_count": 27,
     "metadata": {},
     "output_type": "execute_result"
    }
   ],
   "source": [
    "# writing a function which will return a list having all the integers in the list'l'\n",
    "l1 = []\n",
    "for i in l:\n",
    "    if type(i) == int or type(i) == float :\n",
    "        l1.append(i)\n",
    "        \n",
    "l1"
   ]
  },
  {
   "cell_type": "code",
   "execution_count": 28,
   "id": "bd096a1a-f9b5-4e44-93a1-cb7337d05936",
   "metadata": {},
   "outputs": [],
   "source": [
    "def test7(listArg):\n",
    "    l1 = []\n",
    "    for i in listArg:\n",
    "        if type(i) == int or type(i) == float :\n",
    "            l1.append(i)\n",
    "    return l1"
   ]
  },
  {
   "cell_type": "code",
   "execution_count": 29,
   "id": "54720b60-be04-4572-980d-062c04481888",
   "metadata": {},
   "outputs": [
    {
     "data": {
      "text/plain": [
       "[1, 4, 6, 7.3]"
      ]
     },
     "execution_count": 29,
     "metadata": {},
     "output_type": "execute_result"
    }
   ],
   "source": [
    "test7(l)"
   ]
  },
  {
   "cell_type": "code",
   "execution_count": 30,
   "id": "69c089bd-9137-433e-9815-d9a9395d074c",
   "metadata": {},
   "outputs": [],
   "source": [
    "def test8(lis):\n",
    "    l = []\n",
    "    for i in lis:\n",
    "        if type(i)==list:\n",
    "            for j in i:\n",
    "                if type(j) == int or type(j) == float:\n",
    "                    l.append(j)\n",
    "        elif type(i)==int or type(i)==float:\n",
    "            l.append(i)\n",
    "    return l"
   ]
  },
  {
   "cell_type": "code",
   "execution_count": 31,
   "id": "e1fc5ca1-6917-4067-9a3a-2de1b4f7b863",
   "metadata": {},
   "outputs": [
    {
     "data": {
      "text/plain": [
       "[1, 4, 6, 7.3, 3, 12, 5]"
      ]
     },
     "execution_count": 31,
     "metadata": {},
     "output_type": "execute_result"
    }
   ],
   "source": [
    "test8(l)"
   ]
  },
  {
   "cell_type": "code",
   "execution_count": 32,
   "id": "0be75ee4-0a9b-4f4b-8471-d4394c97fac0",
   "metadata": {},
   "outputs": [
    {
     "data": {
      "text/plain": [
       "[1, 4, 6, 7.3, True, 'pwskills', [3, 12, 5]]"
      ]
     },
     "execution_count": 32,
     "metadata": {},
     "output_type": "execute_result"
    }
   ],
   "source": [
    "l"
   ]
  },
  {
   "cell_type": "code",
   "execution_count": 33,
   "id": "be44e281-0370-4a25-af0f-677a0df85b59",
   "metadata": {},
   "outputs": [
    {
     "ename": "TypeError",
     "evalue": "test8() missing 1 required positional argument: 'lis'",
     "output_type": "error",
     "traceback": [
      "\u001b[0;31m---------------------------------------------------------------------------\u001b[0m",
      "\u001b[0;31mTypeError\u001b[0m                                 Traceback (most recent call last)",
      "Cell \u001b[0;32mIn[33], line 1\u001b[0m\n\u001b[0;32m----> 1\u001b[0m \u001b[43mtest8\u001b[49m\u001b[43m(\u001b[49m\u001b[43m)\u001b[49m  \n\u001b[1;32m      2\u001b[0m \u001b[38;5;66;03m# By shift+tab we will not see any DOCSTRING i.e. function brief\u001b[39;00m\n\u001b[1;32m      3\u001b[0m \u001b[38;5;66;03m# To do so let's see next cell\u001b[39;00m\n",
      "\u001b[0;31mTypeError\u001b[0m: test8() missing 1 required positional argument: 'lis'"
     ]
    }
   ],
   "source": [
    "test8()  \n",
    "# By shift+tab we will not see any DOCSTRING i.e. function brief\n",
    "# To do so let's see next cell"
   ]
  },
  {
   "cell_type": "code",
   "execution_count": 34,
   "id": "095498f5-13fb-4130-8b98-438ab4c6c69e",
   "metadata": {},
   "outputs": [],
   "source": [
    "def test9(lis):\n",
    "    \n",
    "    ''' This is my functions to extract all numeric data from list  '''\n",
    "    \n",
    "    l = []\n",
    "    for i in lis:\n",
    "        if type(i)==list:\n",
    "            for j in i:\n",
    "                if type(j) == int or type(j) == float:\n",
    "                    l.append(j)\n",
    "        elif type(i)==int or type(i)==float:\n",
    "            l.append(i)\n",
    "    return l"
   ]
  },
  {
   "cell_type": "code",
   "execution_count": 35,
   "id": "6002ab46-dda4-4ee5-b9ab-209dd2b07e29",
   "metadata": {},
   "outputs": [
    {
     "data": {
      "text/plain": [
       "[1, 4, 6, 7.3, 3, 12, 5]"
      ]
     },
     "execution_count": 35,
     "metadata": {},
     "output_type": "execute_result"
    }
   ],
   "source": [
    "test9(l) # ( now on shift+tab here will give our comment as DOCSTRING to give an idea of function to user )"
   ]
  },
  {
   "cell_type": "code",
   "execution_count": 36,
   "id": "5684f022-ca0f-47c3-8e6b-abec0b22561d",
   "metadata": {},
   "outputs": [],
   "source": [
    "# dynamic argument passing\n",
    "def test10(*argsName): # '*' is key to understand hereas it allows to pass multiple n number of arguments\n",
    "    return argsName"
   ]
  },
  {
   "cell_type": "code",
   "execution_count": 37,
   "id": "8e2d271e-c1e2-4c0d-8e58-6f44af6d5206",
   "metadata": {},
   "outputs": [
    {
     "data": {
      "text/plain": [
       "()"
      ]
     },
     "execution_count": 37,
     "metadata": {},
     "output_type": "execute_result"
    }
   ],
   "source": [
    "test10()"
   ]
  },
  {
   "cell_type": "code",
   "execution_count": 38,
   "id": "91e85c8d-27d0-4c8f-b2b1-8467743b1c27",
   "metadata": {},
   "outputs": [
    {
     "data": {
      "text/plain": [
       "(1, 4, 9)"
      ]
     },
     "execution_count": 38,
     "metadata": {},
     "output_type": "execute_result"
    }
   ],
   "source": [
    "test10(1,4,9)"
   ]
  },
  {
   "cell_type": "code",
   "execution_count": 39,
   "id": "c0e40fd1-c47d-4879-8298-cc1f2bfac9a8",
   "metadata": {},
   "outputs": [
    {
     "data": {
      "text/plain": [
       "(True, 'pwskills', [1, 4, 3], 90.302)"
      ]
     },
     "execution_count": 39,
     "metadata": {},
     "output_type": "execute_result"
    }
   ],
   "source": [
    "test10(True, 'pwskills', [1,4,3], 90.302) # now we can pass n number of arguments to function\n",
    "\n",
    "# it do so in form of tuple"
   ]
  },
  {
   "cell_type": "code",
   "execution_count": 40,
   "id": "03341fc5-9a06-4bf6-b79e-348016fcd24f",
   "metadata": {},
   "outputs": [],
   "source": [
    "def test11(*argVar, a):\n",
    "    return a"
   ]
  },
  {
   "cell_type": "code",
   "execution_count": 41,
   "id": "730f13c4-9c75-4e0a-a8ae-4e8c27bb2d6b",
   "metadata": {},
   "outputs": [
    {
     "ename": "TypeError",
     "evalue": "test11() missing 1 required keyword-only argument: 'a'",
     "output_type": "error",
     "traceback": [
      "\u001b[0;31m---------------------------------------------------------------------------\u001b[0m",
      "\u001b[0;31mTypeError\u001b[0m                                 Traceback (most recent call last)",
      "Cell \u001b[0;32mIn[41], line 1\u001b[0m\n\u001b[0;32m----> 1\u001b[0m \u001b[43mtest11\u001b[49m\u001b[43m(\u001b[49m\u001b[38;5;241;43m1\u001b[39;49m\u001b[43m,\u001b[49m\u001b[38;5;241;43m3\u001b[39;49m\u001b[43m,\u001b[49m\u001b[38;5;241;43m5\u001b[39;49m\u001b[43m,\u001b[49m\u001b[38;5;241;43m3\u001b[39;49m\u001b[43m)\u001b[49m \u001b[38;5;66;03m# error as it will confuse with assigning which argument to which in our function\u001b[39;00m\n",
      "\u001b[0;31mTypeError\u001b[0m: test11() missing 1 required keyword-only argument: 'a'"
     ]
    }
   ],
   "source": [
    "test11(1,3,5,3) # error as it will confuse with assigning which argument to which in our function"
   ]
  },
  {
   "cell_type": "code",
   "execution_count": 42,
   "id": "aab6556b-c879-46d3-b443-f3a06435104e",
   "metadata": {},
   "outputs": [
    {
     "data": {
      "text/plain": [
       "90"
      ]
     },
     "execution_count": 42,
     "metadata": {},
     "output_type": "execute_result"
    }
   ],
   "source": [
    "test11(1,4,2,4, a=90) # now here will be no error"
   ]
  },
  {
   "cell_type": "code",
   "execution_count": 43,
   "id": "428b891a-9422-45c3-b82e-0812f950613b",
   "metadata": {},
   "outputs": [],
   "source": [
    "def test12(c,d, a=90, b=8.9):\n",
    "    return a,b,c,d"
   ]
  },
  {
   "cell_type": "code",
   "execution_count": 44,
   "id": "d9d51ada-063f-4d2d-9c00-26f15a37c4b4",
   "metadata": {},
   "outputs": [
    {
     "data": {
      "text/plain": [
       "(90, 8.9, 87, 12)"
      ]
     },
     "execution_count": 44,
     "metadata": {},
     "output_type": "execute_result"
    }
   ],
   "source": [
    "test12(87,12)"
   ]
  },
  {
   "cell_type": "code",
   "execution_count": 45,
   "id": "d32927fa-2e77-49dc-97fa-0429198c5373",
   "metadata": {},
   "outputs": [
    {
     "ename": "SyntaxError",
     "evalue": "non-default argument follows default argument (4013953636.py, line 1)",
     "output_type": "error",
     "traceback": [
      "\u001b[0;36m  Cell \u001b[0;32mIn[45], line 1\u001b[0;36m\u001b[0m\n\u001b[0;31m    def test13(a, b=90, c, d=8.9):\u001b[0m\n\u001b[0m                        ^\u001b[0m\n\u001b[0;31mSyntaxError\u001b[0m\u001b[0;31m:\u001b[0m non-default argument follows default argument\n"
     ]
    }
   ],
   "source": [
    "def test13(a, b=90, c, d=8.9):\n",
    "    return a,b,c,d"
   ]
  },
  {
   "cell_type": "code",
   "execution_count": 46,
   "id": "f21c2d5e-a1b8-4d99-bf96-b46d554432e9",
   "metadata": {},
   "outputs": [
    {
     "data": {
      "text/plain": [
       "(67, 8.9, 5, 9)"
      ]
     },
     "execution_count": 46,
     "metadata": {},
     "output_type": "execute_result"
    }
   ],
   "source": [
    "test12(5,9,a=67) # can override default value of argument"
   ]
  },
  {
   "cell_type": "code",
   "execution_count": 47,
   "id": "d00717e0-6398-466b-8e39-add8d29a82df",
   "metadata": {},
   "outputs": [],
   "source": [
    "# keyword args\n",
    "# for key-value pair form\n",
    "def test14(**kwargsVar):\n",
    "    return kwargsVar"
   ]
  },
  {
   "cell_type": "code",
   "execution_count": 48,
   "id": "619383e3-c4bf-4cd6-a362-9c1ca2879c88",
   "metadata": {},
   "outputs": [
    {
     "data": {
      "text/plain": [
       "dict"
      ]
     },
     "execution_count": 48,
     "metadata": {},
     "output_type": "execute_result"
    }
   ],
   "source": [
    "type(test14())"
   ]
  },
  {
   "cell_type": "code",
   "execution_count": 49,
   "id": "45d13b61-dc03-4bab-a6ba-c3460b563b31",
   "metadata": {},
   "outputs": [
    {
     "data": {
      "text/plain": [
       "{'a': [1, 4, 3], 'b': 'pwskills', 'c': 98.75}"
      ]
     },
     "execution_count": 49,
     "metadata": {},
     "output_type": "execute_result"
    }
   ],
   "source": [
    "test14(a=[1,4,3], b = 'pwskills', c = 98.75)"
   ]
  },
  {
   "cell_type": "code",
   "execution_count": 50,
   "id": "ae63d664-b074-45b0-9fe5-3d253114d320",
   "metadata": {},
   "outputs": [],
   "source": [
    "dictVar = test14(a=[1,4,3], b = 'pwskills', c = 98.75)"
   ]
  },
  {
   "cell_type": "code",
   "execution_count": 51,
   "id": "1adf773e-63db-423a-b65e-ea7a662919bf",
   "metadata": {},
   "outputs": [
    {
     "data": {
      "text/plain": [
       "{'a': [1, 4, 3], 'b': 'pwskills', 'c': 98.75}"
      ]
     },
     "execution_count": 51,
     "metadata": {},
     "output_type": "execute_result"
    }
   ],
   "source": [
    "dictVar"
   ]
  },
  {
   "cell_type": "code",
   "execution_count": null,
   "id": "ec2ce403-f412-44ca-8d1f-32374814bfcf",
   "metadata": {},
   "outputs": [],
   "source": []
  },
  {
   "cell_type": "code",
   "execution_count": null,
   "id": "9795cc3b-f5ee-4a2d-966f-7f06f3f65957",
   "metadata": {},
   "outputs": [],
   "source": []
  }
 ],
 "metadata": {
  "kernelspec": {
   "display_name": "Python 3 (ipykernel)",
   "language": "python",
   "name": "python3"
  },
  "language_info": {
   "codemirror_mode": {
    "name": "ipython",
    "version": 3
   },
   "file_extension": ".py",
   "mimetype": "text/x-python",
   "name": "python",
   "nbconvert_exporter": "python",
   "pygments_lexer": "ipython3",
   "version": "3.10.8"
  }
 },
 "nbformat": 4,
 "nbformat_minor": 5
}
