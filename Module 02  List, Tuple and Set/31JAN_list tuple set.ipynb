{
 "cells": [
  {
   "cell_type": "markdown",
   "id": "b4a1b2b4-7cda-4acd-b400-dde19f90475c",
   "metadata": {},
   "source": [
    "## LIST"
   ]
  },
  {
   "cell_type": "code",
   "execution_count": 1,
   "id": "ded8ae85-2678-40bf-86da-0e4fad4ca74e",
   "metadata": {},
   "outputs": [],
   "source": [
    "l = [1,45,67.93,False,6+9j,'k','pwskills']\n",
    "# list can hold different types of data in square bracket \"[ ]\""
   ]
  },
  {
   "cell_type": "code",
   "execution_count": 2,
   "id": "5f1cce61-b111-484e-b4a3-337fce1e615d",
   "metadata": {},
   "outputs": [
    {
     "data": {
      "text/plain": [
       "[1, 45, 67.93, False, (6+9j), 'k', 'pwskills']"
      ]
     },
     "execution_count": 2,
     "metadata": {},
     "output_type": "execute_result"
    }
   ],
   "source": [
    "l"
   ]
  },
  {
   "cell_type": "code",
   "execution_count": 3,
   "id": "27461147-91d9-424b-8b1a-b0081bc1cb32",
   "metadata": {},
   "outputs": [
    {
     "name": "stdout",
     "output_type": "stream",
     "text": [
      "[1, 45, 67.93, False, (6+9j), 'k', 'pwskills']\n"
     ]
    }
   ],
   "source": [
    "print(l)"
   ]
  },
  {
   "cell_type": "code",
   "execution_count": 4,
   "id": "743458e6-d21e-4e30-9cdb-1cc9e22385da",
   "metadata": {},
   "outputs": [
    {
     "data": {
      "text/plain": [
       "list"
      ]
     },
     "execution_count": 4,
     "metadata": {},
     "output_type": "execute_result"
    }
   ],
   "source": [
    "type(l)"
   ]
  },
  {
   "cell_type": "code",
   "execution_count": 5,
   "id": "99f8fdd9-3d82-47b1-aacc-128db28fe77c",
   "metadata": {},
   "outputs": [
    {
     "name": "stdout",
     "output_type": "stream",
     "text": [
      "k\n",
      "pwskills\n"
     ]
    }
   ],
   "source": [
    "# getting elements from a list\n",
    "# it is similar to string in this manner\n",
    "print(l[5]) #forward indexing\n",
    "print(l[-1]) # backward indexing"
   ]
  },
  {
   "cell_type": "code",
   "execution_count": 6,
   "id": "ab0b9689-d578-4beb-9ecb-87310dd9e249",
   "metadata": {},
   "outputs": [
    {
     "name": "stdout",
     "output_type": "stream",
     "text": [
      "1\n",
      "False\n"
     ]
    },
    {
     "ename": "IndexError",
     "evalue": "list index out of range",
     "output_type": "error",
     "traceback": [
      "\u001b[0;31m---------------------------------------------------------------------------\u001b[0m",
      "\u001b[0;31mIndexError\u001b[0m                                Traceback (most recent call last)",
      "Cell \u001b[0;32mIn[6], line 3\u001b[0m\n\u001b[1;32m      1\u001b[0m \u001b[38;5;28mprint\u001b[39m(l[\u001b[38;5;241m0\u001b[39m])\n\u001b[1;32m      2\u001b[0m \u001b[38;5;28mprint\u001b[39m(l[\u001b[38;5;241m3\u001b[39m])\n\u001b[0;32m----> 3\u001b[0m \u001b[38;5;28mprint\u001b[39m(\u001b[43ml\u001b[49m\u001b[43m[\u001b[49m\u001b[38;5;241;43m9\u001b[39;49m\u001b[43m]\u001b[49m)\n",
      "\u001b[0;31mIndexError\u001b[0m: list index out of range"
     ]
    }
   ],
   "source": [
    "print(l[0])\n",
    "print(l[3])\n",
    "print(l[9])"
   ]
  },
  {
   "cell_type": "markdown",
   "id": "dd18b21b-5716-465d-8a5e-ae3e4bca1977",
   "metadata": {},
   "source": [
    "#### Slicing in LIST\n",
    "\n",
    "#### listVar[ initalIndex : lastIndex : jump ]"
   ]
  },
  {
   "cell_type": "code",
   "execution_count": 7,
   "id": "1480b0d9-61e8-4506-8a8a-21cf15a64e76",
   "metadata": {},
   "outputs": [
    {
     "data": {
      "text/plain": [
       "[]"
      ]
     },
     "execution_count": 7,
     "metadata": {},
     "output_type": "execute_result"
    }
   ],
   "source": [
    "l[-2:-7]"
   ]
  },
  {
   "cell_type": "code",
   "execution_count": 8,
   "id": "0ba1cbce-e13e-4390-9e67-c587b8c4e19b",
   "metadata": {},
   "outputs": [
    {
     "data": {
      "text/plain": [
       "[67.93, False, (6+9j), 'k', 'pwskills']"
      ]
     },
     "execution_count": 8,
     "metadata": {},
     "output_type": "execute_result"
    }
   ],
   "source": [
    "l[2:7]"
   ]
  },
  {
   "cell_type": "code",
   "execution_count": 9,
   "id": "daf7d8ee-56af-40fc-a993-aef01ca84fc7",
   "metadata": {},
   "outputs": [
    {
     "data": {
      "text/plain": [
       "[67.93, (6+9j), 'pwskills']"
      ]
     },
     "execution_count": 9,
     "metadata": {},
     "output_type": "execute_result"
    }
   ],
   "source": [
    "l[2:7:2]"
   ]
  },
  {
   "cell_type": "code",
   "execution_count": 10,
   "id": "c9565405-5a66-4fad-b0f9-b9e4068a52bd",
   "metadata": {},
   "outputs": [
    {
     "data": {
      "text/plain": [
       "['pwskills', 'k', (6+9j), False, 67.93, 45, 1]"
      ]
     },
     "execution_count": 10,
     "metadata": {},
     "output_type": "execute_result"
    }
   ],
   "source": [
    "l[::-1] # list in reverse order"
   ]
  },
  {
   "cell_type": "code",
   "execution_count": 11,
   "id": "d4b4e7ff-7f56-4267-9d29-704742f9d67f",
   "metadata": {},
   "outputs": [
    {
     "data": {
      "text/plain": [
       "['pwskills']"
      ]
     },
     "execution_count": 11,
     "metadata": {},
     "output_type": "execute_result"
    }
   ],
   "source": [
    "l[-1:]"
   ]
  },
  {
   "cell_type": "code",
   "execution_count": 12,
   "id": "3633c29b-372a-423e-8114-2c1e001307ac",
   "metadata": {},
   "outputs": [
    {
     "data": {
      "text/plain": [
       "[67.93, False, (6+9j), 'k', 'pwskills']"
      ]
     },
     "execution_count": 12,
     "metadata": {},
     "output_type": "execute_result"
    }
   ],
   "source": [
    "l[-5:]"
   ]
  },
  {
   "cell_type": "code",
   "execution_count": 13,
   "id": "d6a3ce75-e0c7-4591-b635-2dd75226bc58",
   "metadata": {},
   "outputs": [
    {
     "data": {
      "text/plain": [
       "[1, 67.93, (6+9j), 'pwskills']"
      ]
     },
     "execution_count": 13,
     "metadata": {},
     "output_type": "execute_result"
    }
   ],
   "source": [
    "l[-7::2]"
   ]
  },
  {
   "cell_type": "code",
   "execution_count": 14,
   "id": "1932b75e-81ad-4eab-9567-d159dd41903c",
   "metadata": {},
   "outputs": [
    {
     "data": {
      "text/plain": [
       "[1]"
      ]
     },
     "execution_count": 14,
     "metadata": {},
     "output_type": "execute_result"
    }
   ],
   "source": [
    "l[-7::-2]"
   ]
  },
  {
   "cell_type": "code",
   "execution_count": 15,
   "id": "bceca98e-03db-4b53-9377-985ac51bfdd3",
   "metadata": {},
   "outputs": [
    {
     "data": {
      "text/plain": [
       "[(6+9j), 67.93, 1]"
      ]
     },
     "execution_count": 15,
     "metadata": {},
     "output_type": "execute_result"
    }
   ],
   "source": [
    "l[-3::-2]"
   ]
  },
  {
   "cell_type": "code",
   "execution_count": 16,
   "id": "0cf9c82c-c490-42bc-83e6-b3f1b64e04ef",
   "metadata": {},
   "outputs": [
    {
     "data": {
      "text/plain": [
       "[1, 45, 67.93, False, (6+9j), 'k', 'pwskills']"
      ]
     },
     "execution_count": 16,
     "metadata": {},
     "output_type": "execute_result"
    }
   ],
   "source": [
    "l"
   ]
  },
  {
   "cell_type": "code",
   "execution_count": 17,
   "id": "c1f034a1-1d6c-477f-900b-13e3dae6591d",
   "metadata": {},
   "outputs": [
    {
     "data": {
      "text/plain": [
       "[1, 67.93, (6+9j), 'pwskills']"
      ]
     },
     "execution_count": 17,
     "metadata": {},
     "output_type": "execute_result"
    }
   ],
   "source": [
    "l[::2]"
   ]
  },
  {
   "cell_type": "markdown",
   "id": "8f5e5ecf-6d5d-4963-b3c0-44de9f8498cb",
   "metadata": {},
   "source": [
    "#### Concatenation"
   ]
  },
  {
   "cell_type": "code",
   "execution_count": 18,
   "id": "2bd92366-69d2-471b-ba2b-0093da57dab1",
   "metadata": {},
   "outputs": [],
   "source": [
    "s = \"GATE24\""
   ]
  },
  {
   "cell_type": "code",
   "execution_count": 19,
   "id": "fb290394-5e91-43f7-9de8-7c722f6309ba",
   "metadata": {},
   "outputs": [
    {
     "ename": "TypeError",
     "evalue": "can only concatenate list (not \"str\") to list",
     "output_type": "error",
     "traceback": [
      "\u001b[0;31m---------------------------------------------------------------------------\u001b[0m",
      "\u001b[0;31mTypeError\u001b[0m                                 Traceback (most recent call last)",
      "Cell \u001b[0;32mIn[19], line 1\u001b[0m\n\u001b[0;32m----> 1\u001b[0m \u001b[43ml\u001b[49m\u001b[43m \u001b[49m\u001b[38;5;241;43m+\u001b[39;49m\u001b[43m \u001b[49m\u001b[43ms\u001b[49m \u001b[38;5;66;03m#can't conacatenate list with string\u001b[39;00m\n",
      "\u001b[0;31mTypeError\u001b[0m: can only concatenate list (not \"str\") to list"
     ]
    }
   ],
   "source": [
    "l + s #can't conacatenate list with string"
   ]
  },
  {
   "cell_type": "code",
   "execution_count": 20,
   "id": "e9f2e3b9-e1b8-43ea-8878-bbf81fb5c95d",
   "metadata": {},
   "outputs": [
    {
     "data": {
      "text/plain": [
       "\"[1, 45, 67.93, False, (6+9j), 'k', 'pwskills']GATE24\""
      ]
     },
     "execution_count": 20,
     "metadata": {},
     "output_type": "execute_result"
    }
   ],
   "source": [
    "str(l) + s"
   ]
  },
  {
   "cell_type": "code",
   "execution_count": 21,
   "id": "f4d51652-6ad4-4172-8c64-7c90dc203386",
   "metadata": {},
   "outputs": [
    {
     "data": {
      "text/plain": [
       "[1, 45, 67.93, False, (6+9j), 'k', 'pwskills', 'G', 'A', 'T', 'E', '2', '4']"
      ]
     },
     "execution_count": 21,
     "metadata": {},
     "output_type": "execute_result"
    }
   ],
   "source": [
    "l + list(s)"
   ]
  },
  {
   "cell_type": "markdown",
   "id": "0057cc3b-4a4b-4bcb-af22-8514438ff97b",
   "metadata": {},
   "source": [
    "list( ) will break given string into chars as shown in above script"
   ]
  },
  {
   "cell_type": "code",
   "execution_count": 22,
   "id": "393ce95a-cddc-44c2-8eb9-eea7f4972058",
   "metadata": {},
   "outputs": [
    {
     "name": "stdout",
     "output_type": "stream",
     "text": [
      "[1, 45, 67.93, False, (6+9j), 'k', 'pwskills']\n"
     ]
    }
   ],
   "source": [
    "print(l)"
   ]
  },
  {
   "cell_type": "code",
   "execution_count": 23,
   "id": "4f7a51ac-80eb-4386-a740-f840267c3806",
   "metadata": {},
   "outputs": [
    {
     "data": {
      "text/plain": [
       "'pw'"
      ]
     },
     "execution_count": 23,
     "metadata": {},
     "output_type": "execute_result"
    }
   ],
   "source": [
    "#getting \"pw\" only from this list\n",
    "# for this first we get full element \"pwskills\" then we go for \"pw\" part\n",
    "\n",
    "l[6][0:2]"
   ]
  },
  {
   "cell_type": "code",
   "execution_count": 24,
   "id": "a8f7bbbe-890f-4adc-81e3-2e3a4cfe3607",
   "metadata": {},
   "outputs": [
    {
     "ename": "TypeError",
     "evalue": "'bool' object is not subscriptable",
     "output_type": "error",
     "traceback": [
      "\u001b[0;31m---------------------------------------------------------------------------\u001b[0m",
      "\u001b[0;31mTypeError\u001b[0m                                 Traceback (most recent call last)",
      "Cell \u001b[0;32mIn[24], line 1\u001b[0m\n\u001b[0;32m----> 1\u001b[0m \u001b[43ml\u001b[49m\u001b[43m[\u001b[49m\u001b[38;5;241;43m3\u001b[39;49m\u001b[43m]\u001b[49m\u001b[43m[\u001b[49m\u001b[38;5;241;43m0\u001b[39;49m\u001b[43m:\u001b[49m\u001b[38;5;241;43m1\u001b[39;49m\u001b[43m]\u001b[49m \u001b[38;5;66;03m# trying to get 'F' from boolean 'False'\u001b[39;00m\n",
      "\u001b[0;31mTypeError\u001b[0m: 'bool' object is not subscriptable"
     ]
    }
   ],
   "source": [
    "l[3][0:1] # trying to get 'F' from boolean 'False'"
   ]
  },
  {
   "cell_type": "code",
   "execution_count": 25,
   "id": "d8c7264f-d497-473e-aec1-db9819e8764f",
   "metadata": {},
   "outputs": [
    {
     "ename": "TypeError",
     "evalue": "'bool' object is not subscriptable",
     "output_type": "error",
     "traceback": [
      "\u001b[0;31m---------------------------------------------------------------------------\u001b[0m",
      "\u001b[0;31mTypeError\u001b[0m                                 Traceback (most recent call last)",
      "Cell \u001b[0;32mIn[25], line 1\u001b[0m\n\u001b[0;32m----> 1\u001b[0m \u001b[38;5;28mstr\u001b[39m(\u001b[43ml\u001b[49m\u001b[43m[\u001b[49m\u001b[38;5;241;43m3\u001b[39;49m\u001b[43m]\u001b[49m\u001b[43m[\u001b[49m\u001b[38;5;241;43m0\u001b[39;49m\u001b[43m:\u001b[49m\u001b[38;5;241;43m1\u001b[39;49m\u001b[43m]\u001b[49m)\n",
      "\u001b[0;31mTypeError\u001b[0m: 'bool' object is not subscriptable"
     ]
    }
   ],
   "source": [
    "str(l[3][0:1])"
   ]
  },
  {
   "cell_type": "code",
   "execution_count": 26,
   "id": "ccf4e472-44c4-4c9b-af4e-2c80ed144cfc",
   "metadata": {},
   "outputs": [
    {
     "data": {
      "text/plain": [
       "'F'"
      ]
     },
     "execution_count": 26,
     "metadata": {},
     "output_type": "execute_result"
    }
   ],
   "source": [
    "str(l[3])[0:1]"
   ]
  },
  {
   "cell_type": "code",
   "execution_count": 27,
   "id": "bbaa1e8d-ca06-42fb-922f-c131cb4ad901",
   "metadata": {},
   "outputs": [
    {
     "ename": "TypeError",
     "evalue": "can only concatenate list (not \"int\") to list",
     "output_type": "error",
     "traceback": [
      "\u001b[0;31m---------------------------------------------------------------------------\u001b[0m",
      "\u001b[0;31mTypeError\u001b[0m                                 Traceback (most recent call last)",
      "Cell \u001b[0;32mIn[27], line 1\u001b[0m\n\u001b[0;32m----> 1\u001b[0m \u001b[43ml\u001b[49m\u001b[38;5;241;43m+\u001b[39;49m\u001b[38;5;241;43m7\u001b[39;49m\n",
      "\u001b[0;31mTypeError\u001b[0m: can only concatenate list (not \"int\") to list"
     ]
    }
   ],
   "source": [
    "l+7"
   ]
  },
  {
   "cell_type": "code",
   "execution_count": 28,
   "id": "8058923d-1239-4c75-a218-2695f5bf944b",
   "metadata": {},
   "outputs": [
    {
     "ename": "TypeError",
     "evalue": "'int' object is not iterable",
     "output_type": "error",
     "traceback": [
      "\u001b[0;31m---------------------------------------------------------------------------\u001b[0m",
      "\u001b[0;31mTypeError\u001b[0m                                 Traceback (most recent call last)",
      "Cell \u001b[0;32mIn[28], line 1\u001b[0m\n\u001b[0;32m----> 1\u001b[0m l \u001b[38;5;241m+\u001b[39m \u001b[38;5;28;43mlist\u001b[39;49m\u001b[43m(\u001b[49m\u001b[38;5;241;43m5\u001b[39;49m\u001b[43m)\u001b[49m\n",
      "\u001b[0;31mTypeError\u001b[0m: 'int' object is not iterable"
     ]
    }
   ],
   "source": [
    "l + list(5)"
   ]
  },
  {
   "cell_type": "code",
   "execution_count": 29,
   "id": "99993ebf-d75e-47c3-88fc-caa625c269bf",
   "metadata": {},
   "outputs": [],
   "source": [
    "z = [5, 8.48, 75]"
   ]
  },
  {
   "cell_type": "code",
   "execution_count": 30,
   "id": "0d0c4313-7fcd-45e4-b2a1-ded4f264f050",
   "metadata": {},
   "outputs": [
    {
     "name": "stdout",
     "output_type": "stream",
     "text": [
      "l =  [1, 45, 67.93, False, (6+9j), 'k', 'pwskills']\n",
      "\n",
      "z =  [5, 8.48, 75]\n"
     ]
    }
   ],
   "source": [
    "print(\"l = \",l)\n",
    "print()\n",
    "print(\"z = \",z)"
   ]
  },
  {
   "cell_type": "markdown",
   "id": "6543a3a1-2ba2-41b5-a5a3-9b4bc51868c1",
   "metadata": {},
   "source": [
    "#### `+` For concetanation\n",
    "#### `*` repeats data for given times"
   ]
  },
  {
   "cell_type": "code",
   "execution_count": 31,
   "id": "dc703a03-690a-4829-9346-e012df7a483c",
   "metadata": {},
   "outputs": [
    {
     "data": {
      "text/plain": [
       "[1, 45, 67.93, False, (6+9j), 'k', 'pwskills', 5, 8.48, 75]"
      ]
     },
     "execution_count": 31,
     "metadata": {},
     "output_type": "execute_result"
    }
   ],
   "source": [
    "l+z"
   ]
  },
  {
   "cell_type": "code",
   "execution_count": 32,
   "id": "a8eb96b6-f59f-477d-9cbf-66b9c93a60c3",
   "metadata": {},
   "outputs": [
    {
     "data": {
      "text/plain": [
       "[5, 8.48, 75, 5, 8.48, 75, 5, 8.48, 75]"
      ]
     },
     "execution_count": 32,
     "metadata": {},
     "output_type": "execute_result"
    }
   ],
   "source": [
    "z * 3"
   ]
  },
  {
   "cell_type": "code",
   "execution_count": 33,
   "id": "434e2bd9-0173-49a2-9bde-7e139bdf812b",
   "metadata": {},
   "outputs": [
    {
     "ename": "TypeError",
     "evalue": "can't multiply sequence by non-int of type 'list'",
     "output_type": "error",
     "traceback": [
      "\u001b[0;31m---------------------------------------------------------------------------\u001b[0m",
      "\u001b[0;31mTypeError\u001b[0m                                 Traceback (most recent call last)",
      "Cell \u001b[0;32mIn[33], line 1\u001b[0m\n\u001b[0;32m----> 1\u001b[0m \u001b[43ml\u001b[49m\u001b[43m \u001b[49m\u001b[38;5;241;43m*\u001b[39;49m\u001b[43m \u001b[49m\u001b[43mz\u001b[49m\n",
      "\u001b[0;31mTypeError\u001b[0m: can't multiply sequence by non-int of type 'list'"
     ]
    }
   ],
   "source": [
    "l * z"
   ]
  },
  {
   "cell_type": "markdown",
   "id": "4d6c2cf9-2d7b-4284-9b3f-5bd8034c6b31",
   "metadata": {},
   "source": [
    "#### Adding elements to list"
   ]
  },
  {
   "cell_type": "code",
   "execution_count": 34,
   "id": "eb839149-5861-40b1-afb3-99e3e8009fbd",
   "metadata": {},
   "outputs": [
    {
     "name": "stdout",
     "output_type": "stream",
     "text": [
      "7\n",
      "3\n",
      "\n",
      "[1, 45, 67.93, False, (6+9j), 'k', 'pwskills']\n"
     ]
    }
   ],
   "source": [
    "# getting number of elements in a list\n",
    "print(len(l))\n",
    "print(len(z))\n",
    "print()\n",
    "print(l)"
   ]
  },
  {
   "cell_type": "code",
   "execution_count": 35,
   "id": "6a3d008f-0646-4be0-92b4-058b4aa856ad",
   "metadata": {},
   "outputs": [
    {
     "name": "stdout",
     "output_type": "stream",
     "text": [
      "initial list :  [1, 45, 67.93, False, (6+9j), 'k', 'pwskills']\n",
      "updated list :  [1, 45, 67.93, False, (6+9j), 'k', 'pwskills', 5]\n"
     ]
    }
   ],
   "source": [
    "print(\"initial list : \",l)\n",
    "l.append(5) # inserting numeric 5 to at the end of list l\n",
    "\n",
    "print(\"updated list : \",l)"
   ]
  },
  {
   "cell_type": "code",
   "execution_count": 36,
   "id": "f81b73eb-52cb-4082-8fe2-879121a70b32",
   "metadata": {},
   "outputs": [
    {
     "name": "stdout",
     "output_type": "stream",
     "text": [
      "[1, 45, 67.93, False, (6+9j), 'k', 'pwskills', 5, 'GATE24']\n"
     ]
    }
   ],
   "source": [
    "l.append(s)\n",
    "print(l)"
   ]
  },
  {
   "cell_type": "code",
   "execution_count": 37,
   "id": "386b093a-84df-4c5b-a0bc-867d6e38c3df",
   "metadata": {},
   "outputs": [
    {
     "data": {
      "text/plain": [
       "[1, 45, 67.93, False, (6+9j), 'k', 'pwskills', 5, 'GATE24', [5, 8.48, 75]]"
      ]
     },
     "execution_count": 37,
     "metadata": {},
     "output_type": "execute_result"
    }
   ],
   "source": [
    "l.append(z) # nested list\n",
    "l"
   ]
  },
  {
   "cell_type": "code",
   "execution_count": 38,
   "id": "bc7a95f3-9183-40fd-b215-9a8b1156435d",
   "metadata": {},
   "outputs": [
    {
     "data": {
      "text/plain": [
       "[1, 45, 67.93, False, (6+9j), 'k', 'pwskills', 5, 'GATE24']"
      ]
     },
     "execution_count": 38,
     "metadata": {},
     "output_type": "execute_result"
    }
   ],
   "source": [
    "l.pop()\n",
    "l"
   ]
  },
  {
   "cell_type": "code",
   "execution_count": 39,
   "id": "1f9c8243-10a8-46e9-a1af-af03aae4fd18",
   "metadata": {},
   "outputs": [
    {
     "data": {
      "text/plain": [
       "'A'"
      ]
     },
     "execution_count": 39,
     "metadata": {},
     "output_type": "execute_result"
    }
   ],
   "source": [
    "l[-1][1] #getting data from nested list"
   ]
  },
  {
   "cell_type": "code",
   "execution_count": 40,
   "id": "07f7141b-84a4-45e7-954a-e0cef9e20d8d",
   "metadata": {},
   "outputs": [
    {
     "ename": "TypeError",
     "evalue": "'int' object is not iterable",
     "output_type": "error",
     "traceback": [
      "\u001b[0;31m---------------------------------------------------------------------------\u001b[0m",
      "\u001b[0;31mTypeError\u001b[0m                                 Traceback (most recent call last)",
      "Cell \u001b[0;32mIn[40], line 2\u001b[0m\n\u001b[1;32m      1\u001b[0m \u001b[38;5;66;03m# Extend list by appending elements from the iterable(data inside data, e.g. string list etc)\u001b[39;00m\n\u001b[0;32m----> 2\u001b[0m \u001b[43ml\u001b[49m\u001b[38;5;241;43m.\u001b[39;49m\u001b[43mextend\u001b[49m\u001b[43m(\u001b[49m\u001b[38;5;241;43m4\u001b[39;49m\u001b[43m)\u001b[49m\n",
      "\u001b[0;31mTypeError\u001b[0m: 'int' object is not iterable"
     ]
    }
   ],
   "source": [
    "# Extend list by appending elements from the iterable(data inside data, e.g. string list etc)\n",
    "l.extend(4)"
   ]
  },
  {
   "cell_type": "code",
   "execution_count": 41,
   "id": "8c44fa10-0c58-4e3d-8053-af923e3f6722",
   "metadata": {},
   "outputs": [
    {
     "ename": "SyntaxError",
     "evalue": "invalid syntax (2441399741.py, line 1)",
     "output_type": "error",
     "traceback": [
      "\u001b[0;36m  Cell \u001b[0;32mIn[41], line 1\u001b[0;36m\u001b[0m\n\u001b[0;31m    iterable vs iterators\u001b[0m\n\u001b[0m             ^\u001b[0m\n\u001b[0;31mSyntaxError\u001b[0m\u001b[0;31m:\u001b[0m invalid syntax\n"
     ]
    }
   ],
   "source": [
    "iterable vs iterators"
   ]
  },
  {
   "cell_type": "code",
   "execution_count": 42,
   "id": "0b02d5d5-6548-4860-a996-d858ad153486",
   "metadata": {},
   "outputs": [],
   "source": [
    "l.extend('Hello ji')"
   ]
  },
  {
   "cell_type": "code",
   "execution_count": 43,
   "id": "a6881aca-3d01-4835-a18f-94fae96fa860",
   "metadata": {},
   "outputs": [
    {
     "data": {
      "text/plain": [
       "[1,\n",
       " 45,\n",
       " 67.93,\n",
       " False,\n",
       " (6+9j),\n",
       " 'k',\n",
       " 'pwskills',\n",
       " 5,\n",
       " 'GATE24',\n",
       " 'H',\n",
       " 'e',\n",
       " 'l',\n",
       " 'l',\n",
       " 'o',\n",
       " ' ',\n",
       " 'j',\n",
       " 'i']"
      ]
     },
     "execution_count": 43,
     "metadata": {},
     "output_type": "execute_result"
    }
   ],
   "source": [
    "l"
   ]
  },
  {
   "cell_type": "code",
   "execution_count": 44,
   "id": "eb722b4a-1d52-4da4-8b95-4e0ee77c2864",
   "metadata": {},
   "outputs": [
    {
     "data": {
      "text/plain": [
       "[1,\n",
       " 45,\n",
       " 67.93,\n",
       " False,\n",
       " (6+9j),\n",
       " 'k',\n",
       " 'pwskills',\n",
       " 5,\n",
       " 'GATE24',\n",
       " 'H',\n",
       " 'e',\n",
       " 'l',\n",
       " 'l',\n",
       " 'o',\n",
       " ' ',\n",
       " 'j',\n",
       " 'i',\n",
       " '4']"
      ]
     },
     "execution_count": 44,
     "metadata": {},
     "output_type": "execute_result"
    }
   ],
   "source": [
    "l.extend('4')\n",
    "l"
   ]
  },
  {
   "cell_type": "code",
   "execution_count": 45,
   "id": "d7142ad0-1882-4553-aae1-33ac2a869979",
   "metadata": {},
   "outputs": [
    {
     "data": {
      "text/plain": [
       "[1,\n",
       " 45,\n",
       " 67.93,\n",
       " False,\n",
       " (6+9j),\n",
       " 'k',\n",
       " 'pwskills',\n",
       " 5,\n",
       " 'GATE24',\n",
       " 'H',\n",
       " 'e',\n",
       " 'l',\n",
       " 'l',\n",
       " 'o',\n",
       " ' ',\n",
       " 'j',\n",
       " 'i',\n",
       " '4',\n",
       " 1,\n",
       " 7,\n",
       " 9]"
      ]
     },
     "execution_count": 45,
     "metadata": {},
     "output_type": "execute_result"
    }
   ],
   "source": [
    "l.extend([1,7,9])\n",
    "l"
   ]
  },
  {
   "cell_type": "markdown",
   "id": "2a6663dc-d71e-40f5-b75b-4c0681ac3cdb",
   "metadata": {},
   "source": [
    "#### append() as it is add kar dega\n",
    "\n",
    "#### extend() pahle unwrap karega fir add karega"
   ]
  },
  {
   "cell_type": "code",
   "execution_count": 46,
   "id": "876b1db4-7e8f-4ca9-b23c-008ce8876be1",
   "metadata": {},
   "outputs": [
    {
     "data": {
      "text/plain": [
       "[1,\n",
       " 45,\n",
       " 'Inserted',\n",
       " 67.93,\n",
       " False,\n",
       " (6+9j),\n",
       " 'k',\n",
       " 'pwskills',\n",
       " 5,\n",
       " 'GATE24',\n",
       " 'H',\n",
       " 'e',\n",
       " 'l',\n",
       " 'l',\n",
       " 'o',\n",
       " ' ',\n",
       " 'j',\n",
       " 'i',\n",
       " '4',\n",
       " 1,\n",
       " 7,\n",
       " 9]"
      ]
     },
     "execution_count": 46,
     "metadata": {},
     "output_type": "execute_result"
    }
   ],
   "source": [
    "# inserting data at given index in a list\n",
    "# for this purpose we use insert() function\n",
    "l.insert(2, \"Inserted\")\n",
    "l"
   ]
  },
  {
   "cell_type": "code",
   "execution_count": 47,
   "id": "d41344ed-e29d-400c-97dd-ad30fdfe64eb",
   "metadata": {},
   "outputs": [
    {
     "name": "stdout",
     "output_type": "stream",
     "text": [
      "before :  (6+9j)\n",
      "after :  Vaiv07\n"
     ]
    }
   ],
   "source": [
    "print(\"before : \",l[5])\n",
    "l.insert(5, \"Vaiv07\")\n",
    "print(\"after : \",l[5])"
   ]
  },
  {
   "cell_type": "code",
   "execution_count": 48,
   "id": "4789807a-2e11-4a2f-ae0f-5f86aa953c77",
   "metadata": {},
   "outputs": [
    {
     "data": {
      "text/plain": [
       "1"
      ]
     },
     "execution_count": 48,
     "metadata": {},
     "output_type": "execute_result"
    }
   ],
   "source": [
    "l.count(\"Vaiv07\")"
   ]
  },
  {
   "cell_type": "code",
   "execution_count": 49,
   "id": "b1abaedb-b15c-4719-803a-d4f34818d3da",
   "metadata": {},
   "outputs": [
    {
     "data": {
      "text/plain": [
       "[1,\n",
       " 45,\n",
       " 'Inserted',\n",
       " 67.93,\n",
       " False,\n",
       " 'Vaiv07',\n",
       " (6+9j),\n",
       " 'k',\n",
       " 'pwskills',\n",
       " 5,\n",
       " 'GATE24',\n",
       " 'H',\n",
       " 'e',\n",
       " 'l',\n",
       " 'l',\n",
       " 'o',\n",
       " ' ',\n",
       " 'j',\n",
       " 'i',\n",
       " '4',\n",
       " 1,\n",
       " 7,\n",
       " 86.0364,\n",
       " 9]"
      ]
     },
     "execution_count": 49,
     "metadata": {},
     "output_type": "execute_result"
    }
   ],
   "source": [
    "l.insert(-1, 86.0364) # data will not added to last \n",
    "l"
   ]
  },
  {
   "cell_type": "markdown",
   "id": "3fe1a0de-06be-46f0-a150-6f4546109d27",
   "metadata": {},
   "source": [
    "here system inserted given data 86.0364 at last of list but at same time it will move last element (here '9') to one place ahead"
   ]
  },
  {
   "cell_type": "markdown",
   "id": "d17eeee9-1f15-4871-be20-cb0c58562c6a",
   "metadata": {},
   "source": [
    "#### Removing/Deleting data from list"
   ]
  },
  {
   "cell_type": "code",
   "execution_count": 50,
   "id": "8b883b75-84dd-4bf9-9678-3087d3838764",
   "metadata": {},
   "outputs": [
    {
     "name": "stdout",
     "output_type": "stream",
     "text": [
      "[1, 45, 'Inserted', 67.93, False, 'Vaiv07', (6+9j), 'k', 'pwskills', 5, 'GATE24', 'H', 'e', 'l', 'l', 'o', ' ', 'j', 'i', '4', 1, 7, 86.0364, 9]\n",
      "[1, 45, 'Inserted', 67.93, False, 'Vaiv07', (6+9j), 'k', 'pwskills', 5, 'GATE24', 'H', 'e', 'l', 'l', 'o', ' ', 'j', 'i', '4', 1, 7, 86.0364]\n"
     ]
    }
   ],
   "source": [
    "# using pop() index is -1 by default\n",
    "# it remove data at given index pop(index)\n",
    "print(l)\n",
    "l.pop()\n",
    "print(l)"
   ]
  },
  {
   "cell_type": "code",
   "execution_count": 51,
   "id": "5584605c-01ce-436e-8f49-3cd1848f5dd5",
   "metadata": {},
   "outputs": [
    {
     "name": "stdout",
     "output_type": "stream",
     "text": [
      "pwskills\n",
      "5\n"
     ]
    }
   ],
   "source": [
    "print(l[8])\n",
    "l.pop(8)\n",
    "print(l[8])"
   ]
  },
  {
   "cell_type": "code",
   "execution_count": 52,
   "id": "9238142f-86eb-45e0-adfb-3dae530c289c",
   "metadata": {},
   "outputs": [
    {
     "data": {
      "text/plain": [
       "[1,\n",
       " 45,\n",
       " 'Inserted',\n",
       " 67.93,\n",
       " False,\n",
       " 'Vaiv07',\n",
       " (6+9j),\n",
       " 'k',\n",
       " 5,\n",
       " 'GATE24',\n",
       " 'H',\n",
       " 'e',\n",
       " 'l',\n",
       " 'l',\n",
       " 'o',\n",
       " ' ',\n",
       " 'j',\n",
       " 'i',\n",
       " '4',\n",
       " 1,\n",
       " 7,\n",
       " 86.0364]"
      ]
     },
     "execution_count": 52,
     "metadata": {},
     "output_type": "execute_result"
    }
   ],
   "source": [
    "l"
   ]
  },
  {
   "cell_type": "code",
   "execution_count": 53,
   "id": "f1944b49-1dff-407b-a866-1774a78540ca",
   "metadata": {},
   "outputs": [
    {
     "data": {
      "text/plain": [
       "[5, 8.48, 75]"
      ]
     },
     "execution_count": 53,
     "metadata": {},
     "output_type": "execute_result"
    }
   ],
   "source": [
    "z"
   ]
  },
  {
   "cell_type": "markdown",
   "id": "e98ab22b-a7e3-4fc2-8be1-d33f31f30f1e",
   "metadata": {},
   "source": [
    "#### using remove() function\n",
    " it remove element from its first occurance in the list"
   ]
  },
  {
   "cell_type": "code",
   "execution_count": 54,
   "id": "ff71c091-b45e-4fb8-8395-74b7a2554154",
   "metadata": {},
   "outputs": [
    {
     "data": {
      "text/plain": [
       "[8.48, 75]"
      ]
     },
     "execution_count": 54,
     "metadata": {},
     "output_type": "execute_result"
    }
   ],
   "source": [
    "z.remove(5)\n",
    "z"
   ]
  },
  {
   "cell_type": "code",
   "execution_count": 55,
   "id": "b20931bd-dde6-4ebb-95cb-1a2bd64541ab",
   "metadata": {},
   "outputs": [
    {
     "name": "stdout",
     "output_type": "stream",
     "text": [
      "[1, 45, 'Inserted', 67.93, False, 'Vaiv07', (6+9j), 'k', 5, 'GATE24', 'H', 'e', 'l', 'l', 'o', ' ', 'j', 'i', '4', 1, 7, 86.0364]\n"
     ]
    }
   ],
   "source": [
    "print(l)"
   ]
  },
  {
   "cell_type": "code",
   "execution_count": 56,
   "id": "087d16e1-f361-4857-9e84-37656c7f755f",
   "metadata": {},
   "outputs": [
    {
     "data": {
      "text/plain": [
       "'l'"
      ]
     },
     "execution_count": 56,
     "metadata": {},
     "output_type": "execute_result"
    }
   ],
   "source": [
    "l[12]"
   ]
  },
  {
   "cell_type": "code",
   "execution_count": 57,
   "id": "7c50071e-904f-4d22-83cd-146917d7a106",
   "metadata": {},
   "outputs": [
    {
     "data": {
      "text/plain": [
       "'l'"
      ]
     },
     "execution_count": 57,
     "metadata": {},
     "output_type": "execute_result"
    }
   ],
   "source": [
    "l.remove('l')\n",
    "l[12]"
   ]
  },
  {
   "cell_type": "code",
   "execution_count": 58,
   "id": "94cf8326-8853-4ac5-aa07-2ead63e348f1",
   "metadata": {},
   "outputs": [
    {
     "data": {
      "text/plain": [
       "[1,\n",
       " 45,\n",
       " 'Inserted',\n",
       " 67.93,\n",
       " False,\n",
       " 'Vaiv07',\n",
       " (6+9j),\n",
       " 'k',\n",
       " 5,\n",
       " 'GATE24',\n",
       " 'H',\n",
       " 'e',\n",
       " 'l',\n",
       " 'o',\n",
       " ' ',\n",
       " 'j',\n",
       " 'i',\n",
       " '4',\n",
       " 1,\n",
       " 7,\n",
       " 86.0364]"
      ]
     },
     "execution_count": 58,
     "metadata": {},
     "output_type": "execute_result"
    }
   ],
   "source": [
    "l"
   ]
  },
  {
   "cell_type": "code",
   "execution_count": 59,
   "id": "53a96ef3-2e89-4281-b007-4aabec5f5720",
   "metadata": {},
   "outputs": [
    {
     "data": {
      "text/plain": [
       "[1,\n",
       " 45,\n",
       " 'Inserted',\n",
       " 67.93,\n",
       " [5.34, 90, 37, 'pw'],\n",
       " False,\n",
       " 'Vaiv07',\n",
       " (6+9j),\n",
       " 'k',\n",
       " 5,\n",
       " 'GATE24',\n",
       " 'H',\n",
       " 'e',\n",
       " 'l',\n",
       " 'o',\n",
       " ' ',\n",
       " 'j',\n",
       " 'i',\n",
       " '4',\n",
       " 1,\n",
       " 7,\n",
       " 86.0364]"
      ]
     },
     "execution_count": 59,
     "metadata": {},
     "output_type": "execute_result"
    }
   ],
   "source": [
    "l.insert(4, [5.34, 90, 37, 'pw'])\n",
    "l"
   ]
  },
  {
   "cell_type": "code",
   "execution_count": 60,
   "id": "1831ec60-04dd-4917-89ca-0db1ecace91c",
   "metadata": {},
   "outputs": [
    {
     "ename": "ValueError",
     "evalue": "list.remove(x): x not in list",
     "output_type": "error",
     "traceback": [
      "\u001b[0;31m---------------------------------------------------------------------------\u001b[0m",
      "\u001b[0;31mValueError\u001b[0m                                Traceback (most recent call last)",
      "Cell \u001b[0;32mIn[60], line 1\u001b[0m\n\u001b[0;32m----> 1\u001b[0m \u001b[43ml\u001b[49m\u001b[38;5;241;43m.\u001b[39;49m\u001b[43mremove\u001b[49m\u001b[43m(\u001b[49m\u001b[38;5;241;43m567\u001b[39;49m\u001b[43m)\u001b[49m\n",
      "\u001b[0;31mValueError\u001b[0m: list.remove(x): x not in list"
     ]
    }
   ],
   "source": [
    "l.remove(567)"
   ]
  },
  {
   "cell_type": "markdown",
   "id": "5d0ac0d9-5c26-42a0-be62-411055e4cc56",
   "metadata": {},
   "source": [
    "can't directly remove an element from nested list\n",
    "\n",
    "but can do it as following"
   ]
  },
  {
   "cell_type": "code",
   "execution_count": 61,
   "id": "14892c3d-7caf-4d78-9db8-4745075b7d91",
   "metadata": {},
   "outputs": [
    {
     "data": {
      "text/plain": [
       "[5.34, 90, 37, 'pw']"
      ]
     },
     "execution_count": 61,
     "metadata": {},
     "output_type": "execute_result"
    }
   ],
   "source": [
    "l[4]"
   ]
  },
  {
   "cell_type": "code",
   "execution_count": 62,
   "id": "266b0483-b6d0-4723-bcf4-1083ccece2c9",
   "metadata": {},
   "outputs": [],
   "source": [
    "l[4].remove(90)"
   ]
  },
  {
   "cell_type": "code",
   "execution_count": 63,
   "id": "071950bf-131c-42ea-9c43-63ad5dd07f68",
   "metadata": {},
   "outputs": [
    {
     "data": {
      "text/plain": [
       "[5.34, 37, 'pw']"
      ]
     },
     "execution_count": 63,
     "metadata": {},
     "output_type": "execute_result"
    }
   ],
   "source": [
    "l[4]"
   ]
  },
  {
   "cell_type": "code",
   "execution_count": 64,
   "id": "9ac48a6f-bc3a-4dbd-9c29-443c9a09e3c3",
   "metadata": {},
   "outputs": [
    {
     "data": {
      "text/plain": [
       "'pw'"
      ]
     },
     "execution_count": 64,
     "metadata": {},
     "output_type": "execute_result"
    }
   ],
   "source": [
    "l[4][2]"
   ]
  },
  {
   "cell_type": "code",
   "execution_count": 65,
   "id": "3cb6f570-c65d-4311-8f8a-155a17c11379",
   "metadata": {},
   "outputs": [
    {
     "ename": "AttributeError",
     "evalue": "'str' object has no attribute 'remove'",
     "output_type": "error",
     "traceback": [
      "\u001b[0;31m---------------------------------------------------------------------------\u001b[0m",
      "\u001b[0;31mAttributeError\u001b[0m                            Traceback (most recent call last)",
      "Cell \u001b[0;32mIn[65], line 1\u001b[0m\n\u001b[0;32m----> 1\u001b[0m \u001b[43ml\u001b[49m\u001b[43m[\u001b[49m\u001b[38;5;241;43m4\u001b[39;49m\u001b[43m]\u001b[49m\u001b[43m[\u001b[49m\u001b[38;5;241;43m2\u001b[39;49m\u001b[43m]\u001b[49m\u001b[38;5;241;43m.\u001b[39;49m\u001b[43mremove\u001b[49m(\u001b[38;5;124m'\u001b[39m\u001b[38;5;124mw\u001b[39m\u001b[38;5;124m'\u001b[39m) \u001b[38;5;66;03m#error as list is mutable but string is not mutable\u001b[39;00m\n",
      "\u001b[0;31mAttributeError\u001b[0m: 'str' object has no attribute 'remove'"
     ]
    }
   ],
   "source": [
    "l[4][2].remove('w') #error as list is mutable but string is not mutable"
   ]
  },
  {
   "cell_type": "code",
   "execution_count": 66,
   "id": "5fc8aaaf-1aa7-4094-ad3f-4fcfeca55e94",
   "metadata": {},
   "outputs": [],
   "source": [
    "z.append(40)"
   ]
  },
  {
   "cell_type": "code",
   "execution_count": 67,
   "id": "d271be99-904f-4bf1-9bc3-a09a8a051ef7",
   "metadata": {},
   "outputs": [],
   "source": [
    "z.append(40)"
   ]
  },
  {
   "cell_type": "code",
   "execution_count": 68,
   "id": "bdc37dab-2fd1-434f-b72e-992798dffd6c",
   "metadata": {},
   "outputs": [
    {
     "data": {
      "text/plain": [
       "[8.48, 75, 40, 40]"
      ]
     },
     "execution_count": 68,
     "metadata": {},
     "output_type": "execute_result"
    }
   ],
   "source": [
    "z"
   ]
  },
  {
   "cell_type": "code",
   "execution_count": 69,
   "id": "ca6b9e51-a0bd-4a77-b7c1-c9d63c354dd8",
   "metadata": {},
   "outputs": [],
   "source": [
    "z.remove(40) # '40' is removed from first occurane"
   ]
  },
  {
   "cell_type": "code",
   "execution_count": 70,
   "id": "979227fa-5da4-4db2-a381-e254136df7f7",
   "metadata": {},
   "outputs": [
    {
     "data": {
      "text/plain": [
       "[8.48, 75, 40]"
      ]
     },
     "execution_count": 70,
     "metadata": {},
     "output_type": "execute_result"
    }
   ],
   "source": [
    "z"
   ]
  },
  {
   "cell_type": "code",
   "execution_count": 71,
   "id": "6ab380e8-bfdc-408a-8cf7-b4048bd035c1",
   "metadata": {},
   "outputs": [
    {
     "data": {
      "text/plain": [
       "[40, 75, 8.48]"
      ]
     },
     "execution_count": 71,
     "metadata": {},
     "output_type": "execute_result"
    }
   ],
   "source": [
    "z[::-1] #not permanent reversal"
   ]
  },
  {
   "cell_type": "code",
   "execution_count": 72,
   "id": "fc1e1011-400d-4f4e-81c5-b9c35463f66d",
   "metadata": {},
   "outputs": [
    {
     "data": {
      "text/plain": [
       "[8.48, 75, 40]"
      ]
     },
     "execution_count": 72,
     "metadata": {},
     "output_type": "execute_result"
    }
   ],
   "source": [
    "z"
   ]
  },
  {
   "cell_type": "code",
   "execution_count": 73,
   "id": "1949bddd-287b-4148-b71c-56d4114fd88c",
   "metadata": {},
   "outputs": [],
   "source": [
    "z.reverse() #permanent reverse i.e. original list is manipulated"
   ]
  },
  {
   "cell_type": "code",
   "execution_count": 74,
   "id": "08f54a0b-810b-404c-88b0-c2be02fbbfec",
   "metadata": {},
   "outputs": [
    {
     "data": {
      "text/plain": [
       "[40, 75, 8.48]"
      ]
     },
     "execution_count": 74,
     "metadata": {},
     "output_type": "execute_result"
    }
   ],
   "source": [
    "z"
   ]
  },
  {
   "cell_type": "code",
   "execution_count": 75,
   "id": "d7796c2b-1eae-4c50-ba37-4b3f25b58a40",
   "metadata": {},
   "outputs": [],
   "source": [
    "z.sort()"
   ]
  },
  {
   "cell_type": "code",
   "execution_count": 76,
   "id": "40eb985b-f28c-4df4-9b86-b88aaee94d2f",
   "metadata": {},
   "outputs": [
    {
     "data": {
      "text/plain": [
       "[8.48, 40, 75]"
      ]
     },
     "execution_count": 76,
     "metadata": {},
     "output_type": "execute_result"
    }
   ],
   "source": [
    "z"
   ]
  },
  {
   "cell_type": "code",
   "execution_count": 77,
   "id": "017e1cc5-f158-44d2-a39b-3a8d897da99b",
   "metadata": {},
   "outputs": [
    {
     "ename": "TypeError",
     "evalue": "'<' not supported between instances of 'str' and 'int'",
     "output_type": "error",
     "traceback": [
      "\u001b[0;31m---------------------------------------------------------------------------\u001b[0m",
      "\u001b[0;31mTypeError\u001b[0m                                 Traceback (most recent call last)",
      "Cell \u001b[0;32mIn[77], line 1\u001b[0m\n\u001b[0;32m----> 1\u001b[0m \u001b[43ml\u001b[49m\u001b[38;5;241;43m.\u001b[39;49m\u001b[43msort\u001b[49m\u001b[43m(\u001b[49m\u001b[43m)\u001b[49m\n",
      "\u001b[0;31mTypeError\u001b[0m: '<' not supported between instances of 'str' and 'int'"
     ]
    }
   ],
   "source": [
    "l.sort()"
   ]
  },
  {
   "cell_type": "code",
   "execution_count": 78,
   "id": "acf813af-9135-47f2-844f-3f91fdacee13",
   "metadata": {},
   "outputs": [
    {
     "data": {
      "text/plain": [
       "['w', 'g', 'o', 'x']"
      ]
     },
     "execution_count": 78,
     "metadata": {},
     "output_type": "execute_result"
    }
   ],
   "source": [
    "k = ['w', 'g', 'o', 'x']\n",
    "k"
   ]
  },
  {
   "cell_type": "code",
   "execution_count": 79,
   "id": "1173324e-0210-4e44-9415-3ca63779b004",
   "metadata": {},
   "outputs": [],
   "source": [
    "k.sort()"
   ]
  },
  {
   "cell_type": "code",
   "execution_count": 80,
   "id": "b3d26f65-b055-4949-8007-b700b20b8d34",
   "metadata": {},
   "outputs": [
    {
     "data": {
      "text/plain": [
       "['g', 'o', 'w', 'x']"
      ]
     },
     "execution_count": 80,
     "metadata": {},
     "output_type": "execute_result"
    }
   ],
   "source": [
    "k"
   ]
  },
  {
   "cell_type": "code",
   "execution_count": 81,
   "id": "cb3e109b-cfb4-4fd0-a0ef-8538e1b7b3d0",
   "metadata": {},
   "outputs": [
    {
     "data": {
      "text/plain": [
       "[5.34, 37, 'pw']"
      ]
     },
     "execution_count": 81,
     "metadata": {},
     "output_type": "execute_result"
    }
   ],
   "source": [
    "l[4]"
   ]
  },
  {
   "cell_type": "code",
   "execution_count": 82,
   "id": "ee50ebe2-8b05-404b-b3fa-371414fe9833",
   "metadata": {},
   "outputs": [
    {
     "data": {
      "text/plain": [
       "[5.34, 37]"
      ]
     },
     "execution_count": 82,
     "metadata": {},
     "output_type": "execute_result"
    }
   ],
   "source": [
    "l[4].pop()\n",
    "l[4]"
   ]
  },
  {
   "cell_type": "code",
   "execution_count": 83,
   "id": "73c0d602-d9c9-4022-aabe-7d9127fb8dfe",
   "metadata": {},
   "outputs": [
    {
     "data": {
      "text/plain": [
       "[5.34, 37]"
      ]
     },
     "execution_count": 83,
     "metadata": {},
     "output_type": "execute_result"
    }
   ],
   "source": [
    "l[4].sort()\n",
    "l[4]"
   ]
  },
  {
   "cell_type": "code",
   "execution_count": 84,
   "id": "4c35e62b-738b-4cdc-9bcb-185bc36a7833",
   "metadata": {},
   "outputs": [
    {
     "data": {
      "text/plain": [
       "[1,\n",
       " 45,\n",
       " 'Inserted',\n",
       " 67.93,\n",
       " [5.34, 37],\n",
       " False,\n",
       " 'Vaiv07',\n",
       " (6+9j),\n",
       " 'k',\n",
       " 5,\n",
       " 'GATE24',\n",
       " 'H',\n",
       " 'e',\n",
       " 'l',\n",
       " 'o',\n",
       " ' ',\n",
       " 'j',\n",
       " 'i',\n",
       " '4',\n",
       " 1,\n",
       " 7,\n",
       " 86.0364]"
      ]
     },
     "execution_count": 84,
     "metadata": {},
     "output_type": "execute_result"
    }
   ],
   "source": [
    "l"
   ]
  },
  {
   "cell_type": "markdown",
   "id": "f62e46d1-3477-4a92-9e93-f458e2e463bf",
   "metadata": {},
   "source": [
    "#### sort() is permanent operation"
   ]
  },
  {
   "cell_type": "code",
   "execution_count": 85,
   "id": "93ded13a-a4de-4c20-8103-93fd8f5fe29b",
   "metadata": {},
   "outputs": [
    {
     "ename": "ValueError",
     "evalue": "invalid literal for int() with base 10: 'a'",
     "output_type": "error",
     "traceback": [
      "\u001b[0;31m---------------------------------------------------------------------------\u001b[0m",
      "\u001b[0;31mValueError\u001b[0m                                Traceback (most recent call last)",
      "Cell \u001b[0;32mIn[85], line 2\u001b[0m\n\u001b[1;32m      1\u001b[0m p \u001b[38;5;241m=\u001b[39m \u001b[38;5;124m'\u001b[39m\u001b[38;5;124ma\u001b[39m\u001b[38;5;124m'\u001b[39m\n\u001b[0;32m----> 2\u001b[0m \u001b[38;5;28mprint\u001b[39m(\u001b[38;5;28;43mint\u001b[39;49m\u001b[43m(\u001b[49m\u001b[43mp\u001b[49m\u001b[43m)\u001b[49m)\n",
      "\u001b[0;31mValueError\u001b[0m: invalid literal for int() with base 10: 'a'"
     ]
    }
   ],
   "source": [
    "p = 'a'\n",
    "print(int(p))"
   ]
  },
  {
   "cell_type": "code",
   "execution_count": 86,
   "id": "280db531-6c84-4557-8378-e7cda3e50b99",
   "metadata": {},
   "outputs": [
    {
     "data": {
      "text/plain": [
       "[37, 5.34]"
      ]
     },
     "execution_count": 86,
     "metadata": {},
     "output_type": "execute_result"
    }
   ],
   "source": [
    "l[4].sort(reverse=True) # sorting in descending order\n",
    "l[4]"
   ]
  },
  {
   "cell_type": "code",
   "execution_count": 87,
   "id": "f0fee379-6c77-4d15-a1f9-c500729b4e5b",
   "metadata": {},
   "outputs": [
    {
     "ename": "ValueError",
     "evalue": "90 is not in list",
     "output_type": "error",
     "traceback": [
      "\u001b[0;31m---------------------------------------------------------------------------\u001b[0m",
      "\u001b[0;31mValueError\u001b[0m                                Traceback (most recent call last)",
      "Cell \u001b[0;32mIn[87], line 1\u001b[0m\n\u001b[0;32m----> 1\u001b[0m \u001b[43ml\u001b[49m\u001b[43m[\u001b[49m\u001b[38;5;241;43m4\u001b[39;49m\u001b[43m]\u001b[49m\u001b[38;5;241;43m.\u001b[39;49m\u001b[43mindex\u001b[49m\u001b[43m(\u001b[49m\u001b[38;5;241;43m90\u001b[39;49m\u001b[43m)\u001b[49m\n",
      "\u001b[0;31mValueError\u001b[0m: 90 is not in list"
     ]
    }
   ],
   "source": [
    "l[4].index(90)"
   ]
  },
  {
   "cell_type": "code",
   "execution_count": 88,
   "id": "7acebf0f-0321-45f8-9f55-b57d1730ec71",
   "metadata": {},
   "outputs": [
    {
     "data": {
      "text/plain": [
       "9"
      ]
     },
     "execution_count": 88,
     "metadata": {},
     "output_type": "execute_result"
    }
   ],
   "source": [
    "l.index(5)"
   ]
  },
  {
   "cell_type": "code",
   "execution_count": 89,
   "id": "308f9105-56f2-4f7d-95e7-8f3cc9a19353",
   "metadata": {},
   "outputs": [
    {
     "data": {
      "text/plain": [
       "13"
      ]
     },
     "execution_count": 89,
     "metadata": {},
     "output_type": "execute_result"
    }
   ],
   "source": [
    "l.index('l')"
   ]
  },
  {
   "cell_type": "code",
   "execution_count": 90,
   "id": "78941408-c6b0-4431-a006-c6fda1751e2b",
   "metadata": {},
   "outputs": [
    {
     "data": {
      "text/plain": [
       "[1,\n",
       " 45,\n",
       " 'Inserted',\n",
       " 67.93,\n",
       " [37, 5.34],\n",
       " False,\n",
       " 'Vaiv07',\n",
       " (6+9j),\n",
       " 'k',\n",
       " 5,\n",
       " 'GATE24',\n",
       " 'H',\n",
       " 'e',\n",
       " 'l',\n",
       " 'o',\n",
       " ' ',\n",
       " 'j',\n",
       " 'i',\n",
       " '4',\n",
       " 1,\n",
       " 7,\n",
       " 86.0364]"
      ]
     },
     "execution_count": 90,
     "metadata": {},
     "output_type": "execute_result"
    }
   ],
   "source": [
    "l"
   ]
  },
  {
   "cell_type": "code",
   "execution_count": 91,
   "id": "6b923364-9a8e-4d7c-a7a7-4ba83a9cd99d",
   "metadata": {},
   "outputs": [
    {
     "data": {
      "text/plain": [
       "2"
      ]
     },
     "execution_count": 91,
     "metadata": {},
     "output_type": "execute_result"
    }
   ],
   "source": [
    "l.count(1)"
   ]
  },
  {
   "cell_type": "code",
   "execution_count": 92,
   "id": "7c78b251-12b4-4f53-969b-9f430a2208ba",
   "metadata": {},
   "outputs": [
    {
     "data": {
      "text/plain": [
       "'GATE24'"
      ]
     },
     "execution_count": 92,
     "metadata": {},
     "output_type": "execute_result"
    }
   ],
   "source": [
    "s"
   ]
  },
  {
   "cell_type": "code",
   "execution_count": 93,
   "id": "66de8aca-7f53-4e6f-a3a1-6d4d24c518df",
   "metadata": {},
   "outputs": [
    {
     "data": {
      "text/plain": [
       "[8.48, 40, 75]"
      ]
     },
     "execution_count": 93,
     "metadata": {},
     "output_type": "execute_result"
    }
   ],
   "source": [
    "z"
   ]
  },
  {
   "cell_type": "code",
   "execution_count": 94,
   "id": "a78cffaa-8ceb-4e7c-a9bb-053346105168",
   "metadata": {},
   "outputs": [
    {
     "data": {
      "text/plain": [
       "'G'"
      ]
     },
     "execution_count": 94,
     "metadata": {},
     "output_type": "execute_result"
    }
   ],
   "source": [
    "s[0]"
   ]
  },
  {
   "cell_type": "code",
   "execution_count": 95,
   "id": "1bc39b52-1d6a-408f-9aac-84397641564d",
   "metadata": {},
   "outputs": [
    {
     "ename": "TypeError",
     "evalue": "'str' object does not support item assignment",
     "output_type": "error",
     "traceback": [
      "\u001b[0;31m---------------------------------------------------------------------------\u001b[0m",
      "\u001b[0;31mTypeError\u001b[0m                                 Traceback (most recent call last)",
      "Cell \u001b[0;32mIn[95], line 1\u001b[0m\n\u001b[0;32m----> 1\u001b[0m \u001b[43ms\u001b[49m\u001b[43m[\u001b[49m\u001b[38;5;241;43m0\u001b[39;49m\u001b[43m]\u001b[49m \u001b[38;5;241m=\u001b[39m \u001b[38;5;124m'\u001b[39m\u001b[38;5;124mZ\u001b[39m\u001b[38;5;124m'\u001b[39m\n",
      "\u001b[0;31mTypeError\u001b[0m: 'str' object does not support item assignment"
     ]
    }
   ],
   "source": [
    "s[0] = 'Z'"
   ]
  },
  {
   "cell_type": "code",
   "execution_count": 96,
   "id": "fc87edd9-afaf-4fa3-845a-b92f038d6062",
   "metadata": {},
   "outputs": [
    {
     "data": {
      "text/plain": [
       "[8.48, 40, 75, 67]"
      ]
     },
     "execution_count": 96,
     "metadata": {},
     "output_type": "execute_result"
    }
   ],
   "source": [
    "z.append(67)\n",
    "z"
   ]
  },
  {
   "cell_type": "code",
   "execution_count": 97,
   "id": "af28a050-bb03-450c-8fb9-19003c3fd716",
   "metadata": {},
   "outputs": [
    {
     "data": {
      "text/plain": [
       "75"
      ]
     },
     "execution_count": 97,
     "metadata": {},
     "output_type": "execute_result"
    }
   ],
   "source": [
    "z[2]"
   ]
  },
  {
   "cell_type": "code",
   "execution_count": 98,
   "id": "8b7b0621-4f7d-4792-a59e-0026e198c9fd",
   "metadata": {},
   "outputs": [],
   "source": [
    "z[2] = 55"
   ]
  },
  {
   "cell_type": "code",
   "execution_count": 99,
   "id": "88a5a50c-7d8d-44b5-a2e4-03372b2e9dcd",
   "metadata": {},
   "outputs": [
    {
     "data": {
      "text/plain": [
       "[8.48, 40, 55, 67]"
      ]
     },
     "execution_count": 99,
     "metadata": {},
     "output_type": "execute_result"
    }
   ],
   "source": [
    "z"
   ]
  },
  {
   "cell_type": "markdown",
   "id": "352d83d4-9ed5-4258-88a3-fb97eba8ec8e",
   "metadata": {},
   "source": [
    "## MUTABLE -> changable (at same location)\n",
    " e.g. list\n",
    "## IMMUTABLE -> not changable (at same location)\n",
    " e.g. string\n",
    " \n",
    "### Item assignment is different thing (in this location/reference will change) that's why item re-assignment is different from mutability\n",
    "\n"
   ]
  },
  {
   "cell_type": "code",
   "execution_count": 100,
   "id": "e2708cbf-d8fd-4c3f-b412-1cb80baa83c2",
   "metadata": {},
   "outputs": [
    {
     "data": {
      "text/plain": [
       "'GATE24'"
      ]
     },
     "execution_count": 100,
     "metadata": {},
     "output_type": "execute_result"
    }
   ],
   "source": [
    "s"
   ]
  },
  {
   "cell_type": "code",
   "execution_count": 101,
   "id": "8b3861ae-47aa-4dc5-8da5-7375dc576c21",
   "metadata": {},
   "outputs": [
    {
     "data": {
      "text/plain": [
       "'GATE25'"
      ]
     },
     "execution_count": 101,
     "metadata": {},
     "output_type": "execute_result"
    }
   ],
   "source": [
    "s.replace('4', '5')"
   ]
  },
  {
   "cell_type": "code",
   "execution_count": 102,
   "id": "61f9d54b-1327-4d19-9869-b1279cbad88f",
   "metadata": {},
   "outputs": [
    {
     "data": {
      "text/plain": [
       "'GATE24'"
      ]
     },
     "execution_count": 102,
     "metadata": {},
     "output_type": "execute_result"
    }
   ],
   "source": [
    "s # so here string isn't changed as string is immutable"
   ]
  },
  {
   "cell_type": "code",
   "execution_count": 103,
   "id": "7cbfeffa-41e8-4129-affe-3b52d71586e8",
   "metadata": {},
   "outputs": [
    {
     "data": {
      "text/plain": [
       "'GATE25'"
      ]
     },
     "execution_count": 103,
     "metadata": {},
     "output_type": "execute_result"
    }
   ],
   "source": [
    "s = s.replace('4', '5')\n",
    "s # here we can see that data of string s is changed but this 's' is different than initial 's'"
   ]
  },
  {
   "cell_type": "markdown",
   "id": "f6cdc10b-65ad-423e-bbf4-4416193a7b36",
   "metadata": {},
   "source": [
    "## Tuple\n",
    "\n",
    "use ( ) brackets and it is also immutable and can hold different types of data"
   ]
  },
  {
   "cell_type": "code",
   "execution_count": 104,
   "id": "6009014f-d642-4d2f-8e09-dc1c4e613f13",
   "metadata": {},
   "outputs": [
    {
     "name": "stdout",
     "output_type": "stream",
     "text": [
      "(1, 4, 2, 76, 4, 7.9405, 4, 'pw', True, 'GATE2025')\n",
      "<class 'tuple'>\n",
      "10\n",
      "7.9405\n"
     ]
    }
   ],
   "source": [
    "t = (1,4,2,76,4, 7.9405, 4, 'pw', True, 'GATE2025')\n",
    "print(t)\n",
    "print(type(t))\n",
    "print(len(t))\n",
    "print(t[5])"
   ]
  },
  {
   "cell_type": "markdown",
   "id": "65c8d517-f3f2-4e38-85dd-fab65558e369",
   "metadata": {},
   "source": [
    "#### indexing slicing are same as string and list"
   ]
  },
  {
   "cell_type": "code",
   "execution_count": 105,
   "id": "488fafd9-022a-4d10-bddc-44990979f884",
   "metadata": {},
   "outputs": [
    {
     "data": {
      "text/plain": [
       "3"
      ]
     },
     "execution_count": 105,
     "metadata": {},
     "output_type": "execute_result"
    }
   ],
   "source": [
    "t.count(4)"
   ]
  },
  {
   "cell_type": "code",
   "execution_count": 106,
   "id": "b124bcf3-1a51-451b-8acf-3a6be3f430c0",
   "metadata": {},
   "outputs": [
    {
     "data": {
      "text/plain": [
       "7"
      ]
     },
     "execution_count": 106,
     "metadata": {},
     "output_type": "execute_result"
    }
   ],
   "source": [
    "t.index('pw')"
   ]
  },
  {
   "cell_type": "code",
   "execution_count": 107,
   "id": "e7a3996c-2b62-4a3a-83ab-9da39942d282",
   "metadata": {},
   "outputs": [
    {
     "ename": "AttributeError",
     "evalue": "'tuple' object has no attribute 'pop'",
     "output_type": "error",
     "traceback": [
      "\u001b[0;31m---------------------------------------------------------------------------\u001b[0m",
      "\u001b[0;31mAttributeError\u001b[0m                            Traceback (most recent call last)",
      "Cell \u001b[0;32mIn[107], line 1\u001b[0m\n\u001b[0;32m----> 1\u001b[0m \u001b[43mt\u001b[49m\u001b[38;5;241;43m.\u001b[39;49m\u001b[43mpop\u001b[49m()\n",
      "\u001b[0;31mAttributeError\u001b[0m: 'tuple' object has no attribute 'pop'"
     ]
    }
   ],
   "source": [
    "t.pop()"
   ]
  },
  {
   "cell_type": "code",
   "execution_count": 108,
   "id": "1ed004bb-5bf0-4a24-bccd-316aed34bca9",
   "metadata": {},
   "outputs": [
    {
     "ename": "AttributeError",
     "evalue": "'tuple' object has no attribute 'append'",
     "output_type": "error",
     "traceback": [
      "\u001b[0;31m---------------------------------------------------------------------------\u001b[0m",
      "\u001b[0;31mAttributeError\u001b[0m                            Traceback (most recent call last)",
      "Cell \u001b[0;32mIn[108], line 1\u001b[0m\n\u001b[0;32m----> 1\u001b[0m \u001b[43mt\u001b[49m\u001b[38;5;241;43m.\u001b[39;49m\u001b[43mappend\u001b[49m(\u001b[38;5;241m3478\u001b[39m)\n",
      "\u001b[0;31mAttributeError\u001b[0m: 'tuple' object has no attribute 'append'"
     ]
    }
   ],
   "source": [
    "t.append(3478)"
   ]
  },
  {
   "cell_type": "code",
   "execution_count": 109,
   "id": "3dfc7889-3249-498b-a1d4-769d55a98e7a",
   "metadata": {},
   "outputs": [
    {
     "ename": "TypeError",
     "evalue": "'tuple' object does not support item assignment",
     "output_type": "error",
     "traceback": [
      "\u001b[0;31m---------------------------------------------------------------------------\u001b[0m",
      "\u001b[0;31mTypeError\u001b[0m                                 Traceback (most recent call last)",
      "Cell \u001b[0;32mIn[109], line 1\u001b[0m\n\u001b[0;32m----> 1\u001b[0m \u001b[43mt\u001b[49m\u001b[43m[\u001b[49m\u001b[38;5;241;43m0\u001b[39;49m\u001b[43m]\u001b[49m \u001b[38;5;241m=\u001b[39m \u001b[38;5;241m9829\u001b[39m\n",
      "\u001b[0;31mTypeError\u001b[0m: 'tuple' object does not support item assignment"
     ]
    }
   ],
   "source": [
    "t[0] = 9829"
   ]
  },
  {
   "cell_type": "code",
   "execution_count": 110,
   "id": "8b134e2a-fe8e-47a0-a5f7-d061fc014a9f",
   "metadata": {},
   "outputs": [
    {
     "data": {
      "text/plain": [
       "('GATE2025', True, 'pw', 4, 7.9405, 4, 76, 2, 4, 1)"
      ]
     },
     "execution_count": 110,
     "metadata": {},
     "output_type": "execute_result"
    }
   ],
   "source": [
    "t[::-1]"
   ]
  },
  {
   "cell_type": "code",
   "execution_count": 111,
   "id": "5a96eedb-a871-4017-82ca-8caae5388eaf",
   "metadata": {},
   "outputs": [
    {
     "data": {
      "text/plain": [
       "(1, 4, 2, 76, 4, 7.9405, 4, 'pw', True, 'GATE2025')"
      ]
     },
     "execution_count": 111,
     "metadata": {},
     "output_type": "execute_result"
    }
   ],
   "source": [
    "t"
   ]
  },
  {
   "cell_type": "markdown",
   "id": "01622588-b560-449e-b73f-239ba64d731e",
   "metadata": {},
   "source": [
    "## SET\n",
    " uses { }"
   ]
  },
  {
   "cell_type": "code",
   "execution_count": 112,
   "id": "5cb3e7a8-8e5e-470b-8ba0-3bab9be3152d",
   "metadata": {},
   "outputs": [],
   "source": [
    "set1 = {}"
   ]
  },
  {
   "cell_type": "code",
   "execution_count": 113,
   "id": "1d58ef11-c425-448c-a30b-698b081a2637",
   "metadata": {},
   "outputs": [
    {
     "data": {
      "text/plain": [
       "dict"
      ]
     },
     "execution_count": 113,
     "metadata": {},
     "output_type": "execute_result"
    }
   ],
   "source": [
    "type(set1)"
   ]
  },
  {
   "cell_type": "code",
   "execution_count": 114,
   "id": "30a40da2-261a-471a-94cc-4d741ecb1007",
   "metadata": {},
   "outputs": [
    {
     "name": "stdout",
     "output_type": "stream",
     "text": [
      "{1, 2, 3, 5, 8}\n",
      "<class 'set'>\n"
     ]
    }
   ],
   "source": [
    "s2 = { 1,3,5,2,5,8 }\n",
    "print(s2)\n",
    "print(type(s2)) "
   ]
  },
  {
   "cell_type": "markdown",
   "id": "f433440f-a4ad-47dc-a46c-f91605153ac2",
   "metadata": {},
   "source": [
    "#### blank { } is understand as dictionary class whereas in no-empty set it is class set"
   ]
  },
  {
   "cell_type": "code",
   "execution_count": 115,
   "id": "00a8888c-69ca-48b3-82b5-201a0be6bf1e",
   "metadata": {},
   "outputs": [
    {
     "ename": "TypeError",
     "evalue": "unhashable type: 'list'",
     "output_type": "error",
     "traceback": [
      "\u001b[0;31m---------------------------------------------------------------------------\u001b[0m",
      "\u001b[0;31mTypeError\u001b[0m                                 Traceback (most recent call last)",
      "Cell \u001b[0;32mIn[115], line 1\u001b[0m\n\u001b[0;32m----> 1\u001b[0m s3 \u001b[38;5;241m=\u001b[39m {\u001b[38;5;241m3\u001b[39m, \u001b[38;5;241m6.78\u001b[39m, \u001b[38;5;124m'\u001b[39m\u001b[38;5;124mpw\u001b[39m\u001b[38;5;124m'\u001b[39m, [\u001b[38;5;241m3\u001b[39m, \u001b[38;5;241m5\u001b[39m, \u001b[38;5;241m7\u001b[39m], \u001b[38;5;241m87\u001b[39m}\n",
      "\u001b[0;31mTypeError\u001b[0m: unhashable type: 'list'"
     ]
    }
   ],
   "source": [
    "s3 = {3, 6.78, 'pw', [3, 5, 7], 87}"
   ]
  },
  {
   "cell_type": "code",
   "execution_count": 116,
   "id": "232cc888-66df-43d7-88b6-989da826856a",
   "metadata": {},
   "outputs": [],
   "source": [
    "s4 = {3, 6.78, 'pw', (3, 5, 7), 87}"
   ]
  },
  {
   "cell_type": "code",
   "execution_count": 117,
   "id": "b915be65-da8d-40cc-a00a-3fc7594e0a4f",
   "metadata": {},
   "outputs": [
    {
     "data": {
      "text/plain": [
       "{(3, 5, 7), 3, 6.78, 87, 'pw'}"
      ]
     },
     "execution_count": 117,
     "metadata": {},
     "output_type": "execute_result"
    }
   ],
   "source": [
    "s4"
   ]
  },
  {
   "cell_type": "markdown",
   "id": "f54e923a-29fd-42a9-8fe9-bba57ce5a377",
   "metadata": {},
   "source": [
    "#### So set only take immutable collecions(string,tuple etc) and primitive data"
   ]
  },
  {
   "cell_type": "code",
   "execution_count": 118,
   "id": "cea1aae8-4e80-4ee5-be35-4d820613ef36",
   "metadata": {},
   "outputs": [
    {
     "name": "stdout",
     "output_type": "stream",
     "text": [
      "{1, 2, 3, 4, 7, 8, 9}\n"
     ]
    }
   ],
   "source": [
    "s5 = {1, 2, 4, 7, 4,3 ,8, 2, 3, 3, 3,1 ,3, 9, 1, 3, 2, 7}\n",
    "print(s5)"
   ]
  },
  {
   "cell_type": "markdown",
   "id": "040808fd-0e2b-4c0e-a78b-39d746b6e476",
   "metadata": {
    "tags": []
   },
   "source": [
    "#### So set removed all duplicate data and only store unique values"
   ]
  },
  {
   "cell_type": "code",
   "execution_count": 119,
   "id": "5266163c-ee59-41b9-b50a-fa203d633420",
   "metadata": {},
   "outputs": [
    {
     "name": "stdout",
     "output_type": "stream",
     "text": [
      "{1, 2, 3, 4, 'PW', 7, 8, 9, 'Pw', 'pw'}\n"
     ]
    }
   ],
   "source": [
    "s5 = {1, 2, 4, 7, 4,3 ,8, 2, 3, 3, 3,1 ,3, 9, 1, 3, 2, 7, 'pw', 'Pw', 'PW'}\n",
    "print(s5) # case sensitive"
   ]
  },
  {
   "cell_type": "code",
   "execution_count": 120,
   "id": "ff9f89a7-fd30-46cd-b582-2ca481c664d1",
   "metadata": {},
   "outputs": [
    {
     "data": {
      "text/plain": [
       "[1, 2, 4, 7, 4, 3, 8, 2, 3, 3, 3, 1, 3, 9, 1, 3, 2, 7, 'pw', 'Pw', 'PW']"
      ]
     },
     "execution_count": 120,
     "metadata": {},
     "output_type": "execute_result"
    }
   ],
   "source": [
    "l5 = [1, 2, 4, 7, 4,3 ,8, 2, 3, 3, 3,1 ,3, 9, 1, 3, 2, 7, 'pw', 'Pw', 'PW']\n",
    "l5"
   ]
  },
  {
   "cell_type": "code",
   "execution_count": 121,
   "id": "d5848305-5c5d-400d-8653-a80238182a18",
   "metadata": {},
   "outputs": [
    {
     "data": {
      "text/plain": [
       "{1, 2, 3, 4, 7, 8, 9, 'PW', 'Pw', 'pw'}"
      ]
     },
     "execution_count": 121,
     "metadata": {},
     "output_type": "execute_result"
    }
   ],
   "source": [
    "set(l5) #typecasting from list to set and removing all duplicates"
   ]
  },
  {
   "cell_type": "code",
   "execution_count": 122,
   "id": "02e29054-72b2-4477-8765-1132b36addd0",
   "metadata": {},
   "outputs": [
    {
     "name": "stdout",
     "output_type": "stream",
     "text": [
      "<class 'set'>\n",
      "<class 'list'>\n"
     ]
    }
   ],
   "source": [
    "a = set(l5)\n",
    "b = list(set(l5))\n",
    "print(type(a))\n",
    "print(type(b))"
   ]
  },
  {
   "cell_type": "markdown",
   "id": "93d4fb32-a437-4017-890c-1f4b3f9e5baf",
   "metadata": {},
   "source": [
    "#### Though it looks like that 'set' is arranging all data in ascending order but it is not true completely.\n",
    "\n",
    "#### As definition of set is \"to build an unordered collecion of unique elements\""
   ]
  },
  {
   "cell_type": "code",
   "execution_count": 123,
   "id": "202ad843-ca26-4c52-9b87-26602d9b809c",
   "metadata": {},
   "outputs": [
    {
     "data": {
      "text/plain": [
       "{234, 45, 9.603, 9876, 'pW', 'pw', 'skills'}"
      ]
     },
     "execution_count": 123,
     "metadata": {},
     "output_type": "execute_result"
    }
   ],
   "source": [
    "s6 = {234, 45, 'pw', 9.603,9.603, 'pW', 'skills', 9876,45}\n",
    "s6"
   ]
  },
  {
   "cell_type": "code",
   "execution_count": 124,
   "id": "30043920-e3f0-438e-8c6c-ee52637d68fb",
   "metadata": {},
   "outputs": [
    {
     "ename": "TypeError",
     "evalue": "'set' object is not subscriptable",
     "output_type": "error",
     "traceback": [
      "\u001b[0;31m---------------------------------------------------------------------------\u001b[0m",
      "\u001b[0;31mTypeError\u001b[0m                                 Traceback (most recent call last)",
      "Cell \u001b[0;32mIn[124], line 1\u001b[0m\n\u001b[0;32m----> 1\u001b[0m \u001b[43ms5\u001b[49m\u001b[43m[\u001b[49m\u001b[38;5;241;43m0\u001b[39;49m\u001b[43m]\u001b[49m \u001b[38;5;66;03m# can't access element from inex\u001b[39;00m\n",
      "\u001b[0;31mTypeError\u001b[0m: 'set' object is not subscriptable"
     ]
    }
   ],
   "source": [
    "s5[0] # can't access element from inex"
   ]
  },
  {
   "cell_type": "code",
   "execution_count": 125,
   "id": "f03eb503-a965-419a-bc72-6e2d51a3605c",
   "metadata": {},
   "outputs": [
    {
     "ename": "TypeError",
     "evalue": "'set' object is not subscriptable",
     "output_type": "error",
     "traceback": [
      "\u001b[0;31m---------------------------------------------------------------------------\u001b[0m",
      "\u001b[0;31mTypeError\u001b[0m                                 Traceback (most recent call last)",
      "Cell \u001b[0;32mIn[125], line 2\u001b[0m\n\u001b[1;32m      1\u001b[0m \u001b[38;5;66;03m# also can't do slicing\u001b[39;00m\n\u001b[0;32m----> 2\u001b[0m \u001b[43ms5\u001b[49m\u001b[43m[\u001b[49m\u001b[38;5;241;43m1\u001b[39;49m\u001b[43m:\u001b[49m\u001b[38;5;241;43m4\u001b[39;49m\u001b[43m]\u001b[49m\n",
      "\u001b[0;31mTypeError\u001b[0m: 'set' object is not subscriptable"
     ]
    }
   ],
   "source": [
    "# also can't do slicing\n",
    "s5[1:4]"
   ]
  },
  {
   "cell_type": "code",
   "execution_count": 126,
   "id": "d155c480-db0b-483d-b7f2-69d095ae747d",
   "metadata": {},
   "outputs": [],
   "source": [
    "s5.add(7859)"
   ]
  },
  {
   "cell_type": "code",
   "execution_count": 127,
   "id": "e4d8d4b5-bb69-4488-8dd1-040fffb55c99",
   "metadata": {},
   "outputs": [
    {
     "data": {
      "text/plain": [
       "{1, 2, 3, 4, 7, 7859, 8, 9, 'PW', 'Pw', 'pw'}"
      ]
     },
     "execution_count": 127,
     "metadata": {},
     "output_type": "execute_result"
    }
   ],
   "source": [
    "s5"
   ]
  },
  {
   "cell_type": "code",
   "execution_count": 128,
   "id": "6c2a45b5-a6ed-4b1c-923f-335f331c6706",
   "metadata": {},
   "outputs": [],
   "source": [
    "s5.add(2)"
   ]
  },
  {
   "cell_type": "code",
   "execution_count": 129,
   "id": "8617d7a4-9e74-492f-b131-b3e467ce15bc",
   "metadata": {},
   "outputs": [
    {
     "data": {
      "text/plain": [
       "{1, 2, 3, 4, 7, 7859, 8, 9, 'PW', 'Pw', 'pw'}"
      ]
     },
     "execution_count": 129,
     "metadata": {},
     "output_type": "execute_result"
    }
   ],
   "source": [
    "s5"
   ]
  },
  {
   "cell_type": "code",
   "execution_count": 130,
   "id": "f1178846-4a92-4a81-be06-6c5b036bfe1d",
   "metadata": {},
   "outputs": [
    {
     "data": {
      "text/plain": [
       "{1, 2, 3, 4, 7, 7859, 9, 'PW', 'Pw', 'pw'}"
      ]
     },
     "execution_count": 130,
     "metadata": {},
     "output_type": "execute_result"
    }
   ],
   "source": [
    "s5.remove(8)\n",
    "s5"
   ]
  },
  {
   "cell_type": "markdown",
   "id": "22f3c9f3-209e-4571-b5d1-44173b7352b7",
   "metadata": {},
   "source": [
    "#### set uses hashing instead of indexing"
   ]
  },
  {
   "cell_type": "code",
   "execution_count": 131,
   "id": "15817321-8524-4ba6-b1ab-8748ba12d7c7",
   "metadata": {},
   "outputs": [
    {
     "data": {
      "text/plain": [
       "{1,\n",
       " 2,\n",
       " 234,\n",
       " 3,\n",
       " 4,\n",
       " 45,\n",
       " 7,\n",
       " 7859,\n",
       " 9,\n",
       " 9.603,\n",
       " 9876,\n",
       " 'PW',\n",
       " 'Pw',\n",
       " 'pW',\n",
       " 'pw',\n",
       " 'skills'}"
      ]
     },
     "execution_count": 131,
     "metadata": {},
     "output_type": "execute_result"
    }
   ],
   "source": [
    "s5.union(s6)"
   ]
  },
  {
   "cell_type": "code",
   "execution_count": 132,
   "id": "f0f805b5-c029-41ad-959b-6262ca577137",
   "metadata": {},
   "outputs": [
    {
     "data": {
      "text/plain": [
       "{1, 2, 3, 4, 7, 7859, 9, 'PW', 'Pw', 'pw'}"
      ]
     },
     "execution_count": 132,
     "metadata": {},
     "output_type": "execute_result"
    }
   ],
   "source": [
    "s5"
   ]
  },
  {
   "cell_type": "code",
   "execution_count": 133,
   "id": "6f323f06-b597-4d12-bcdd-b9e98c2ba6d1",
   "metadata": {},
   "outputs": [
    {
     "data": {
      "text/plain": [
       "{'pw'}"
      ]
     },
     "execution_count": 133,
     "metadata": {},
     "output_type": "execute_result"
    }
   ],
   "source": [
    "s5.intersection(s6)"
   ]
  },
  {
   "cell_type": "code",
   "execution_count": null,
   "id": "ffad9532-05ea-45ab-886f-a98f539ddc87",
   "metadata": {},
   "outputs": [],
   "source": []
  }
 ],
 "metadata": {
  "kernelspec": {
   "display_name": "Python 3 (ipykernel)",
   "language": "python",
   "name": "python3"
  },
  "language_info": {
   "codemirror_mode": {
    "name": "ipython",
    "version": 3
   },
   "file_extension": ".py",
   "mimetype": "text/x-python",
   "name": "python",
   "nbconvert_exporter": "python",
   "pygments_lexer": "ipython3",
   "version": "3.10.8"
  }
 },
 "nbformat": 4,
 "nbformat_minor": 5
}
