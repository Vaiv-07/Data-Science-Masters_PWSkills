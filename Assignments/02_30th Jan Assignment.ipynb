{
 "cells": [
  {
   "cell_type": "markdown",
   "id": "41fe9bb3-8a73-49aa-9f92-2310159122ed",
   "metadata": {},
   "source": [
    "## Q 01 Write a Program to accept percentage from user and display grade according to following Criteria\n",
    "| Marks           | Grade       |\n",
    "| :-----------:   | :---------: |\n",
    "| >90             | A           |\n",
    "| >80 and <=90    | B           |\n",
    "| >=60 and <=80   | C           |\n",
    "| below 60        | D           |"
   ]
  },
  {
   "cell_type": "code",
   "execution_count": 1,
   "id": "bf8baefb-b2ee-4f01-a871-f6510d4eb788",
   "metadata": {},
   "outputs": [
    {
     "name": "stdin",
     "output_type": "stream",
     "text": [
      "Please enter your marks: 97\n"
     ]
    },
    {
     "name": "stdout",
     "output_type": "stream",
     "text": [
      "You got grade 'A'\n"
     ]
    }
   ],
   "source": [
    "# Program to accept percentage from user and displaying grade according to given criteria\n",
    "\n",
    "# Taking marks as input from user\n",
    "marks = int(input(\"Please enter your marks:\"))\n",
    "\n",
    "# Calculating grades on the basis on given conditions\n",
    "if marks > 90 :\n",
    "    print(\"You got grade 'A'\")\n",
    "elif marks > 80 and marks <= 90 :\n",
    "    print(\"You got grade 'B'\")\n",
    "elif marks > 60 and marks <= 80 :\n",
    "    print(\"You got grade 'C'\")\n",
    "elif marks < 60 :\n",
    "    print(\"You got grade 'D'\")\n",
    "else :\n",
    "    print(\"Please enter correct data...\")"
   ]
  },
  {
   "cell_type": "markdown",
   "id": "eac5df08-a4de-4111-9759-0f6b49e4c6a7",
   "metadata": {},
   "source": [
    "## Q 02 Write a program to accept cost price of bike and display the road tax to be paid according to following criteria\n",
    "| Tax             | Cost Price (in Rs.)  |\n",
    "| :-----------:   | :-----------------:  |\n",
    "| 15%             | >100000              |\n",
    "| 10%             | >50000 and <=100000  |\n",
    "| 5%              | <=50000              |"
   ]
  },
  {
   "cell_type": "code",
   "execution_count": 2,
   "id": "10bcd693-83b4-47d1-80cc-5a0dd10a1200",
   "metadata": {},
   "outputs": [
    {
     "name": "stdin",
     "output_type": "stream",
     "text": [
      "Please enter the cost price of bike: 115499\n"
     ]
    },
    {
     "name": "stdout",
     "output_type": "stream",
     "text": [
      "The road tax to be paid is 17324.85\n"
     ]
    }
   ],
   "source": [
    "# Program to accept cost price of bike and display the road tax to be paid according to given criteria\n",
    "\n",
    "# Taking price as input from user\n",
    "costPrice = float(input(\"Please enter the cost price of bike:\"))\n",
    "\n",
    "# Calculating road tax to be paid on the basis of cost price of bike\n",
    "if costPrice > 100000 :\n",
    "    print(\"The road tax to be paid is\", round(costPrice*0.15,2))\n",
    "elif costPrice > 50000 and costPrice <= 100000 :\n",
    "    print(\"The road tax to be paid is\", round(costPrice*0.10,2))\n",
    "else :\n",
    "    print(\"The road tax to be paid is\", round(costPrice*0.05,2))"
   ]
  },
  {
   "cell_type": "markdown",
   "id": "6944677e-ca4d-4c17-bc28-948404e6c0c2",
   "metadata": {},
   "source": [
    "## Q 03 Accept any city from user and display monuments of that city\n",
    "| City            | Monument       |\n",
    "| :-----------:   | :-----------:  |\n",
    "| Delhi           | Red Fort       |\n",
    "| Agra            | Taj Mahal      |\n",
    "| Jaipur          | Jal Mahal      |"
   ]
  },
  {
   "cell_type": "code",
   "execution_count": 3,
   "id": "ab489d9d-873c-46cb-b4ee-20cf0629f066",
   "metadata": {},
   "outputs": [
    {
     "name": "stdin",
     "output_type": "stream",
     "text": [
      "Please enter the name of city: Jaipur\n"
     ]
    },
    {
     "name": "stdout",
     "output_type": "stream",
     "text": [
      "The monument of city Jaipur is 'Jal Mahal'\n"
     ]
    }
   ],
   "source": [
    "# Program to accept any city from user and display monuments of that city\n",
    "\n",
    "# Taking city name as input from user\n",
    "city = input(\"Please enter the name of city:\")\n",
    "\n",
    "city = city.lower()\n",
    "\n",
    "# Checking for city name and printing it's monument\n",
    "if city == 'delhi' :\n",
    "    print(\"The monument of city\",city.title(),\"is 'Red Fort'\")\n",
    "elif city == 'agra' :\n",
    "    print(\"The monument of city\",city.title(),\"is 'Taj Mahal'\")\n",
    "elif city == 'jaipur' :\n",
    "    print(\"The monument of city\",city.title(),\"is 'Jal Mahal'\")\n",
    "else :\n",
    "    print(\"Please enter proper city!!!\")"
   ]
  },
  {
   "cell_type": "markdown",
   "id": "598a5890-7d07-4062-b8c5-bfa3cc956957",
   "metadata": {},
   "source": [
    "## Q 04 Check How many times a given number can be divided by 3 before it is less than equal to 10"
   ]
  },
  {
   "cell_type": "code",
   "execution_count": 4,
   "id": "617945d9-d8dc-4367-adab-5d66ba7b89e9",
   "metadata": {},
   "outputs": [
    {
     "name": "stdin",
     "output_type": "stream",
     "text": [
      "Enter the number: 65\n"
     ]
    },
    {
     "name": "stdout",
     "output_type": "stream",
     "text": [
      "The number 10 is 18 times divisible by 3 before it is less than equal to 10\n"
     ]
    }
   ],
   "source": [
    "num = int(input(\"Enter the number:\"))\n",
    "\n",
    "# counter to count number of times the number is divisible by 3 before it is less than equal to 10\n",
    "count = 0      \n",
    "\n",
    "# Writing loop to check divisibility under given condition\n",
    "while num > 10 :\n",
    "    if num % 3 == 0 :\n",
    "        count = count+1\n",
    "    num = num - 1\n",
    "\n",
    "print(\"The number\",num,\"is\",count,\"times divisible by 3 before it is less than equal to 10\")"
   ]
  },
  {
   "cell_type": "markdown",
   "id": "2b4dcd49-dd3c-4d70-9b0f-d80cce6e77df",
   "metadata": {},
   "source": [
    "## Q 05 Why and When to use `while` loop in python give a detailed description with example."
   ]
  },
  {
   "cell_type": "markdown",
   "id": "1d01d548-e7be-4481-a947-8e1dff798edb",
   "metadata": {},
   "source": [
    "A while loop in Python is used to execute a block of code repeatedly as long as a specified condition is true. It's particularly useful when the number of iterations is not fixed beforehand and depends on runtime conditions.\n",
    "\n",
    "For example, let's consider a scenario where you want to simulate a simple guessing game, where the user has to guess a randomly generated number between 1 and 100. The program should continue prompting the user for guesses until they guess the correct number."
   ]
  },
  {
   "cell_type": "code",
   "execution_count": 5,
   "id": "d785a058-9d35-4077-ab1c-748d056a391b",
   "metadata": {},
   "outputs": [
    {
     "name": "stdin",
     "output_type": "stream",
     "text": [
      "Guess the number (between 1 and 100):  66\n"
     ]
    },
    {
     "name": "stdout",
     "output_type": "stream",
     "text": [
      "Try again! The number is lower.\n"
     ]
    },
    {
     "name": "stdin",
     "output_type": "stream",
     "text": [
      "Guess the number (between 1 and 100):  44\n"
     ]
    },
    {
     "name": "stdout",
     "output_type": "stream",
     "text": [
      "Try again! The number is lower.\n"
     ]
    },
    {
     "name": "stdin",
     "output_type": "stream",
     "text": [
      "Guess the number (between 1 and 100):  22\n"
     ]
    },
    {
     "name": "stdout",
     "output_type": "stream",
     "text": [
      "Try again! The number is lower.\n"
     ]
    },
    {
     "name": "stdin",
     "output_type": "stream",
     "text": [
      "Guess the number (between 1 and 100):  11\n"
     ]
    },
    {
     "name": "stdout",
     "output_type": "stream",
     "text": [
      "Try again! The number is higher.\n"
     ]
    },
    {
     "name": "stdin",
     "output_type": "stream",
     "text": [
      "Guess the number (between 1 and 100):  16\n"
     ]
    },
    {
     "name": "stdout",
     "output_type": "stream",
     "text": [
      "Try again! The number is higher.\n"
     ]
    },
    {
     "name": "stdin",
     "output_type": "stream",
     "text": [
      "Guess the number (between 1 and 100):  19\n"
     ]
    },
    {
     "name": "stdout",
     "output_type": "stream",
     "text": [
      "Try again! The number is higher.\n"
     ]
    },
    {
     "name": "stdin",
     "output_type": "stream",
     "text": [
      "Guess the number (between 1 and 100):  20\n"
     ]
    },
    {
     "name": "stdout",
     "output_type": "stream",
     "text": [
      "Try again! The number is higher.\n"
     ]
    },
    {
     "name": "stdin",
     "output_type": "stream",
     "text": [
      "Guess the number (between 1 and 100):  21\n"
     ]
    },
    {
     "name": "stdout",
     "output_type": "stream",
     "text": [
      "Congratulations! You guessed the correct number: 21\n"
     ]
    }
   ],
   "source": [
    "import random\n",
    "\n",
    "# Generate a random number between 1 and 100\n",
    "target_number = random.randint(1, 100)\n",
    "\n",
    "# Initialize the user's guess\n",
    "guess = None\n",
    "\n",
    "# Start the guessing game\n",
    "while guess != target_number:\n",
    "    # Ask the user for a guess\n",
    "    guess = int(input(\"Guess the number (between 1 and 100): \"))\n",
    "    \n",
    "    # Checking if the guess is correct\n",
    "    if guess == target_number:\n",
    "        print(\"Congratulations! You guessed the correct number:\", target_number)\n",
    "    elif guess < target_number:\n",
    "        print(\"Try again! The number is higher.\")\n",
    "    else:\n",
    "        print(\"Try again! The number is lower.\")\n"
   ]
  },
  {
   "cell_type": "markdown",
   "id": "751517f6-6d7d-41be-84e8-0659baaf2ad4",
   "metadata": {},
   "source": [
    "This example demonstrates how a while loop can be used to implement interactive behavior in a program, where the execution depends on user input and dynamic conditions."
   ]
  },
  {
   "cell_type": "markdown",
   "id": "0754af78-bc1a-403c-92fe-1116829b4dd0",
   "metadata": {},
   "source": [
    "## Q 06 Use nested while loop to print 3 different patterns."
   ]
  },
  {
   "cell_type": "code",
   "execution_count": 6,
   "id": "d09e8687-7d85-48dc-9910-5b972c703b0e",
   "metadata": {},
   "outputs": [
    {
     "name": "stdin",
     "output_type": "stream",
     "text": [
      "Please enter total number of rows you want in pattern: 5\n"
     ]
    },
    {
     "name": "stdout",
     "output_type": "stream",
     "text": [
      "*\n",
      "**\n",
      "***\n",
      "****\n",
      "*****\n"
     ]
    }
   ],
   "source": [
    "# Pattern 01 -> Right-angle triangle\n",
    "rows = int(input(\"Please enter total number of rows you want in pattern:\"))\n",
    "i = 1\n",
    "while i <= rows :   # Going to a row\n",
    "    j = 1\n",
    "    while j <= i:  # nested loop to print * in that row\n",
    "        print(\"*\", end=\"\")\n",
    "        j += 1\n",
    "    print(\"\")\n",
    "    i += 1"
   ]
  },
  {
   "cell_type": "code",
   "execution_count": 7,
   "id": "36e0851a-61e7-44fa-ac5a-e40d90fdf085",
   "metadata": {},
   "outputs": [
    {
     "name": "stdin",
     "output_type": "stream",
     "text": [
      "Please enter total number of rows you want in pattern: 5\n"
     ]
    },
    {
     "name": "stdout",
     "output_type": "stream",
     "text": [
      "    *\n",
      "   ***\n",
      "  *****\n",
      " *******\n",
      "*********\n"
     ]
    }
   ],
   "source": [
    "# Pattern 02 -> Triangular pattern\n",
    "rows = int(input(\"Please enter total number of rows you want in pattern:\"))\n",
    "i = 1\n",
    "while i <= rows:\n",
    "    spaces = rows - i\n",
    "    while spaces > 0:\n",
    "        print(\" \", end=\"\")\n",
    "        spaces -= 1\n",
    "    stars = 2 * i - 1\n",
    "    while stars > 0:\n",
    "        print(\"*\", end=\"\")\n",
    "        stars -= 1\n",
    "    print(\"\")\n",
    "    i += 1"
   ]
  },
  {
   "cell_type": "code",
   "execution_count": 8,
   "id": "c355f946-c34e-49a6-835d-26ec2d55f50b",
   "metadata": {},
   "outputs": [
    {
     "name": "stdin",
     "output_type": "stream",
     "text": [
      "Please enter total number of rows you want in pattern: 5\n"
     ]
    },
    {
     "name": "stdout",
     "output_type": "stream",
     "text": [
      "    *\n",
      "   ***\n",
      "  *****\n",
      " *******\n",
      "*********\n",
      " *******\n",
      "  *****\n",
      "   ***\n",
      "    *\n"
     ]
    }
   ],
   "source": [
    "# Pattern 3 -> Diamond\n",
    "rows = int(input(\"Please enter total number of rows you want in pattern:\"))\n",
    "i = 1\n",
    "while i <= rows:\n",
    "    spaces = rows - i\n",
    "    while spaces > 0:\n",
    "        print(\" \", end=\"\")\n",
    "        spaces -= 1\n",
    "    stars = 2 * i - 1\n",
    "    while stars > 0:\n",
    "        print(\"*\", end=\"\")\n",
    "        stars -= 1\n",
    "    print(\"\")\n",
    "    i += 1\n",
    "\n",
    "i = rows - 1\n",
    "while i >= 1:\n",
    "    spaces = rows - i\n",
    "    while spaces > 0:\n",
    "        print(\" \", end=\"\")\n",
    "        spaces -= 1\n",
    "    stars = 2 * i - 1\n",
    "    while stars > 0:\n",
    "        print(\"*\", end=\"\")\n",
    "        stars -= 1\n",
    "    print(\"\")\n",
    "    i -= 1\n"
   ]
  },
  {
   "cell_type": "markdown",
   "id": "ca5ed4b5-4380-4df2-a931-8202bed1fefb",
   "metadata": {},
   "source": [
    "## `Q 07 and 08` Reverse a while loop to display numbers from 10 to 1."
   ]
  },
  {
   "cell_type": "code",
   "execution_count": 9,
   "id": "8667540e-e5cc-4278-964f-98a185bed35d",
   "metadata": {},
   "outputs": [
    {
     "name": "stdout",
     "output_type": "stream",
     "text": [
      "10\n",
      "9\n",
      "8\n",
      "7\n",
      "6\n",
      "5\n",
      "4\n",
      "3\n",
      "2\n",
      "1\n"
     ]
    }
   ],
   "source": [
    "# Initializing a variable to value 10\n",
    "num = 10\n",
    "\n",
    "# Writing while loop to display numbers from 10 to 1 \n",
    "while num>0 :\n",
    "    print(num)\n",
    "    num = num-1"
   ]
  },
  {
   "cell_type": "code",
   "execution_count": null,
   "id": "9b9ab81e-733e-4018-81dd-e5b15d0ec7ed",
   "metadata": {},
   "outputs": [],
   "source": []
  }
 ],
 "metadata": {
  "kernelspec": {
   "display_name": "Python 3 (ipykernel)",
   "language": "python",
   "name": "python3"
  },
  "language_info": {
   "codemirror_mode": {
    "name": "ipython",
    "version": 3
   },
   "file_extension": ".py",
   "mimetype": "text/x-python",
   "name": "python",
   "nbconvert_exporter": "python",
   "pygments_lexer": "ipython3",
   "version": "3.10.8"
  }
 },
 "nbformat": 4,
 "nbformat_minor": 5
}
