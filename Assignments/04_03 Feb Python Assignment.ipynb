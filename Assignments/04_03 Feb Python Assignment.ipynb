{
 "cells": [
  {
   "cell_type": "markdown",
   "id": "eae4353a-f23c-4337-9575-0a8c2eb6e4cd",
   "metadata": {},
   "source": [
    "## Q 01 Which keyword is used to create a function? Create a function to return a list of odd numbers in the range of 1 to 25."
   ]
  },
  {
   "cell_type": "markdown",
   "id": "0dc0726e-cabc-4a8f-881a-e38c31a103c2",
   "metadata": {},
   "source": [
    "The keyword `def` is used to create a function. But if we want to create a one-linear i.e. short-hand function then we can do so using keyword `lambda`."
   ]
  },
  {
   "cell_type": "code",
   "execution_count": 1,
   "id": "72d47496-4220-4eb9-affa-86ddcdb413a0",
   "metadata": {},
   "outputs": [],
   "source": [
    "# using \"def\" keyword\n",
    "def oddNum():\n",
    "    tempList = []\n",
    "    for i in range(1,26):\n",
    "        if i%2 != 0:\n",
    "            tempList.append(i)\n",
    "    return tempList"
   ]
  },
  {
   "cell_type": "code",
   "execution_count": 2,
   "id": "2d57e8f1-cdeb-4069-a4ba-8f122da5a387",
   "metadata": {},
   "outputs": [
    {
     "data": {
      "text/plain": [
       "[1, 3, 5, 7, 9, 11, 13, 15, 17, 19, 21, 23, 25]"
      ]
     },
     "execution_count": 2,
     "metadata": {},
     "output_type": "execute_result"
    }
   ],
   "source": [
    "oddNum()"
   ]
  },
  {
   "cell_type": "code",
   "execution_count": 3,
   "id": "db4217b6-749f-4dca-abfb-7826220f56bf",
   "metadata": {},
   "outputs": [
    {
     "data": {
      "text/plain": [
       "[1, 3, 5, 7, 9, 11, 13, 15, 17, 19, 21, 23, 25]"
      ]
     },
     "execution_count": 3,
     "metadata": {},
     "output_type": "execute_result"
    }
   ],
   "source": [
    "# Using \"lambda\" keyword\n",
    "\n",
    "# making list containing numbers 1 to 25\n",
    "l = []\n",
    "for i in range(1,26):\n",
    "    l.append(i)\n",
    "    \n",
    "# writing function using 'lambda'\n",
    "list(filter(lambda x : x%2 != 0, l))"
   ]
  },
  {
   "cell_type": "raw",
   "id": "8df797c2-9c82-4c78-bf7a-7deddd7bad5b",
   "metadata": {},
   "source": []
  },
  {
   "cell_type": "markdown",
   "id": "ca892978-736c-4015-a6f3-bbfef80c7360",
   "metadata": {},
   "source": [
    "## Q 02 Why `*args` and `**kwargs` is used in some functions? Create a function each for *args and **kwargs to demonstrate their use."
   ]
  },
  {
   "cell_type": "markdown",
   "id": "baf0fae1-f50f-4b14-ab35-ac56cdb25fda",
   "metadata": {},
   "source": [
    "`*args` and `**kwargs` are used in Python functions to handle variable-length arguments.\n",
    "\n",
    "`*args`:- This allows a function to accept any number of positional arguments. The args parameter inside the function becomes a tuple containing all the positional arguments passed to the function.\n",
    "\n",
    "`**kwargs`:- This allows a function to accept any number of keyword arguments (arguments specified with a keyword). The kwargs parameter inside the function becomes a dictionary containing all the keyword arguments passed to the function.\n",
    "\n",
    "Here's a demonstration of how to use *args and **kwargs:"
   ]
  },
  {
   "cell_type": "code",
   "execution_count": 4,
   "id": "a726d3f8-7610-42e4-a604-fda717479e3d",
   "metadata": {},
   "outputs": [
    {
     "name": "stdout",
     "output_type": "stream",
     "text": [
      "Using *args:\n",
      "Sum of numbers: 15\n",
      "\n",
      "Using **kwargs:\n",
      "name: John\n",
      "age: 30\n",
      "city: New York\n"
     ]
    }
   ],
   "source": [
    "# Function using *args\n",
    "def sum_of_numbers(*args):\n",
    "    total = 0\n",
    "    for num in args:\n",
    "        total += num\n",
    "    return total\n",
    "\n",
    "# Function using **kwargs\n",
    "def display_info(**kwargs):\n",
    "    for key, value in kwargs.items():\n",
    "        print(f\"{key}: {value}\")\n",
    "\n",
    "# Example usage of the functions\n",
    "print(\"Using *args:\")\n",
    "print(\"Sum of numbers:\", sum_of_numbers(1, 2, 3, 4, 5))  # Output: 15\n",
    "\n",
    "print(\"\\nUsing **kwargs:\")\n",
    "display_info(name=\"John\", age=30, city=\"New York\")"
   ]
  },
  {
   "cell_type": "raw",
   "id": "a934106d-be4d-43c6-87c8-8925b24d6bbd",
   "metadata": {},
   "source": []
  },
  {
   "cell_type": "markdown",
   "id": "c0f0333e-ca43-4cef-93d7-37d40f8a15bb",
   "metadata": {},
   "source": [
    "## Q 03 What is an iterator in python? Name the method used to initialise the iterator object and the method used for iteration. Use these methods to print the first five elements of the given list [2, 4, 6, 8, 10, 12, 14, 16, 18, 20]."
   ]
  },
  {
   "cell_type": "markdown",
   "id": "5ddc1724-1197-4e6e-b8ba-796c09952fe1",
   "metadata": {},
   "source": [
    "An iterator in Python is an object that represents a stream of data. It implements two methods: `iter()` and `next()`. In other words we can say that it is an object in which we can get/fetch something(output/data) iteratively i.e. using next()\n",
    "\n",
    "iter(): This method initializes the iterator object and returns itself.\n",
    "\n",
    "next(): This method is used for iteration. It returns the next element in the sequence, and when there are no more elements, it raises a StopIteration exception."
   ]
  },
  {
   "cell_type": "code",
   "execution_count": 5,
   "id": "27884a17-89fe-4a0e-9514-2e46e3228b04",
   "metadata": {},
   "outputs": [
    {
     "name": "stdout",
     "output_type": "stream",
     "text": [
      "First five elements of the given list:\n",
      "2\n",
      "4\n",
      "6\n",
      "8\n",
      "10\n"
     ]
    }
   ],
   "source": [
    "# initiallizing the list\n",
    "myList = [2, 4, 6, 8, 10, 12, 14, 16, 18, 20]\n",
    "\n",
    "# Initialize the iterator object\n",
    "myIterator = iter(myList)\n",
    "\n",
    "# Iterating using the iterator\n",
    "print(\"First five elements of the given list:\")\n",
    "for i in range(5):  # Iterate five times to print the first five elements\n",
    "    print(next(myIterator))\n"
   ]
  },
  {
   "cell_type": "raw",
   "id": "90288104-1010-4dce-ab77-11400a2c5e4d",
   "metadata": {},
   "source": []
  },
  {
   "cell_type": "markdown",
   "id": "c5de97e9-b2b8-4469-973b-9fe5ef8d0703",
   "metadata": {},
   "source": [
    "## Q 04 What is a generator function in python? Why yield keyword is used? Give an example of a generator function."
   ]
  },
  {
   "cell_type": "markdown",
   "id": "c2f81bf6-ffef-4d20-ac5d-7fb2d48f4e1f",
   "metadata": {},
   "source": [
    "Suppose we have a function which have to store millions or billions of numbers or data in a list and then it will give that list as output. So in this case our memory consumption will be too high.\n",
    "\n",
    "Here to reduce this memory consumption we can use `generator` functions.\n",
    "\n",
    "A generator function in Python is a special type of function that allows you to generate a sequence of values lazily, one at a time, using the **yield** keyword. Unlike regular functions that return a single value and then exit, generator functions can yield multiple values over time, suspending and resuming execution as needed.\n",
    "\n",
    "The `yield` keyword is used in generator functions to yield (produce) a value to the caller while temporarily suspending the function's execution state. When a value is yielded, the function's state is saved, allowing it to be resumed later from the same point. This enables generator functions to generate values on-the-fly without storing the entire sequence in memory, making them memory-efficient for handling large datasets or infinite sequences."
   ]
  },
  {
   "cell_type": "code",
   "execution_count": 6,
   "id": "e7ee7d68-19d2-452e-b2d4-ed3347630868",
   "metadata": {},
   "outputs": [],
   "source": [
    "# Fibbonacci series\n",
    "def fibSeries(n):\n",
    "    a,b = 0,1\n",
    "    for i in range(n):       # iterating loop n-times\n",
    "        yield a              # here yield keyword helps in throwing data as output in this iteration\n",
    "        a,b = b,a+b"
   ]
  },
  {
   "cell_type": "code",
   "execution_count": 7,
   "id": "b222a0f5-8b70-4005-8f78-03f414abbe5d",
   "metadata": {},
   "outputs": [
    {
     "name": "stdout",
     "output_type": "stream",
     "text": [
      "0\n",
      "1\n",
      "1\n",
      "2\n",
      "3\n",
      "5\n",
      "8\n",
      "13\n",
      "21\n",
      "34\n"
     ]
    }
   ],
   "source": [
    "for i in fibSeries(10):\n",
    "    print(i)"
   ]
  },
  {
   "cell_type": "code",
   "execution_count": 8,
   "id": "73ca24c3-4321-43c8-93a2-1575348ffc52",
   "metadata": {},
   "outputs": [
    {
     "data": {
      "text/plain": [
       "[0, 1, 1, 2, 3, 5, 8, 13, 21, 34]"
      ]
     },
     "execution_count": 8,
     "metadata": {},
     "output_type": "execute_result"
    }
   ],
   "source": [
    "# or also we can print output as follows \n",
    "list(fibSeries(10))"
   ]
  },
  {
   "cell_type": "raw",
   "id": "45c647cd-0f14-45e2-84c3-225339633130",
   "metadata": {},
   "source": []
  },
  {
   "cell_type": "markdown",
   "id": "8f8ee2ab-7b8e-4c8f-8ab1-615e7cd9cfab",
   "metadata": {},
   "source": [
    "## Q 05 Create a generator function for prime numbers less than 1000. Use the next() method to print the first 20 prime numbers."
   ]
  },
  {
   "cell_type": "code",
   "execution_count": 9,
   "id": "6e1194cd-21cb-49ba-8896-b0c118394e64",
   "metadata": {},
   "outputs": [
    {
     "name": "stdout",
     "output_type": "stream",
     "text": [
      "First 20 prime numbers:\n",
      "2\n",
      "3\n",
      "5\n",
      "7\n",
      "11\n",
      "13\n",
      "17\n",
      "19\n",
      "23\n",
      "29\n",
      "31\n",
      "37\n",
      "41\n",
      "43\n",
      "47\n",
      "53\n",
      "59\n",
      "61\n",
      "67\n",
      "71\n"
     ]
    }
   ],
   "source": [
    "def generatePrimes():\n",
    "    # Yield prime numbers less than 1000\n",
    "    for num in range(2, 1000):\n",
    "        if isPrime(num):\n",
    "            yield num\n",
    "\n",
    "def isPrime(n):\n",
    "    # Check if a number is prime\n",
    "    if n <= 1:\n",
    "        return False\n",
    "    for i in range(2, n):\n",
    "        if n % i == 0:\n",
    "            return False\n",
    "    return True\n",
    "\n",
    "# Create a generator object for prime numbers\n",
    "primeGenerator = generatePrimes()\n",
    "\n",
    "# Print the first 20 prime numbers\n",
    "print(\"First 20 prime numbers:\")\n",
    "for i in range(20):\n",
    "    print(next(primeGenerator))\n"
   ]
  },
  {
   "cell_type": "raw",
   "id": "6b50abaa-0969-4157-bace-55fadabf4287",
   "metadata": {},
   "source": []
  },
  {
   "cell_type": "markdown",
   "id": "4d08aa6c-7338-4282-9ce4-17a045697f35",
   "metadata": {},
   "source": [
    "## Q 06 Write a python program to print the first 10 Fibonacci numbers using a while loop."
   ]
  },
  {
   "cell_type": "code",
   "execution_count": 10,
   "id": "da85d3c4-1cf5-4d02-a0f6-74849c424ac4",
   "metadata": {},
   "outputs": [
    {
     "name": "stdout",
     "output_type": "stream",
     "text": [
      "First 10 fibonacci numbers are:\n",
      "0\n",
      "1\n",
      "1\n",
      "2\n",
      "3\n",
      "5\n",
      "8\n",
      "13\n",
      "21\n",
      "34\n"
     ]
    }
   ],
   "source": [
    "def fibUsingWhile():\n",
    "    a,b = 0,1\n",
    "    while True :      \n",
    "        yield a\n",
    "        a,b = b,a+b\n",
    "        \n",
    "fibObject = fibUsingWhile()\n",
    "\n",
    "print(\"First 10 fibonacci numbers are:\")\n",
    "for i in range(10):\n",
    "    print(next(fibObject))"
   ]
  },
  {
   "cell_type": "raw",
   "id": "830574c0-fdbb-4266-aabc-6e8b3210d909",
   "metadata": {},
   "source": []
  },
  {
   "cell_type": "markdown",
   "id": "17bd6690-ea60-44bc-b98c-6f26ac4bfbaa",
   "metadata": {},
   "source": [
    "## Q 07 Write a List Comprehension to iterate through the given string: ‘pwskills’.\n",
    "Expected output: ['p', 'w', 's', 'k', 'i', 'l', 'l', 's']"
   ]
  },
  {
   "cell_type": "code",
   "execution_count": 11,
   "id": "708ed70b-c1cf-46a9-85cd-654f54b49130",
   "metadata": {},
   "outputs": [
    {
     "name": "stdout",
     "output_type": "stream",
     "text": [
      "['p', 'w', 's', 'k', 'i', 'l', 'l', 's']\n"
     ]
    }
   ],
   "source": [
    "strVar = \"pwskills\"\n",
    "\n",
    "# creating lis using list comprehension\n",
    "outputList = [char for char in strVar]\n",
    "print(outputList)"
   ]
  },
  {
   "cell_type": "raw",
   "id": "b8e6daf1-2bae-42b5-b8cb-ab0849dc4577",
   "metadata": {},
   "source": []
  },
  {
   "cell_type": "markdown",
   "id": "c2e1401f-5854-480f-b340-6fe83d65cffe",
   "metadata": {},
   "source": [
    "## Q 08 Write a python program to check whether a given number is Palindrome or not using a while loop."
   ]
  },
  {
   "cell_type": "code",
   "execution_count": 12,
   "id": "c0169576-f785-43fb-bbd2-b05e370bfef8",
   "metadata": {},
   "outputs": [
    {
     "name": "stdin",
     "output_type": "stream",
     "text": [
      "Enter a number to check if it's a palindrome:  151\n"
     ]
    },
    {
     "name": "stdout",
     "output_type": "stream",
     "text": [
      "151 is a palindrome.\n"
     ]
    }
   ],
   "source": [
    "def isPalindrome(number):\n",
    "    # Convert the number to a string\n",
    "    number_str = str(number)\n",
    "    \n",
    "    # Initialize variables for the start and end indices of the string\n",
    "    start = 0\n",
    "    end = len(number_str) - 1\n",
    "    \n",
    "    # Use a while loop to compare characters from both ends of the string\n",
    "    while start < end:\n",
    "        if number_str[start] != number_str[end]:\n",
    "            return False\n",
    "        start += 1\n",
    "        end -= 1\n",
    "    \n",
    "    return True\n",
    "\n",
    "# Test the function\n",
    "num = int(input(\"Enter a number to check if it's a palindrome: \"))\n",
    "if isPalindrome(num):\n",
    "    print(num, \"is a palindrome.\")\n",
    "else:\n",
    "    print(num, \"is not a palindrome.\")\n"
   ]
  },
  {
   "cell_type": "raw",
   "id": "1e10a4e0-4788-411f-8c05-58736e9c0425",
   "metadata": {},
   "source": []
  },
  {
   "cell_type": "markdown",
   "id": "e18fbc22-63a3-4e97-9b84-ec72a63dc4fe",
   "metadata": {},
   "source": [
    "## Q 09 Write a code to print odd numbers from 1 to 100 using list comprehension.\n",
    "\n",
    "Note:- Use a list comprehension to create a list from 1 to 100 and use another List comprehension to filter\n",
    "out odd numbers."
   ]
  },
  {
   "cell_type": "code",
   "execution_count": 15,
   "id": "71c7a4b3-b521-4fd8-a81c-bd01e29a896d",
   "metadata": {},
   "outputs": [
    {
     "name": "stdout",
     "output_type": "stream",
     "text": [
      "[1, 3, 5, 7, 9, 11, 13, 15, 17, 19, 21, 23, 25, 27, 29, 31, 33, 35, 37, 39, 41, 43, 45, 47, 49, 51, 53, 55, 57, 59, 61, 63, 65, 67, 69, 71, 73, 75, 77, 79, 81, 83, 85, 87, 89, 91, 93, 95, 97, 99]\n"
     ]
    }
   ],
   "source": [
    "# Use list comprehension to create a list from 1 to 100\n",
    "numbers = [num for num in range(1, 101)]\n",
    "\n",
    "# Use another list comprehension to filter out odd numbers\n",
    "odd_numbers = [num for num in numbers if num % 2 != 0]\n",
    "\n",
    "# Print the list of odd numbers\n",
    "print(odd_numbers)"
   ]
  },
  {
   "cell_type": "raw",
   "id": "b84e0ee6-32a5-484e-8878-3b59178324eb",
   "metadata": {},
   "source": []
  },
  {
   "cell_type": "raw",
   "id": "bbd10371-1099-4e86-8593-aa4da18f9403",
   "metadata": {},
   "source": []
  },
  {
   "cell_type": "markdown",
   "id": "34c0dbe0-5cbf-4564-a1b8-52321d60bbe3",
   "metadata": {},
   "source": [
    "## **`List Comprehension`**"
   ]
  },
  {
   "cell_type": "markdown",
   "id": "2f0e11d4-1af6-4014-a4c6-cf0b32537876",
   "metadata": {},
   "source": [
    "List comprehension is a concise and efficient way to create lists in Python. It allows you to generate a new list by applying an expression to each item in an iterable (such as a list, tuple, or range) and optionally filtering the items based on a condition. We can use it to filter, format, modify, or do other small tasks on existing iterables such as strings, tuples, sets, dataframes, array lists, and so on.\n",
    "\n",
    "It has three components:\n",
    "1. For loop\n",
    "2. Condition and expression\n",
    "3. Output\n",
    "\n",
    "Basic syntax is like :-\n",
    "[expression for item in iterable if condition]\n",
    "\n",
    "**expression**: The expression to evaluate for each item in the iterable. This expression is applied to each item to create the elements of the new list.\n",
    "\n",
    "**item**: The variable representing each item in the iterable.\n",
    "\n",
    "**iterable**: The iterable (e.g., list, tuple, range) that provides the items to iterate over. \n",
    "\n",
    "**condition (optional)**: An optional condition that filters the items. Only items for which the condition evaluates to True are included in the new list."
   ]
  },
  {
   "cell_type": "code",
   "execution_count": 16,
   "id": "0cde3194-f236-46bd-bddc-17f99d4a0c6f",
   "metadata": {},
   "outputs": [
    {
     "name": "stdout",
     "output_type": "stream",
     "text": [
      "[1, 4, 9, 16, 25]\n"
     ]
    }
   ],
   "source": [
    "numbers = [1, 2, 3, 4, 5]\n",
    "squared_numbers = [num ** 2 for num in numbers]\n",
    "print(squared_numbers)  "
   ]
  },
  {
   "cell_type": "raw",
   "id": "1734be90-9bd7-4bb2-b6f8-2494af99e338",
   "metadata": {},
   "source": []
  }
 ],
 "metadata": {
  "kernelspec": {
   "display_name": "Python 3 (ipykernel)",
   "language": "python",
   "name": "python3"
  },
  "language_info": {
   "codemirror_mode": {
    "name": "ipython",
    "version": 3
   },
   "file_extension": ".py",
   "mimetype": "text/x-python",
   "name": "python",
   "nbconvert_exporter": "python",
   "pygments_lexer": "ipython3",
   "version": "3.10.8"
  }
 },
 "nbformat": 4,
 "nbformat_minor": 5
}
