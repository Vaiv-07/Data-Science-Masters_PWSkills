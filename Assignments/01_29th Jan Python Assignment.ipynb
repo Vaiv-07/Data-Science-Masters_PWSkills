{
 "cells": [
  {
   "cell_type": "markdown",
   "id": "3f9f741d-2212-4e65-b397-b5ce6efb8d14",
   "metadata": {},
   "source": [
    "## Q. 01 Who developed PYTHON programming language ?"
   ]
  },
  {
   "cell_type": "markdown",
   "id": "3275dba5-1ab2-4b71-9d7f-eb5175a78c82",
   "metadata": {},
   "source": [
    "Mr. `Guido van Rossum` developed PYTHON programming language,  and first released on February 20, 1991. "
   ]
  },
  {
   "cell_type": "markdown",
   "id": "8e2ae8ec-0032-4295-b0af-39b36f2ebfd0",
   "metadata": {},
   "source": [
    "## Q 02 Which type of programming does python support ?"
   ]
  },
  {
   "cell_type": "markdown",
   "id": "d21e81fa-0a1d-4afb-a796-3ab870f5c137",
   "metadata": {},
   "source": [
    "Python supports multiple programming paradigms beyond object-oriented programming, such as procedural and functional and imperative programming."
   ]
  },
  {
   "cell_type": "markdown",
   "id": "e0ba0a5f-a5cc-4e94-ae99-592a97165ddb",
   "metadata": {},
   "source": [
    "## Q 03 Is python case sensitive when dealing with identifiers ?"
   ]
  },
  {
   "cell_type": "markdown",
   "id": "5ff25b33-dd28-4ac5-bf2f-3df307bf3190",
   "metadata": {},
   "source": [
    "Yes, Python is case-sensitive when dealing with identifiers. This means that variables, function names, class names, and other identifiers must be typed with the exact same capitalization each time they are referenced. For example, variables named \"var\", \"Var\", and \"VAR\" would be considered distinct identifiers in Python."
   ]
  },
  {
   "cell_type": "code",
   "execution_count": 1,
   "id": "60d8b10b-84cb-4926-99ad-70731adc5231",
   "metadata": {},
   "outputs": [
    {
     "name": "stdout",
     "output_type": "stream",
     "text": [
      "1\n",
      "5\n",
      "9\n"
     ]
    }
   ],
   "source": [
    "# For example\n",
    "var = 1\n",
    "Var = 5\n",
    "VAR = 9\n",
    "print(var)\n",
    "print(Var)\n",
    "print(VAR)"
   ]
  },
  {
   "cell_type": "markdown",
   "id": "07ffbed1-9c7f-4a1a-8041-53951b354715",
   "metadata": {},
   "source": [
    "## Q 04 What is correct extension of python file ?"
   ]
  },
  {
   "cell_type": "markdown",
   "id": "93ebe845-ef0b-4b04-ae25-9c2cb6fcccd1",
   "metadata": {},
   "source": [
    "In general the most common extention of python file is `\".py\"`"
   ]
  },
  {
   "cell_type": "markdown",
   "id": "00b4ff20-9913-4f7a-98c9-296b36aefda4",
   "metadata": {},
   "source": [
    "## Q 05 Is Python code compiled or interpreted ?"
   ]
  },
  {
   "cell_type": "markdown",
   "id": "c2a0a062-0b17-4908-bdbb-093453c33435",
   "metadata": {},
   "source": [
    "Python code is typically interpreted, meaning that the Python interpreter reads and executes the code line by line at runtime. However, it's important to note that Python does involve a compilation step. When you run a Python script, the source code is first compiled into intermediate bytecode instructions by the Python interpreter. This bytecode is then executed by the Python virtual machine (PVM). \n",
    "\n",
    "So, in a sense, Python code undergoes a form of compilation to bytecode before being interpreted by the Python runtime environment. This hybrid approach combines elements of both compiled and interpreted languages."
   ]
  },
  {
   "cell_type": "markdown",
   "id": "0ccdac99-2953-43ba-937c-f07187107ec8",
   "metadata": {},
   "source": [
    "## Q 06 Name a few blocks of code to define in python programming language."
   ]
  },
  {
   "cell_type": "markdown",
   "id": "fea698ed-9979-4f38-b0bf-1652fb52f213",
   "metadata": {},
   "source": [
    "A Python program is constructed from code blocks. A block is a piece of Python program text that is executed as a unit. The following are blocks: a module, a function body, and a class definition. Each command typed interactively is a block. "
   ]
  },
  {
   "cell_type": "markdown",
   "id": "90c1f309-5db1-4cff-a8d6-b106e1b4d3f8",
   "metadata": {},
   "source": [
    "## Q 07 State character to give single line comment in python."
   ]
  },
  {
   "cell_type": "markdown",
   "id": "671e306f-f525-4ffd-b6ef-c4fbbaad86fb",
   "metadata": {},
   "source": [
    "Character `\"#\"` is used to give single line comment in python."
   ]
  },
  {
   "cell_type": "markdown",
   "id": "3b11428c-469a-4273-99d0-9fb5109a4931",
   "metadata": {},
   "source": [
    "## Q 08 Find functions that can help to find versions of python."
   ]
  },
  {
   "cell_type": "markdown",
   "id": "0cd5dc2d-b457-4481-a582-35fc9af19bb0",
   "metadata": {},
   "source": [
    "There are various ways to find out the veresion of python we are using. Here are some methods as below:"
   ]
  },
  {
   "cell_type": "code",
   "execution_count": 2,
   "id": "c77a3ec7-1568-402e-919b-836fa868fa1d",
   "metadata": {},
   "outputs": [
    {
     "name": "stdout",
     "output_type": "stream",
     "text": [
      "3.10.8 | packaged by conda-forge | (main, Nov 22 2022, 08:26:04) [GCC 10.4.0]\n"
     ]
    }
   ],
   "source": [
    "# Using 'sys' module\n",
    "import sys\n",
    "print(sys.version)\n"
   ]
  },
  {
   "cell_type": "code",
   "execution_count": 3,
   "id": "792e0dec-4a08-453f-8705-242d8c3a0af4",
   "metadata": {},
   "outputs": [
    {
     "name": "stdout",
     "output_type": "stream",
     "text": [
      "3.10.8\n"
     ]
    }
   ],
   "source": [
    "# using 'platform' module\n",
    "import platform\n",
    "print(platform.python_version())"
   ]
  },
  {
   "cell_type": "code",
   "execution_count": 4,
   "id": "b33e87d0-f273-4538-9bdb-3cd0f3dfeb80",
   "metadata": {},
   "outputs": [
    {
     "name": "stdout",
     "output_type": "stream",
     "text": [
      "3.10\n"
     ]
    }
   ],
   "source": [
    "# Using 'sysconfig' module\n",
    "import sysconfig\n",
    "print(sysconfig.get_python_version())"
   ]
  },
  {
   "cell_type": "markdown",
   "id": "8987ca35-983b-4778-b865-00d3344a0c92",
   "metadata": {},
   "source": [
    "## Q 09 Python support the creation of anonymous functions at runtime, using a construct called ___________."
   ]
  },
  {
   "cell_type": "markdown",
   "id": "864b7866-3ae1-45a4-ad20-a06b6e28ea35",
   "metadata": {},
   "source": [
    "Python supports the creation of anonymous functions using the `lambda` construct. \n",
    "\n",
    "Here's a basic syntax of how you can define an anonymous function using `lambda`:\n",
    "\n",
    "lambda arguments: expression\n",
    "\n",
    "Anonymous functions created using `lambda` are often used for short, simple operations where defining a named function is unnecessary."
   ]
  },
  {
   "cell_type": "code",
   "execution_count": 5,
   "id": "7e771adb-9050-4b4f-a03f-c4351105ee38",
   "metadata": {},
   "outputs": [
    {
     "name": "stdout",
     "output_type": "stream",
     "text": [
      "25\n"
     ]
    }
   ],
   "source": [
    "# For example, defining an anonymous function to calculate the square of a number\n",
    "square = lambda x: x * x\n",
    "print(square(5))"
   ]
  },
  {
   "cell_type": "markdown",
   "id": "3415dfb0-c81e-4974-a93f-cb4d0da37839",
   "metadata": {},
   "source": [
    "## Q 10 What does pip stands for in python ?"
   ]
  },
  {
   "cell_type": "markdown",
   "id": "1faa7d3f-9724-4c4b-987e-da8353465bd0",
   "metadata": {},
   "source": [
    "pip stands for \"Pip Installs Packages\". It's a package manager for Python that allows you to install and manage additional libraries and dependencies for your Python projects. With pip, you can easily install packages from the Python Package Index (PyPI) as well as from other sources."
   ]
  },
  {
   "cell_type": "markdown",
   "id": "edceebc0-ea59-495a-beb9-65d41461f056",
   "metadata": {},
   "source": [
    "## Q 11 Mention a few built-in functions in python."
   ]
  },
  {
   "cell_type": "markdown",
   "id": "8ec8e565-6812-4a2d-97ff-561ea42cf458",
   "metadata": {},
   "source": [
    "Certainly! Here are a few commonly used built-in functions in Python:\n",
    "\n",
    "1. `print()`: Used to print objects to the output stream.\n",
    "2. `len()`: Returns the length (the number of items) of an object.\n",
    "3. `input()`: Reads input from the user as a string.\n",
    "4. `range()`: Generates a sequence of numbers.\n",
    "5. `type()`: Returns the type of an object.\n",
    "6. `int()`, `float()`, `str()`, `bool()`: Convert a value to an integer, float, string, or boolean, respectively.\n",
    "7. `max()`, `min()`: Returns the maximum or minimum value from a sequence.\n",
    "8. `sum()`: Returns the sum of elements in a sequence.\n",
    "9. `map()`: Applies a given function to all the items of an iterable and returns a list of the results.\n",
    "\n",
    "These are just a few examples of built-in functions available in Python. There are many more built-in functions provided by Python's standard library to handle various tasks efficiently."
   ]
  },
  {
   "cell_type": "markdown",
   "id": "590955b2-c001-42f7-84f3-0540a9df8b74",
   "metadata": {},
   "source": [
    "## Q 12 What is the maximum possible length of an identifier in python ?"
   ]
  },
  {
   "cell_type": "markdown",
   "id": "2c9a1185-4cb1-47ec-a8f7-90cae247e473",
   "metadata": {},
   "source": [
    "According to the Python Style Guide (PEP 8), which is the style guide for Python code, it's recommended to keep the length of identifiers reasonably short, typically around `79` characters per line.\n",
    "\n",
    "In practical terms, it's advisable to keep identifiers reasonably short and descriptive for readability and maintainability of the code."
   ]
  },
  {
   "cell_type": "markdown",
   "id": "7a6ac260-c84a-4873-a48a-c2b9359a9a40",
   "metadata": {},
   "source": [
    "## Q 13 What are the benefits of using python ?"
   ]
  },
  {
   "cell_type": "markdown",
   "id": "0f9a3c8d-b760-417f-937c-63eedf8ec8b6",
   "metadata": {},
   "source": [
    "There are numerous benefits to using Python as a programming language. Some of the key advantages include:\n",
    "\n",
    "1. **Readability and Simplicity**: Python's syntax is designed to be easy to read and understand, making it accessible for beginners and experienced programmers alike. Its clean and concise code promotes better readability and reduces the cost of program maintenance.\n",
    "\n",
    "2. **Versatility and Flexibility**: Python supports multiple programming paradigms, including procedural, object-oriented, and functional programming. It is suitable for a wide range of applications, from web development and data analysis to scientific computing and artificial intelligence.\n",
    "\n",
    "3. **Large Standard Library**: Python comes with a vast standard library that provides modules and packages for performing various tasks, such as file I/O, networking, data processing, and more. This extensive library reduces the need for external dependencies and simplifies development.\n",
    "\n",
    "4. **Community and Ecosystem**: Python has a large and active community of developers who contribute to its growth and development. There are numerous third-party libraries and frameworks available for Python, providing solutions for almost any programming need. This rich ecosystem accelerates development and fosters collaboration.\n",
    "\n",
    "5. **Platform Independence**: Python is a cross-platform language, meaning it runs on various operating systems, including Windows, macOS, and Linux. This portability allows developers to write code once and run it anywhere, making it easier to deploy and maintain applications across different environments.\n",
    "\n",
    "6. **Ease of Learning and Teaching**: Python's simplicity and readability make it an excellent choice for beginners learning to program. Its straightforward syntax and comprehensive documentation lower the barrier to entry, enabling aspiring programmers to quickly grasp fundamental concepts and start building projects.\n",
    "\n",
    "7. **Integration Capabilities**: Python seamlessly integrates with other languages and technologies, such as C/C++, Java, and .NET. This interoperability facilitates building hybrid applications and leveraging existing codebases, enhancing productivity and extending the functionality of Python applications.\n",
    "\n",
    "8. **High-level Language Features**: Python provides high-level language features, such as dynamic typing, automatic memory management (garbage collection), and built-in data structures (lists, dictionaries, tuples), which simplify development and reduce the time required to write and debug code.\n",
    "\n",
    "Overall, Python's combination of simplicity, versatility, and a thriving ecosystem makes it a popular choice for developers across various domains and industries. Its benefits extend from rapid prototyping and scripting to building complex software solutions and scalable web applications."
   ]
  },
  {
   "cell_type": "markdown",
   "id": "1ee46474-70c3-4065-a11b-c4368b7ed472",
   "metadata": {},
   "source": [
    "## Q 14 How is memory management in Python ?"
   ]
  },
  {
   "cell_type": "markdown",
   "id": "caa4455c-9468-420b-bbdf-eb8e640fff39",
   "metadata": {},
   "source": [
    "Memory management in Python is handled automatically by the Python interpreter through a mechanism called \"automatic memory management\" or \"garbage collection\". Here's how it works:\n",
    "\n",
    "1. **Reference Counting**: Python uses reference counting as its primary memory management strategy. Each object in memory has a reference count, which is incremented when a new reference to the object is created and decremented when a reference is deleted or goes out of scope. When an object's reference count drops to zero, meaning there are no more references to it, the object is immediately deallocated, and its memory is reclaimed.\n",
    "\n",
    "2. **Garbage Collection**: In addition to reference counting, Python employs a garbage collection mechanism to detect and reclaim unreachable objects cyclically. This mechanism, known as cyclic garbage collection, identifies and collects objects that are part of reference cycles (i.e., objects that reference each other in a circular manner) and are thus unreachable through reference counting alone. Python's garbage collector periodically runs in the background to reclaim memory occupied by these unreachable objects, preventing memory leaks and ensuring efficient memory usage.\n",
    "\n",
    "3. **Memory Allocation**: Python's memory allocator manages the allocation and deallocation of memory blocks for objects. It uses various memory allocation strategies, such as small-object pools and dynamic memory allocation, to optimize memory usage and minimize fragmentation.\n",
    "\n",
    "4. **Memory Optimization**: Python provides mechanisms for memory optimization, such as object pooling, memory profiling, and tuning garbage collection parameters. These techniques can help developers improve memory efficiency and performance in memory-intensive applications.\n",
    "\n",
    "Overall, Python's memory management system abstracts low-level memory operations and provides automatic memory management capabilities, freeing developers from manual memory allocation and deallocation tasks. While this automatic memory management simplifies programming, developers should be aware of memory usage patterns and potential memory leaks to ensure efficient memory utilization in their Python applications."
   ]
  },
  {
   "cell_type": "markdown",
   "id": "f380dae3-9614-463c-a320-47c6a74bbe43",
   "metadata": {},
   "source": [
    "## Q 15 How to install python on windows and set path variable ?"
   ]
  },
  {
   "cell_type": "markdown",
   "id": "dbfe7e0b-f569-4244-9483-5a59263a66f9",
   "metadata": {},
   "source": [
    "To install Python on Windows and set the PATH variable, follow these steps:\n",
    "\n",
    "1. **Download Python Installer**: \n",
    "   - Go to the official Python website at https://www.python.org/.\n",
    "   - Navigate to the Downloads section and select the latest version of Python for Windows.\n",
    "   - Download the installer executable file (.exe) for the desired version (e.g., Python 3.10.0).\n",
    "\n",
    "2. **Run the Installer**:\n",
    "   - Double-click the downloaded installer file to run it.\n",
    "   - Check the box that says \"Add Python <version> to PATH\" during the installation process. This option ensures that the Python interpreter and associated tools are added to the system PATH automatically.\n",
    "\n",
    "3. **Complete the Installation**:\n",
    "   - Follow the prompts in the installation wizard to complete the installation process.\n",
    "   - Optionally, customize the installation by selecting additional features or changing the installation directory. \n",
    "\n",
    "4. **Verify Python Installation**:\n",
    "   - Open a Command Prompt window by searching for \"cmd\" in the Start menu.\n",
    "   - Type `python --version` and press Enter to verify that Python is installed correctly. You should see the installed Python version printed in the command prompt.\n",
    "\n",
    "5. **Set PATH Variable (if not added automatically)**:\n",
    "   - If you didn't select the option to add Python to the PATH during installation, you'll need to add it manually:\n",
    "     - Open File Explorer and navigate to the directory where Python is installed (usually C:\\Python<version>).\n",
    "     - Copy the path to the Python installation directory (e.g., C:\\Python39).\n",
    "     - Right-click on the Start button and select \"System\".\n",
    "     - In the System window, click on \"Advanced system settings\" on the left sidebar.\n",
    "     - In the System Properties window, click on the \"Environment Variables\" button.\n",
    "     - In the Environment Variables window, under System Variables, select the \"Path\" variable and click on \"Edit\".\n",
    "     - In the Edit Environment Variable window, click on \"New\" and paste the path to the Python installation directory.\n",
    "     - Click \"OK\" to save the changes and close all windows.\n",
    "\n",
    "6. **Verify PATH Variable**:\n",
    "   - Open a new Command Prompt window and type `python --version` again to ensure that Python can be executed from any directory.\n",
    "\n",
    "Now, Python is successfully installed on your Windows system, and the PATH variable is set to allow you to run Python commands from any directory in the Command Prompt. You can start writing and executing Python scripts on your Windows machine."
   ]
  },
  {
   "cell_type": "markdown",
   "id": "0fbb870b-477c-4241-bc5f-2ac892f4d422",
   "metadata": {},
   "source": [
    "## Q 16 Is indentation required in python ?"
   ]
  },
  {
   "cell_type": "markdown",
   "id": "1835d78b-b705-4046-8f27-d9e3bcda1008",
   "metadata": {},
   "source": [
    "Yes, indentation is required in Python. Unlike many other programming languages that use curly braces or keywords to denote blocks of code, Python uses indentation to define the structure and nesting of code blocks.\n",
    "\n",
    "Correct indentation is essential for Python's syntax and determines the scope of statements within loops, conditional statements, function definitions, and other code structures. Incorrect indentation can lead to syntax errors or alter the logical flow of the program."
   ]
  }
 ],
 "metadata": {
  "kernelspec": {
   "display_name": "Python 3 (ipykernel)",
   "language": "python",
   "name": "python3"
  },
  "language_info": {
   "codemirror_mode": {
    "name": "ipython",
    "version": 3
   },
   "file_extension": ".py",
   "mimetype": "text/x-python",
   "name": "python",
   "nbconvert_exporter": "python",
   "pygments_lexer": "ipython3",
   "version": "3.10.8"
  }
 },
 "nbformat": 4,
 "nbformat_minor": 5
}
