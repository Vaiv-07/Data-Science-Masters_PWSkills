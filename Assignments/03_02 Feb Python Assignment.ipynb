{
 "cells": [
  {
   "cell_type": "markdown",
   "id": "88738d6c-7d01-4006-ab2f-3fd2365301ed",
   "metadata": {
    "tags": []
   },
   "source": [
    "## Q 01 Explain with an example each when to use a for loop and a while loop."
   ]
  },
  {
   "cell_type": "markdown",
   "id": "8918e634-956a-4e28-8dfd-bedd579b3209",
   "metadata": {},
   "source": [
    "Use a `for` loop when:\n",
    "\n",
    "1. We want to iterate over a sequence of elements, such as a list, tuple, string, or range.\n",
    "2. The number of iterations is known or can be determined in advance.\n",
    "3. We don't need to manually control the loop's termination based on runtime conditions.\n",
    "\n",
    "Use a `while` loop when:\n",
    "\n",
    "1. We need to repeat a task until a specific condition is met.\n",
    "2. The number of iterations is not known in advance or depends on runtime conditions.\n",
    "3. We need to continuously monitor for events or changes.\n",
    "\n",
    "Here are examples for better understanding:-"
   ]
  },
  {
   "cell_type": "code",
   "execution_count": 1,
   "id": "abe1c4da-3b23-47cf-b4d8-71ddba0deaa0",
   "metadata": {},
   "outputs": [
    {
     "name": "stdout",
     "output_type": "stream",
     "text": [
      "FOR LOOP!!!\n",
      "\n",
      "1\n",
      "2\n",
      "3\n",
      "4\n",
      "5\n",
      "\n",
      "WHILE LOOP!!!\n",
      "\n"
     ]
    },
    {
     "name": "stdin",
     "output_type": "stream",
     "text": [
      "Please enter total time: 10\n"
     ]
    },
    {
     "name": "stdout",
     "output_type": "stream",
     "text": [
      "Countdown starts...\n",
      "10\n",
      "9\n",
      "8\n",
      "7\n",
      "6\n",
      "5\n",
      "4\n",
      "3\n",
      "2\n",
      "1\n",
      "Time's up!\n"
     ]
    }
   ],
   "source": [
    "# FOR loop example\n",
    "\n",
    "print(\"FOR LOOP!!!\\n\")\n",
    "# Iterate over a list of numbers using a for loop\n",
    "numbers = [1, 2, 3, 4, 5]\n",
    "for num in numbers:\n",
    "    print(num)\n",
    "\n",
    "# WHILE loop example\n",
    "\n",
    "print(\"\\nWHILE LOOP!!!\\n\")\n",
    "# Countdown Timer using a while loop\n",
    "seconds = int(input(\"Please enter total time:\"))  # Getting number of seconds as input from user\n",
    "\n",
    "print(\"Countdown starts...\")\n",
    "\n",
    "# Here number of times our loop runs is based upon input from user\n",
    "while seconds > 0:\n",
    "    print(seconds)\n",
    "    seconds -= 1\n",
    "print(\"Time's up!\")\n",
    "\n"
   ]
  },
  {
   "cell_type": "markdown",
   "id": "3473ddc0-aaa7-4a81-9049-bb88fc1505f7",
   "metadata": {},
   "source": [
    "## Q 02 Write a python program to print the sum and product of the first 10 natural numbers using for and while loop."
   ]
  },
  {
   "cell_type": "markdown",
   "id": "8d00da63-0601-4a70-b00f-bdda394f2a14",
   "metadata": {},
   "source": [
    "#### Using `FOR` loop"
   ]
  },
  {
   "cell_type": "code",
   "execution_count": 2,
   "id": "b436a9f0-6270-4e4f-96c3-5252756c06d2",
   "metadata": {},
   "outputs": [
    {
     "name": "stdout",
     "output_type": "stream",
     "text": [
      "Total sum of first 10 natural numbers: 55\n",
      "Product of first 10 natural numbers: 3628800\n"
     ]
    }
   ],
   "source": [
    "totalSum = 0   # initializing variable to store sum of numbers\n",
    "totalProduct = 1  # initialiizing variable to store product of numbers\n",
    "\n",
    "# writing logic using for loop\n",
    "for i in range(1, 11):\n",
    "    totalSum = totalSum + i\n",
    "    totalProduct = totalProduct * i\n",
    "    \n",
    "# printing the result\n",
    "print(\"Total sum of first 10 natural numbers:\",totalSum)\n",
    "print(\"Product of first 10 natural numbers:\",totalProduct)"
   ]
  },
  {
   "cell_type": "markdown",
   "id": "e6cfb73f-ea88-48d4-b3f3-a4c353c9798f",
   "metadata": {},
   "source": [
    "#### Using `WHILE` loop"
   ]
  },
  {
   "cell_type": "code",
   "execution_count": 3,
   "id": "f858411a-7fc1-4260-a002-2847b0e3e9a7",
   "metadata": {},
   "outputs": [
    {
     "name": "stdout",
     "output_type": "stream",
     "text": [
      "Total sum of first 10 natural numbers: 55\n",
      "Product of first 10 natural numbers: 3628800\n"
     ]
    }
   ],
   "source": [
    "num = 10   # initiallizing variable to store value 10\n",
    "sumResult = 0  # initializing variable to store sum of numbers\n",
    "productResult = 1  # initialiizing variable to store product of numbers\n",
    "\n",
    "# writing logic using while loop\n",
    "while num>0 :\n",
    "    sumResult = sumResult + num\n",
    "    productResult = productResult * num\n",
    "    num = num - 1\n",
    "    \n",
    "# printing the result\n",
    "print(\"Total sum of first 10 natural numbers:\",sumResult)\n",
    "print(\"Product of first 10 natural numbers:\",productResult)"
   ]
  },
  {
   "cell_type": "markdown",
   "id": "51d14134-5f06-47b8-b300-7939cca2be87",
   "metadata": {},
   "source": [
    "## Q 03 Create a python program to compute the electricity bill for a household.\n",
    "\n",
    "The per-unit charges in rupees are as follows: For the first 100 units, the user will be charged Rs. 4.5 per\n",
    "unit, for the next 100 units, the user will be charged Rs. 6 per unit, and for the next 100 units, the user will\n",
    "be charged Rs. 10 per unit, After 300 units and above the user will be charged Rs. 20 per unit.\n",
    "\n",
    "You are required to take the units of electricity consumed in a month from the user as input.\n",
    "\n",
    "Your program must pass this test case: when the unit of electricity consumed by the user in a month is\n",
    "310, the total electricity bill should be 2250."
   ]
  },
  {
   "cell_type": "code",
   "execution_count": 4,
   "id": "569db77b-1e57-43e1-a234-eb93d203effc",
   "metadata": {
    "tags": []
   },
   "outputs": [
    {
     "name": "stdin",
     "output_type": "stream",
     "text": [
      "Please enter the consumed electricity units: 310\n"
     ]
    },
    {
     "name": "stdout",
     "output_type": "stream",
     "text": [
      "Consumed units: 310 \n",
      "Total electricity bill: 2250.0\n"
     ]
    }
   ],
   "source": [
    "# Taking electicity units as input from user\n",
    "electrityUnits = int(input(\"Please enter the consumed electricity units:\"))\n",
    "totalUnits = electrityUnits\n",
    "# Writing loic for given conditions\n",
    "\n",
    "billAmount = 0   # variable to store amount\n",
    "temp = 0  # a temperory variable\n",
    "\n",
    "if electrityUnits > 300 :\n",
    "    temp = electrityUnits - 300\n",
    "    billAmount = temp * 20\n",
    "    electrityUnits = 300  # updating electricity units for further calculations\n",
    "    \n",
    "if electrityUnits > 200 and electrityUnits <= 300 :\n",
    "    temp = electrityUnits - 200\n",
    "    billAmount = temp * 10 + billAmount\n",
    "    electrityUnits = 200   # updating electricity units for further calculations\n",
    "    \n",
    "if electrityUnits > 100 and electrityUnits <= 200 :\n",
    "    temp = electrityUnits - 100\n",
    "    billAmount = temp * 6 + billAmount\n",
    "    electrityUnits = 100   # updating electricity units for further calculations\n",
    "    \n",
    "if electrityUnits <= 100 and electrityUnits >= 0 :\n",
    "    billAmount = electrityUnits * 4.5 + billAmount\n",
    "else :\n",
    "    print(\"Please enter correct readings!!!\")\n",
    "    \n",
    "# Printing the electricity bill\n",
    "print(\"Consumed units:\",totalUnits,\"\\nTotal electricity bill:\",billAmount)"
   ]
  },
  {
   "cell_type": "markdown",
   "id": "f6cf1e29-8652-4be2-abe0-ef36bb875093",
   "metadata": {},
   "source": [
    "## Q 04 Create a list of numbers from 1 to 100. Use for loop and while loop to calculate the cube of each number and if the cube of that number is divisible by 4 or 5 then append that number in a list and print that list."
   ]
  },
  {
   "cell_type": "code",
   "execution_count": 7,
   "id": "c71d8b90-42a5-4665-a9e8-a53de7c01fc1",
   "metadata": {
    "tags": []
   },
   "outputs": [
    {
     "name": "stdout",
     "output_type": "stream",
     "text": [
      "Initial list:\n",
      " [1, 2, 3, 4, 5, 6, 7, 8, 9, 10, 11, 12, 13, 14, 15, 16, 17, 18, 19, 20, 21, 22, 23, 24, 25, 26, 27, 28, 29, 30, 31, 32, 33, 34, 35, 36, 37, 38, 39, 40, 41, 42, 43, 44, 45, 46, 47, 48, 49, 50, 51, 52, 53, 54, 55, 56, 57, 58, 59, 60, 61, 62, 63, 64, 65, 66, 67, 68, 69, 70, 71, 72, 73, 74, 75, 76, 77, 78, 79, 80, 81, 82, 83, 84, 85, 86, 87, 88, 89, 90, 91, 92, 93, 94, 95, 96, 97, 98, 99, 100]\n",
      "\n",
      "Updated list:\n",
      " [1, 2, 3, 4, 5, 6, 7, 8, 9, 10, 11, 12, 13, 14, 15, 16, 17, 18, 19, 20, 21, 22, 23, 24, 25, 26, 27, 28, 29, 30, 31, 32, 33, 34, 35, 36, 37, 38, 39, 40, 41, 42, 43, 44, 45, 46, 47, 48, 49, 50, 51, 52, 53, 54, 55, 56, 57, 58, 59, 60, 61, 62, 63, 64, 65, 66, 67, 68, 69, 70, 71, 72, 73, 74, 75, 76, 77, 78, 79, 80, 81, 82, 83, 84, 85, 86, 87, 88, 89, 90, 91, 92, 93, 94, 95, 96, 97, 98, 99, 100, 8, 64, 125, 216, 512, 1000, 1728, 2744, 3375, 4096, 5832, 8000, 10648, 13824, 15625, 17576, 21952, 27000, 32768, 39304, 42875, 46656, 54872, 64000, 74088, 85184, 91125, 97336, 110592, 125000, 140608, 157464, 166375, 175616, 195112, 216000, 238328, 262144, 274625, 287496, 314432, 343000, 373248, 405224, 421875, 438976, 474552, 512000, 551368, 592704, 614125, 636056, 681472, 729000, 778688, 830584, 857375, 884736, 941192, 1000000]\n"
     ]
    }
   ],
   "source": [
    "# declaring a list\n",
    "numList = []\n",
    "\n",
    "# inserting numbers 1 to 100 in our list\n",
    "data = 1\n",
    "while data <= 100 :\n",
    "    numList.append(data)\n",
    "    data += 1\n",
    "    \n",
    "# printing initial list\n",
    "print(\"Initial list:\\n\",numList)\n",
    "\n",
    "tempCube = 0\n",
    "\n",
    "for i in range(1,101) :\n",
    "    tempCube = i**3\n",
    "    if tempCube % 4 == 0 or tempCube % 5 == 0 :\n",
    "        numList.append(tempCube)\n",
    "    \n",
    "# printing the update list\n",
    "print(\"\\nUpdated list:\\n\",numList)"
   ]
  },
  {
   "cell_type": "markdown",
   "id": "05ffbdc6-c6ea-407a-aea7-7e0fa10d5831",
   "metadata": {},
   "source": [
    "## Q 05 Write a program to filter count vowels in the below-given string. \n",
    "#### string = \"I want to become a data scientist\""
   ]
  },
  {
   "cell_type": "code",
   "execution_count": 6,
   "id": "6d3195e1-4640-4a06-8e6a-982da98f559d",
   "metadata": {},
   "outputs": [
    {
     "name": "stdout",
     "output_type": "stream",
     "text": [
      "Total vowels in given string: 12\n"
     ]
    }
   ],
   "source": [
    "vowels = ['a','e','i','o','u']  \n",
    "str = \"I want to become a data scientist\"\n",
    "str = str.lower()\n",
    "vowelCount = 0\n",
    "for i in str :\n",
    "    if i in vowels :\n",
    "        vowelCount += 1\n",
    "print(\"Total vowels in given string:\",vowelCount)"
   ]
  },
  {
   "cell_type": "code",
   "execution_count": null,
   "id": "b33abca9-7806-47b1-ba98-5f8dc2fc937c",
   "metadata": {},
   "outputs": [],
   "source": []
  }
 ],
 "metadata": {
  "kernelspec": {
   "display_name": "Python 3 (ipykernel)",
   "language": "python",
   "name": "python3"
  },
  "language_info": {
   "codemirror_mode": {
    "name": "ipython",
    "version": 3
   },
   "file_extension": ".py",
   "mimetype": "text/x-python",
   "name": "python",
   "nbconvert_exporter": "python",
   "pygments_lexer": "ipython3",
   "version": "3.10.8"
  }
 },
 "nbformat": 4,
 "nbformat_minor": 5
}
