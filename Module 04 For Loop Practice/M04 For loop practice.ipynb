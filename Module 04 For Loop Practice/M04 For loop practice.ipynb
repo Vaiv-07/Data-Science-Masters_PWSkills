{
 "cells": [
  {
   "cell_type": "code",
   "execution_count": 1,
   "id": "22654a34-8dbd-45a8-9f0d-901b6c918799",
   "metadata": {},
   "outputs": [],
   "source": [
    "l = [1,2,3,4,5]"
   ]
  },
  {
   "cell_type": "code",
   "execution_count": 2,
   "id": "f3ed3896-1e77-473e-9114-26b7b3f517e7",
   "metadata": {},
   "outputs": [
    {
     "ename": "SyntaxError",
     "evalue": "incomplete input (3142895131.py, line 1)",
     "output_type": "error",
     "traceback": [
      "\u001b[0;36m  Cell \u001b[0;32mIn[2], line 1\u001b[0;36m\u001b[0m\n\u001b[0;31m    for var in l :\u001b[0m\n\u001b[0m                  ^\u001b[0m\n\u001b[0;31mSyntaxError\u001b[0m\u001b[0;31m:\u001b[0m incomplete input\n"
     ]
    }
   ],
   "source": [
    "for var in l :"
   ]
  },
  {
   "cell_type": "code",
   "execution_count": 3,
   "id": "07952b41-ab8a-4a83-8810-36b3f90759e8",
   "metadata": {},
   "outputs": [
    {
     "name": "stdout",
     "output_type": "stream",
     "text": [
      "1   <class 'int'>\n",
      "2   <class 'int'>\n",
      "3   <class 'int'>\n",
      "4   <class 'int'>\n",
      "5   <class 'int'>\n"
     ]
    }
   ],
   "source": [
    "for var in l :\n",
    "    print(var,' ',type(var))"
   ]
  },
  {
   "cell_type": "code",
   "execution_count": 4,
   "id": "1b0a9bac-a082-4796-b6a0-ae153d5b36a1",
   "metadata": {},
   "outputs": [],
   "source": [
    "l1 = [\"pw\", \"skills\", \"gate\", \"git\"]"
   ]
  },
  {
   "cell_type": "code",
   "execution_count": 5,
   "id": "daf0edc9-4f38-4bb5-b66b-47128c8fd78e",
   "metadata": {},
   "outputs": [
    {
     "name": "stdout",
     "output_type": "stream",
     "text": [
      "pw\n",
      "skills\n",
      "gate\n",
      "git\n"
     ]
    }
   ],
   "source": [
    "for i in l1:\n",
    "    print(i)"
   ]
  },
  {
   "cell_type": "markdown",
   "id": "38d546a4-c774-45f9-8a24-29e99ad383e8",
   "metadata": {},
   "source": [
    "### for-else statement (python exclusive)"
   ]
  },
  {
   "cell_type": "code",
   "execution_count": 6,
   "id": "be533b20-044b-4a7d-87b1-63023ef9d548",
   "metadata": {},
   "outputs": [
    {
     "name": "stdout",
     "output_type": "stream",
     "text": [
      "pw\n",
      "skills\n",
      "gate\n",
      "git\n",
      "else part\n"
     ]
    }
   ],
   "source": [
    "for i in l1:\n",
    "    print(i)\n",
    "else :\n",
    "    print(\"else part\")"
   ]
  },
  {
   "cell_type": "markdown",
   "id": "8bbafe5d-8db0-4e86-9bc1-e6ae2e1c1ffb",
   "metadata": {},
   "source": [
    "else part will only execute only if for loop is completely and successfully execute\n"
   ]
  },
  {
   "cell_type": "code",
   "execution_count": 7,
   "id": "61f2329b-b12b-4e44-897b-ffdd9090f796",
   "metadata": {},
   "outputs": [
    {
     "name": "stdout",
     "output_type": "stream",
     "text": [
      "pw\n",
      "skills\n"
     ]
    }
   ],
   "source": [
    "for i in l1 :\n",
    "    if i == \"gate\" :\n",
    "        break\n",
    "    else :\n",
    "        print(i)"
   ]
  },
  {
   "cell_type": "code",
   "execution_count": 8,
   "id": "50fa9f82-575a-4940-bd70-b320001764a6",
   "metadata": {},
   "outputs": [
    {
     "name": "stdout",
     "output_type": "stream",
     "text": [
      "pw\n",
      "skills\n"
     ]
    }
   ],
   "source": [
    "for i in l1 :\n",
    "    if i == \"gate\" :\n",
    "        break   # will terminate loop when control comes over here\n",
    "    else :\n",
    "        print(i)\n",
    "else :\n",
    "    print(\"else wala part\")"
   ]
  },
  {
   "cell_type": "code",
   "execution_count": 9,
   "id": "b5321f35-7f9d-47c9-8eb7-8aa207504664",
   "metadata": {},
   "outputs": [
    {
     "name": "stdout",
     "output_type": "stream",
     "text": [
      "pw\n",
      "skills\n",
      "git\n",
      "else wala part\n"
     ]
    }
   ],
   "source": [
    "for i in l1 :\n",
    "    if i == \"gate\" :\n",
    "        continue    # will skip the current iteration when \n",
    "    else :\n",
    "        print(i)\n",
    "else :\n",
    "    print(\"else wala part\")"
   ]
  },
  {
   "cell_type": "code",
   "execution_count": 10,
   "id": "3e161b90-7ead-4cf6-a42f-b0314446ada7",
   "metadata": {},
   "outputs": [
    {
     "name": "stdout",
     "output_type": "stream",
     "text": [
      "pw\n",
      "skills\n",
      "gate\n",
      "else wala part\n"
     ]
    }
   ],
   "source": [
    "for i in l1 :\n",
    "    if i == \"git\" :\n",
    "        continue    # will skip the current iteration and send control immediately to for loop's next iteration \n",
    "    else :\n",
    "        print(i)\n",
    "else :\n",
    "    print(\"else wala part\")"
   ]
  },
  {
   "cell_type": "markdown",
   "id": "79ca1c05-117b-4f36-8517-3ff616889b42",
   "metadata": {},
   "source": [
    "Here else wala part is executed in case of \"continue\" but not in case of \"break\"\n",
    "\n",
    "becuz in case of continue we are not breaking for loop instead the loop is executing completely"
   ]
  },
  {
   "cell_type": "code",
   "execution_count": 11,
   "id": "31d50a75-7a0c-4982-b979-5ac0be7c64fd",
   "metadata": {},
   "outputs": [
    {
     "data": {
      "text/plain": [
       "range(0, 5)"
      ]
     },
     "execution_count": 11,
     "metadata": {},
     "output_type": "execute_result"
    }
   ],
   "source": [
    "range(5)"
   ]
  },
  {
   "cell_type": "code",
   "execution_count": 12,
   "id": "27fda1b1-adab-4231-8d89-91436395f44d",
   "metadata": {},
   "outputs": [
    {
     "data": {
      "text/plain": [
       "[0, 1, 2, 3, 4]"
      ]
     },
     "execution_count": 12,
     "metadata": {},
     "output_type": "execute_result"
    }
   ],
   "source": [
    "list(range(5)) #excluding upper bound"
   ]
  },
  {
   "cell_type": "code",
   "execution_count": 13,
   "id": "64b7e640-0156-477a-a3b8-abaf25a66c04",
   "metadata": {},
   "outputs": [
    {
     "data": {
      "text/plain": [
       "[4, 7, 10, 13, 16]"
      ]
     },
     "execution_count": 13,
     "metadata": {},
     "output_type": "execute_result"
    }
   ],
   "source": [
    "list(range(4,18,3)) # (lower bound, upper bound, jump)"
   ]
  },
  {
   "cell_type": "code",
   "execution_count": 14,
   "id": "09c8665a-a22f-4eda-b044-6d0198414dc3",
   "metadata": {},
   "outputs": [
    {
     "ename": "SyntaxError",
     "evalue": "invalid syntax (187420136.py, line 1)",
     "output_type": "error",
     "traceback": [
      "\u001b[0;36m  Cell \u001b[0;32mIn[14], line 1\u001b[0;36m\u001b[0m\n\u001b[0;31m    list(range(,20,2))\u001b[0m\n\u001b[0m               ^\u001b[0m\n\u001b[0;31mSyntaxError\u001b[0m\u001b[0;31m:\u001b[0m invalid syntax\n"
     ]
    }
   ],
   "source": [
    "list(range(,20,2))"
   ]
  },
  {
   "cell_type": "code",
   "execution_count": 15,
   "id": "0fb01e03-6164-4ca6-8bb4-69e270e90a58",
   "metadata": {},
   "outputs": [
    {
     "data": {
      "text/plain": [
       "[]"
      ]
     },
     "execution_count": 15,
     "metadata": {},
     "output_type": "execute_result"
    }
   ],
   "source": [
    "list(range(20,2))"
   ]
  },
  {
   "cell_type": "code",
   "execution_count": 16,
   "id": "b98bcb1b-fc30-4d25-a343-18bbf155dc30",
   "metadata": {},
   "outputs": [
    {
     "data": {
      "text/plain": [
       "[0, 2, 4, 6, 8, 10, 12, 14, 16, 18]"
      ]
     },
     "execution_count": 16,
     "metadata": {},
     "output_type": "execute_result"
    }
   ],
   "source": [
    "list(range(0,20,2))"
   ]
  },
  {
   "cell_type": "code",
   "execution_count": 17,
   "id": "0f5d35a5-9cd5-40fd-a391-2562871199ee",
   "metadata": {},
   "outputs": [
    {
     "data": {
      "text/plain": [
       "[-9, -7, -5, -3, -1, 1, 3, 5, 7, 9, 11, 13, 15, 17, 19]"
      ]
     },
     "execution_count": 17,
     "metadata": {},
     "output_type": "execute_result"
    }
   ],
   "source": [
    "list(range(-9,20,2))"
   ]
  },
  {
   "cell_type": "code",
   "execution_count": 18,
   "id": "b8790b20-018a-4464-9544-997637f8197c",
   "metadata": {},
   "outputs": [
    {
     "data": {
      "text/plain": [
       "[]"
      ]
     },
     "execution_count": 18,
     "metadata": {},
     "output_type": "execute_result"
    }
   ],
   "source": [
    "list(range(10,20,-2))"
   ]
  },
  {
   "cell_type": "code",
   "execution_count": 19,
   "id": "42b6bd85-c0f7-45f1-b639-30c893ea3e50",
   "metadata": {},
   "outputs": [
    {
     "data": {
      "text/plain": [
       "[30, 28, 26, 24, 22]"
      ]
     },
     "execution_count": 19,
     "metadata": {},
     "output_type": "execute_result"
    }
   ],
   "source": [
    "list(range(30,20,-2))"
   ]
  },
  {
   "cell_type": "markdown",
   "id": "813c06e8-ca84-4328-bb3f-c42a35543ae9",
   "metadata": {},
   "source": [
    "same direction wala khel hai string ya list ki indexing ya slcing ki tarah"
   ]
  },
  {
   "cell_type": "code",
   "execution_count": 20,
   "id": "89147cf5-f0db-4bd0-ab48-d5506b1335ed",
   "metadata": {},
   "outputs": [
    {
     "data": {
      "text/plain": [
       "[0, 1, 2, 3]"
      ]
     },
     "execution_count": 20,
     "metadata": {},
     "output_type": "execute_result"
    }
   ],
   "source": [
    "list(range(len(l1)))"
   ]
  },
  {
   "cell_type": "code",
   "execution_count": 21,
   "id": "baaa2acf-a30c-4e12-abfb-75b020e9e246",
   "metadata": {},
   "outputs": [
    {
     "name": "stdout",
     "output_type": "stream",
     "text": [
      "pw\n",
      "skills\n",
      "gate\n",
      "git\n"
     ]
    }
   ],
   "source": [
    "for i in range(len(l1)):\n",
    "    print(l1[i])"
   ]
  },
  {
   "cell_type": "code",
   "execution_count": 22,
   "id": "06d0c3bc-b371-4ead-be2c-e8fab6ccc67a",
   "metadata": {},
   "outputs": [
    {
     "name": "stdout",
     "output_type": "stream",
     "text": [
      "git\n",
      "gate\n",
      "skills\n",
      "pw\n"
     ]
    }
   ],
   "source": [
    "for i in range( len(l1)-1 ,0-1 ,-1 ):\n",
    "    print(l1[i])"
   ]
  },
  {
   "cell_type": "code",
   "execution_count": 23,
   "id": "d650833a-1fe8-4cfa-b73e-b972f073951a",
   "metadata": {},
   "outputs": [
    {
     "name": "stdout",
     "output_type": "stream",
     "text": [
      "git\n",
      "gate\n",
      "skills\n",
      "pw\n"
     ]
    }
   ],
   "source": [
    "for i in range( len(l1) ,0, -1 ):\n",
    "    print(l1[i-1])"
   ]
  },
  {
   "cell_type": "code",
   "execution_count": 24,
   "id": "83601b0b-5b48-412a-aaa8-bb7e02628a3b",
   "metadata": {},
   "outputs": [
    {
     "name": "stdout",
     "output_type": "stream",
     "text": [
      "git\n",
      "gate\n",
      "skills\n",
      "pw\n"
     ]
    }
   ],
   "source": [
    "# by sir\n",
    "for i in range( len(l1)-1 ,-1, -1 ):\n",
    "    print(l1[i])"
   ]
  },
  {
   "cell_type": "code",
   "execution_count": 25,
   "id": "ea206c55-26a0-4d4f-a648-8d1bf27c776b",
   "metadata": {},
   "outputs": [
    {
     "data": {
      "text/plain": [
       "[0, 1, 2, 3]"
      ]
     },
     "execution_count": 25,
     "metadata": {},
     "output_type": "execute_result"
    }
   ],
   "source": [
    "list(range(len(l1)))"
   ]
  },
  {
   "cell_type": "code",
   "execution_count": 26,
   "id": "38cd4b77-a3f7-4069-a559-2b0f957d80e6",
   "metadata": {},
   "outputs": [],
   "source": [
    "l2 = [65,7,8,45,4,9306,4,6785,127,64.62, 3636, 3]"
   ]
  },
  {
   "cell_type": "code",
   "execution_count": 27,
   "id": "305b2957-c2f4-4ed8-bd28-47d9e192863d",
   "metadata": {},
   "outputs": [
    {
     "data": {
      "text/plain": [
       "12"
      ]
     },
     "execution_count": 27,
     "metadata": {},
     "output_type": "execute_result"
    }
   ],
   "source": [
    "len(l2)"
   ]
  },
  {
   "cell_type": "code",
   "execution_count": 28,
   "id": "d8e104eb-ca3c-4921-aa22-dc03aaa24d68",
   "metadata": {},
   "outputs": [
    {
     "data": {
      "text/plain": [
       "[0, 2, 4, 6, 8, 10]"
      ]
     },
     "execution_count": 28,
     "metadata": {},
     "output_type": "execute_result"
    }
   ],
   "source": [
    "list(range(0, len(l2), 2))"
   ]
  },
  {
   "cell_type": "code",
   "execution_count": 29,
   "id": "66b7befd-f68c-4a9b-bdfa-16e494abd32e",
   "metadata": {},
   "outputs": [
    {
     "name": "stdout",
     "output_type": "stream",
     "text": [
      "65\n",
      "8\n",
      "4\n",
      "4\n",
      "127\n",
      "3636\n"
     ]
    }
   ],
   "source": [
    "for i in range(0, len(l2), 2):\n",
    "    print(l2[i])"
   ]
  },
  {
   "cell_type": "code",
   "execution_count": 30,
   "id": "6715c594-c155-4feb-ab72-a409e3f2a516",
   "metadata": {},
   "outputs": [
    {
     "data": {
      "text/plain": [
       "20054.62"
      ]
     },
     "execution_count": 30,
     "metadata": {},
     "output_type": "execute_result"
    }
   ],
   "source": [
    "# sum of all elements\n",
    "sum(l2)"
   ]
  },
  {
   "cell_type": "code",
   "execution_count": 31,
   "id": "41f91f3d-a41f-470f-b65d-b3d5ce9f0808",
   "metadata": {},
   "outputs": [
    {
     "name": "stdout",
     "output_type": "stream",
     "text": [
      "20054.62\n"
     ]
    }
   ],
   "source": [
    "# using for loop\n",
    "sum = 0\n",
    "for i in l2:\n",
    "    sum = sum + i # or sum += i\n",
    "print(sum)"
   ]
  },
  {
   "cell_type": "code",
   "execution_count": 32,
   "id": "9e339612-1abf-4bb1-82fd-6681e70565b5",
   "metadata": {},
   "outputs": [],
   "source": [
    "t = (1,3,6,4,5)"
   ]
  },
  {
   "cell_type": "code",
   "execution_count": 33,
   "id": "6dda4fe3-6e94-4379-b7f3-979c9878634c",
   "metadata": {},
   "outputs": [
    {
     "name": "stdout",
     "output_type": "stream",
     "text": [
      "1\n",
      "3\n",
      "6\n",
      "4\n",
      "5\n"
     ]
    }
   ],
   "source": [
    "for i in t :\n",
    "    print(i)"
   ]
  },
  {
   "cell_type": "code",
   "execution_count": 34,
   "id": "17120b7a-3cc2-4f29-9012-0dd7dda5b599",
   "metadata": {},
   "outputs": [
    {
     "name": "stdout",
     "output_type": "stream",
     "text": [
      "19\n"
     ]
    }
   ],
   "source": [
    "sum = 0\n",
    "for i in t:\n",
    "    sum += i \n",
    "print(sum)"
   ]
  },
  {
   "cell_type": "code",
   "execution_count": 35,
   "id": "29581c0f-908c-4717-a526-a78eca43fa50",
   "metadata": {},
   "outputs": [
    {
     "ename": "TypeError",
     "evalue": "'int' object is not callable",
     "output_type": "error",
     "traceback": [
      "\u001b[0;31m---------------------------------------------------------------------------\u001b[0m",
      "\u001b[0;31mTypeError\u001b[0m                                 Traceback (most recent call last)",
      "Cell \u001b[0;32mIn[35], line 1\u001b[0m\n\u001b[0;32m----> 1\u001b[0m \u001b[38;5;28;43msum\u001b[39;49m\u001b[43m(\u001b[49m\u001b[43mt\u001b[49m\u001b[43m)\u001b[49m\n",
      "\u001b[0;31mTypeError\u001b[0m: 'int' object is not callable"
     ]
    }
   ],
   "source": [
    "sum(t)"
   ]
  },
  {
   "cell_type": "code",
   "execution_count": 36,
   "id": "a47c8e5f-1471-498e-b5bb-5e0e7ad9e235",
   "metadata": {},
   "outputs": [
    {
     "name": "stdout",
     "output_type": "stream",
     "text": [
      "1\n",
      "97\n",
      "hello\n",
      "4\n",
      "56.3\n"
     ]
    }
   ],
   "source": [
    "setVar = {1, 4, \"hello\", 97, True, 56.3}\n",
    "for i in setVar:\n",
    "    print(i)"
   ]
  },
  {
   "cell_type": "code",
   "execution_count": 37,
   "id": "3d15ec34-f56a-464c-8106-6d342fc0468e",
   "metadata": {},
   "outputs": [
    {
     "name": "stdout",
     "output_type": "stream",
     "text": [
      "p\n",
      "w\n",
      "s\n",
      "k\n",
      "i\n",
      "l\n",
      "l\n",
      "s\n"
     ]
    }
   ],
   "source": [
    "strVar = \"pwskills\"\n",
    "for i in strVar:\n",
    "    print(i)"
   ]
  },
  {
   "cell_type": "code",
   "execution_count": 38,
   "id": "6ba9ecc9-0765-43ff-b104-a4e111c4c052",
   "metadata": {},
   "outputs": [
    {
     "name": "stdout",
     "output_type": "stream",
     "text": [
      "s\n",
      "l\n",
      "l\n",
      "i\n",
      "k\n",
      "s\n",
      "w\n",
      "p\n"
     ]
    }
   ],
   "source": [
    "for i in range(len(strVar)-1 , -1, -1):\n",
    "    print(strVar[i])"
   ]
  },
  {
   "cell_type": "code",
   "execution_count": 39,
   "id": "783fad85-77e9-4184-bc5d-1b0c943514fe",
   "metadata": {},
   "outputs": [],
   "source": [
    "dictVar = {\"name\": \"vaiv07\", 'course': \"data science masters\",\n",
    "           \"topics\": ['python', 'stats', 'ml', \"dl\",\"job prep\"]}"
   ]
  },
  {
   "cell_type": "code",
   "execution_count": 40,
   "id": "81c9b5d3-4bf3-464b-8b83-92ecb74b2b93",
   "metadata": {},
   "outputs": [
    {
     "data": {
      "text/plain": [
       "dict_keys(['name', 'course', 'topics'])"
      ]
     },
     "execution_count": 40,
     "metadata": {},
     "output_type": "execute_result"
    }
   ],
   "source": [
    "dictVar.keys()"
   ]
  },
  {
   "cell_type": "code",
   "execution_count": 41,
   "id": "2576526b-01bb-4ddf-98af-69798fd9d56b",
   "metadata": {},
   "outputs": [
    {
     "name": "stdout",
     "output_type": "stream",
     "text": [
      "vaiv07\n",
      "data science masters\n",
      "['python', 'stats', 'ml', 'dl', 'job prep']\n"
     ]
    }
   ],
   "source": [
    "for i in dictVar.keys() :\n",
    "    print(dictVar[i])"
   ]
  },
  {
   "cell_type": "code",
   "execution_count": 42,
   "id": "347003b1-e8cf-4ad6-8c03-8a6fc8c9b946",
   "metadata": {},
   "outputs": [
    {
     "data": {
      "text/plain": [
       "dict_values(['vaiv07', 'data science masters', ['python', 'stats', 'ml', 'dl', 'job prep']])"
      ]
     },
     "execution_count": 42,
     "metadata": {},
     "output_type": "execute_result"
    }
   ],
   "source": [
    "dictVar.values()"
   ]
  },
  {
   "cell_type": "code",
   "execution_count": 43,
   "id": "7666b594-1c64-451e-8a57-e5c71d3963c4",
   "metadata": {},
   "outputs": [
    {
     "name": "stdout",
     "output_type": "stream",
     "text": [
      "vaiv07\n",
      "data science masters\n",
      "['python', 'stats', 'ml', 'dl', 'job prep']\n"
     ]
    }
   ],
   "source": [
    "for i in dictVar.values():\n",
    "    print(i)"
   ]
  },
  {
   "cell_type": "code",
   "execution_count": 44,
   "id": "1ad3b012-fe80-43af-93e3-bb68b10d8098",
   "metadata": {},
   "outputs": [
    {
     "name": "stdout",
     "output_type": "stream",
     "text": [
      "('name', 'vaiv07')\n",
      "('course', 'data science masters')\n",
      "('topics', ['python', 'stats', 'ml', 'dl', 'job prep'])\n"
     ]
    }
   ],
   "source": [
    "for i in dictVar.items():\n",
    "    print(i)"
   ]
  },
  {
   "cell_type": "code",
   "execution_count": 45,
   "id": "ab9224ba-043a-45c2-972b-0b2fa2715ab8",
   "metadata": {},
   "outputs": [
    {
     "data": {
      "text/plain": [
       "'p w s k i l l s'"
      ]
     },
     "execution_count": 45,
     "metadata": {},
     "output_type": "execute_result"
    }
   ],
   "source": [
    "string = \"p w s k i l l s\"\n",
    "\" \".join(string.replace(\" \", \"\"))"
   ]
  },
  {
   "cell_type": "code",
   "execution_count": 46,
   "id": "2ddefd93-26e1-450d-a9e5-efebeed05366",
   "metadata": {},
   "outputs": [
    {
     "data": {
      "text/plain": [
       "True"
      ]
     },
     "execution_count": 46,
     "metadata": {},
     "output_type": "execute_result"
    }
   ],
   "source": [
    "\"pwskills\"[::-1].upper().replace(\"SLLIKSWP\", \"pwskills\").islower()"
   ]
  },
  {
   "cell_type": "code",
   "execution_count": 47,
   "id": "bf782882-1c13-4c12-991e-9950a8421e88",
   "metadata": {},
   "outputs": [
    {
     "name": "stdout",
     "output_type": "stream",
     "text": [
      "I\n",
      "Want\n",
      "To\n",
      "Become\n",
      "A\n",
      "Data\n",
      "Scientist\n"
     ]
    }
   ],
   "source": [
    "s = \"I want to become a data scientist\"\n",
    "\n",
    "for i in s.split():\n",
    "\n",
    "    i.capitalize()\n",
    "\n",
    "    print(i.title())"
   ]
  },
  {
   "cell_type": "code",
   "execution_count": null,
   "id": "310b80cf-a143-4788-a926-e4ca6ffc133e",
   "metadata": {},
   "outputs": [],
   "source": []
  },
  {
   "cell_type": "code",
   "execution_count": null,
   "id": "aff5b38a-f091-4673-81d9-eb94684efda4",
   "metadata": {},
   "outputs": [],
   "source": []
  }
 ],
 "metadata": {
  "kernelspec": {
   "display_name": "Python 3 (ipykernel)",
   "language": "python",
   "name": "python3"
  },
  "language_info": {
   "codemirror_mode": {
    "name": "ipython",
    "version": 3
   },
   "file_extension": ".py",
   "mimetype": "text/x-python",
   "name": "python",
   "nbconvert_exporter": "python",
   "pygments_lexer": "ipython3",
   "version": "3.10.8"
  }
 },
 "nbformat": 4,
 "nbformat_minor": 5
}
