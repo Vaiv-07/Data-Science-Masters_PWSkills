{
 "cells": [
  {
   "cell_type": "markdown",
   "id": "54c8b4df-a232-4b45-bc5b-3b4bc2065035",
   "metadata": {},
   "source": [
    "### Variables"
   ]
  },
  {
   "cell_type": "code",
   "execution_count": 1,
   "id": "692656e4-5a88-4af1-a295-a2a9fe12019d",
   "metadata": {},
   "outputs": [
    {
     "name": "stdout",
     "output_type": "stream",
     "text": [
      "10\n"
     ]
    }
   ],
   "source": [
    "a = 10 #'a' is a variable storing a numeric data\n",
    "\n",
    "print(a)"
   ]
  },
  {
   "cell_type": "markdown",
   "id": "c69a0dcc-8053-45f5-bd80-9c827b0297a1",
   "metadata": {},
   "source": [
    "We can store any sort of data, possible in python, in a variable i.e. numeric data, string, chars, json file, csv file etc"
   ]
  },
  {
   "cell_type": "code",
   "execution_count": 2,
   "id": "3a2994a5-2ac7-4fbf-9add-a78b03813bb5",
   "metadata": {},
   "outputs": [
    {
     "name": "stdout",
     "output_type": "stream",
     "text": [
      "30\n",
      "200\n"
     ]
    }
   ],
   "source": [
    "b = 20\n",
    "print(a+b)\n",
    "print(a*b)"
   ]
  },
  {
   "cell_type": "markdown",
   "id": "a4cc2b26-56d0-45df-bb9b-f7dfe4843973",
   "metadata": {},
   "source": [
    "Python itself understand the type of data coming to a variable\n",
    "\n",
    "`type()` is a inbuilt function to check type of data stored in that variable"
   ]
  },
  {
   "cell_type": "code",
   "execution_count": 3,
   "id": "e4e7a17c-897d-4a4b-9897-ba2fba07384f",
   "metadata": {},
   "outputs": [
    {
     "data": {
      "text/plain": [
       "int"
      ]
     },
     "execution_count": 3,
     "metadata": {},
     "output_type": "execute_result"
    }
   ],
   "source": [
    "type(a)"
   ]
  },
  {
   "cell_type": "code",
   "execution_count": 4,
   "id": "5b0337a3-34bb-49cb-bf64-aa071b60b600",
   "metadata": {},
   "outputs": [
    {
     "name": "stdout",
     "output_type": "stream",
     "text": [
      "<class 'int'>\n",
      "<class 'int'>\n"
     ]
    }
   ],
   "source": [
    "print(type(a))\n",
    "print(type(b))"
   ]
  },
  {
   "cell_type": "code",
   "execution_count": 5,
   "id": "f59a7ad1-7d7b-4512-a0ca-6be50dcd8a02",
   "metadata": {},
   "outputs": [
    {
     "name": "stdout",
     "output_type": "stream",
     "text": [
      "<class 'type'>\n"
     ]
    }
   ],
   "source": [
    "c = type(b)\n",
    "print(type(c))"
   ]
  },
  {
   "cell_type": "code",
   "execution_count": 6,
   "id": "cda406b1-c73e-44c9-b0b0-5babfa5aed86",
   "metadata": {},
   "outputs": [
    {
     "data": {
      "text/plain": [
       "float"
      ]
     },
     "execution_count": 6,
     "metadata": {},
     "output_type": "execute_result"
    }
   ],
   "source": [
    "d = 2.09\n",
    "type(d)"
   ]
  },
  {
   "cell_type": "code",
   "execution_count": 7,
   "id": "44154154-252f-49ab-a85c-fe02886778fb",
   "metadata": {},
   "outputs": [
    {
     "ename": "NameError",
     "evalue": "name 'vaibhav' is not defined",
     "output_type": "error",
     "traceback": [
      "\u001b[0;31m---------------------------------------------------------------------------\u001b[0m",
      "\u001b[0;31mNameError\u001b[0m                                 Traceback (most recent call last)",
      "Cell \u001b[0;32mIn[7], line 1\u001b[0m\n\u001b[0;32m----> 1\u001b[0m e \u001b[38;5;241m=\u001b[39m \u001b[43mvaibhav\u001b[49m \u001b[38;5;66;03m# create error as it is invalid syntax\u001b[39;00m\n",
      "\u001b[0;31mNameError\u001b[0m: name 'vaibhav' is not defined"
     ]
    }
   ],
   "source": [
    "e = vaibhav # create error as it is invalid syntax"
   ]
  },
  {
   "cell_type": "code",
   "execution_count": 8,
   "id": "a5269a3a-0729-4af6-84ba-473250e8f174",
   "metadata": {},
   "outputs": [
    {
     "name": "stdout",
     "output_type": "stream",
     "text": [
      "vaibhav\n",
      "<class 'str'>\n"
     ]
    }
   ],
   "source": [
    "e = 'vaibhav'\n",
    "print(e)\n",
    "print(type(e))"
   ]
  },
  {
   "cell_type": "code",
   "execution_count": 9,
   "id": "54aba9cb-8590-4839-a2c4-904056471f4b",
   "metadata": {},
   "outputs": [
    {
     "ename": "NameError",
     "evalue": "name 'true' is not defined",
     "output_type": "error",
     "traceback": [
      "\u001b[0;31m---------------------------------------------------------------------------\u001b[0m",
      "\u001b[0;31mNameError\u001b[0m                                 Traceback (most recent call last)",
      "Cell \u001b[0;32mIn[9], line 2\u001b[0m\n\u001b[1;32m      1\u001b[0m \u001b[38;5;66;03m# Boolean variable\u001b[39;00m\n\u001b[0;32m----> 2\u001b[0m f \u001b[38;5;241m=\u001b[39m \u001b[43mtrue\u001b[49m\n\u001b[1;32m      3\u001b[0m \u001b[38;5;28mprint\u001b[39m(\u001b[38;5;28mtype\u001b[39m(f)) \u001b[38;5;66;03m#give error as 'true' is wrong but 'True' is right way\u001b[39;00m\n",
      "\u001b[0;31mNameError\u001b[0m: name 'true' is not defined"
     ]
    }
   ],
   "source": [
    "# Boolean variable\n",
    "f = true\n",
    "print(type(f)) #give error as 'true' is wrong but 'True' is right way"
   ]
  },
  {
   "cell_type": "code",
   "execution_count": 10,
   "id": "473be36c-80f3-4de0-b062-3cfeef897171",
   "metadata": {},
   "outputs": [
    {
     "name": "stdout",
     "output_type": "stream",
     "text": [
      "<class 'bool'>\n",
      "<class 'bool'>\n"
     ]
    }
   ],
   "source": [
    "f = True\n",
    "print(type(f))\n",
    "g = False\n",
    "print(type(g))"
   ]
  },
  {
   "cell_type": "code",
   "execution_count": 11,
   "id": "5013298a-ddf5-42ed-baa1-c763aca68ae3",
   "metadata": {},
   "outputs": [
    {
     "name": "stdout",
     "output_type": "stream",
     "text": [
      "f= True  and g= False\n",
      "f+g =  1\n"
     ]
    }
   ],
   "source": [
    "print('f=',f,' and g=',g)\n",
    "print('f+g = ',f+g)"
   ]
  },
  {
   "cell_type": "code",
   "execution_count": 12,
   "id": "cc276957-f6d7-4412-9ee0-9f33ab3694ad",
   "metadata": {},
   "outputs": [
    {
     "data": {
      "text/plain": [
       "1"
      ]
     },
     "execution_count": 12,
     "metadata": {},
     "output_type": "execute_result"
    }
   ],
   "source": [
    "True*True"
   ]
  },
  {
   "cell_type": "code",
   "execution_count": 13,
   "id": "786a4c18-e3ec-46a7-a066-f5576bb9dd8e",
   "metadata": {},
   "outputs": [
    {
     "data": {
      "text/plain": [
       "0"
      ]
     },
     "execution_count": 13,
     "metadata": {},
     "output_type": "execute_result"
    }
   ],
   "source": [
    "True*False"
   ]
  },
  {
   "cell_type": "code",
   "execution_count": 14,
   "id": "cc0f2cab-9902-4712-a404-074a4300a74c",
   "metadata": {},
   "outputs": [
    {
     "data": {
      "text/plain": [
       "1"
      ]
     },
     "execution_count": 14,
     "metadata": {},
     "output_type": "execute_result"
    }
   ],
   "source": [
    "True-False"
   ]
  },
  {
   "cell_type": "code",
   "execution_count": 15,
   "id": "7f5ec623-a0e2-4b81-b56c-61884aa676e4",
   "metadata": {},
   "outputs": [
    {
     "ename": "ZeroDivisionError",
     "evalue": "division by zero",
     "output_type": "error",
     "traceback": [
      "\u001b[0;31m---------------------------------------------------------------------------\u001b[0m",
      "\u001b[0;31mZeroDivisionError\u001b[0m                         Traceback (most recent call last)",
      "Cell \u001b[0;32mIn[15], line 1\u001b[0m\n\u001b[0;32m----> 1\u001b[0m \u001b[38;5;28mprint\u001b[39m(\u001b[38;5;28;43;01mTrue\u001b[39;49;00m\u001b[38;5;241;43m/\u001b[39;49m\u001b[38;5;28;43;01mFalse\u001b[39;49;00m) \u001b[38;5;66;03m#as false -> 0\u001b[39;00m\n\u001b[1;32m      2\u001b[0m \u001b[38;5;66;03m# divide by zero gives 'division by zero' error in core python\u001b[39;00m\n\u001b[1;32m      3\u001b[0m \u001b[38;5;66;03m#In numpy it will give 'INF' infinity (i.e. no error in numpy for same)\u001b[39;00m\n",
      "\u001b[0;31mZeroDivisionError\u001b[0m: division by zero"
     ]
    }
   ],
   "source": [
    "print(True/False) #as false -> 0\n",
    "# divide by zero gives 'division by zero' error in core python\n",
    "#In numpy it will give 'INF' infinity (i.e. no error in numpy for same)"
   ]
  },
  {
   "cell_type": "code",
   "execution_count": 16,
   "id": "27306c07-0d25-4a59-9b7f-61838fcb7216",
   "metadata": {},
   "outputs": [
    {
     "name": "stdout",
     "output_type": "stream",
     "text": [
      "0.0\n"
     ]
    }
   ],
   "source": [
    "print(False/True)"
   ]
  },
  {
   "cell_type": "code",
   "execution_count": 17,
   "id": "49e016e9-f4f8-4845-874e-9b7be98e0ecc",
   "metadata": {},
   "outputs": [
    {
     "name": "stdout",
     "output_type": "stream",
     "text": [
      "(5+8j)\n",
      "<class 'complex'>\n"
     ]
    }
   ],
   "source": [
    "# COMPLEX NUMBER\n",
    "h = 5+8j # j or J -> iota\n",
    "print(h)\n",
    "print(type(h))"
   ]
  },
  {
   "cell_type": "code",
   "execution_count": 18,
   "id": "c7f84b55-5d58-4b3a-848b-d507c026e44f",
   "metadata": {},
   "outputs": [
    {
     "name": "stdout",
     "output_type": "stream",
     "text": [
      "(6-4j)\n",
      "<class 'complex'>\n"
     ]
    }
   ],
   "source": [
    "i = 6-4J\n",
    "print(i)\n",
    "print(type(i))"
   ]
  },
  {
   "cell_type": "code",
   "execution_count": 19,
   "id": "4e046d98-7f3d-4717-b9bf-145b331785f1",
   "metadata": {},
   "outputs": [
    {
     "name": "stdout",
     "output_type": "stream",
     "text": [
      "5.0\n",
      "8.0\n",
      "<built-in method conjugate of complex object at 0x7f0920226e50>\n"
     ]
    }
   ],
   "source": [
    "print(h.real)\n",
    "print(h.imag)\n",
    "print(h.conjugate)"
   ]
  },
  {
   "cell_type": "code",
   "execution_count": 20,
   "id": "9f4a30ab-1012-4a28-ab6b-56f95384d2e4",
   "metadata": {},
   "outputs": [
    {
     "data": {
      "text/plain": [
       "<function complex.conjugate()>"
      ]
     },
     "execution_count": 20,
     "metadata": {},
     "output_type": "execute_result"
    }
   ],
   "source": [
    "j = h.conjugate\n",
    "j"
   ]
  },
  {
   "cell_type": "code",
   "execution_count": 21,
   "id": "a4815d2b-997f-46e9-b0a4-84de0dc9be6b",
   "metadata": {},
   "outputs": [
    {
     "data": {
      "text/plain": [
       "builtin_function_or_method"
      ]
     },
     "execution_count": 21,
     "metadata": {},
     "output_type": "execute_result"
    }
   ],
   "source": [
    "type(j)"
   ]
  },
  {
   "cell_type": "code",
   "execution_count": 22,
   "id": "d0880155-d8c3-49fe-a4c5-2f0b1506c014",
   "metadata": {},
   "outputs": [
    {
     "name": "stdout",
     "output_type": "stream",
     "text": [
      "<built-in method conjugate of complex object at 0x7f0920226e50>\n"
     ]
    }
   ],
   "source": [
    "print(j)"
   ]
  },
  {
   "cell_type": "markdown",
   "id": "8857bbf5-0fd1-43ac-b93b-bfda03ac76e5",
   "metadata": {},
   "source": [
    "Pressing `shift+Tab` gives deatails of or functionalities i.e. documentations of that function"
   ]
  },
  {
   "cell_type": "code",
   "execution_count": 23,
   "id": "17a9588d-8dd3-4e11-88e8-a198247a5dff",
   "metadata": {},
   "outputs": [
    {
     "name": "stdout",
     "output_type": "stream",
     "text": [
      "vaibhav\n",
      "None\n",
      "<class 'NoneType'>\n"
     ]
    }
   ],
   "source": [
    "k = print(e)\n",
    "print(k)\n",
    "print(type(k))"
   ]
  },
  {
   "cell_type": "code",
   "execution_count": 24,
   "id": "e4847ced-3513-4a27-beb2-d7b83cbb8480",
   "metadata": {},
   "outputs": [],
   "source": [
    "k"
   ]
  },
  {
   "cell_type": "code",
   "execution_count": 25,
   "id": "401f8b4d-0963-4adb-b7da-9abfabe40e53",
   "metadata": {},
   "outputs": [
    {
     "name": "stdout",
     "output_type": "stream",
     "text": [
      "None\n"
     ]
    }
   ],
   "source": [
    "print(k)"
   ]
  },
  {
   "cell_type": "code",
   "execution_count": 26,
   "id": "8159a111-320d-4e0a-a029-2c850aa9daad",
   "metadata": {},
   "outputs": [
    {
     "name": "stdout",
     "output_type": "stream",
     "text": [
      "pwskills\n",
      "<class 'str'>\n"
     ]
    }
   ],
   "source": [
    "k = \"pwskills\"\n",
    "print(k)\n",
    "print(type(k))"
   ]
  },
  {
   "cell_type": "markdown",
   "id": "c8e3cdbd-6615-417d-9b2c-26d505ff81f5",
   "metadata": {},
   "source": [
    "In python chas in a string are assigned indexing starting from 0\n",
    "\n",
    "for example pwskills is as\n",
    "0th position/index -> 'p'\n",
    "1th position/index -> 'w'\n",
    "2nd position/index -> 's'\n",
    "3rd position/index -> 'k'\n",
    "and so on...\n",
    "\n",
    "it is called \"forward indexing\" whereas in python there exist the concept of \"Backward Indexing\" in which the indices are assigned from last char/data to first char in reverse direcion starting from -1 then -2 then -3 and so on\n",
    "\n",
    "for example pwskills is as\n",
    "-1th position/index -> 's'\n",
    "-2th position/index -> 'l'\n",
    "-3th position/index -> 'l'\n",
    "-4th position/index -> 'i'\n",
    "and so on..."
   ]
  },
  {
   "cell_type": "code",
   "execution_count": 27,
   "id": "1e19b932-6420-418c-bfd7-d834e57bd808",
   "metadata": {},
   "outputs": [
    {
     "data": {
      "text/plain": [
       "'p'"
      ]
     },
     "execution_count": 27,
     "metadata": {},
     "output_type": "execute_result"
    }
   ],
   "source": [
    "k[0]"
   ]
  },
  {
   "cell_type": "code",
   "execution_count": 28,
   "id": "ecc7bf75-09e0-4936-adf8-d1d5edddb658",
   "metadata": {},
   "outputs": [
    {
     "data": {
      "text/plain": [
       "'i'"
      ]
     },
     "execution_count": 28,
     "metadata": {},
     "output_type": "execute_result"
    }
   ],
   "source": [
    "k[4]"
   ]
  },
  {
   "cell_type": "code",
   "execution_count": 29,
   "id": "a3988afc-97d1-427b-879a-82c89b8ea41a",
   "metadata": {},
   "outputs": [
    {
     "data": {
      "text/plain": [
       "'s'"
      ]
     },
     "execution_count": 29,
     "metadata": {},
     "output_type": "execute_result"
    }
   ],
   "source": [
    "k[-1]"
   ]
  },
  {
   "cell_type": "code",
   "execution_count": 30,
   "id": "73fc8982-e400-4353-b473-aa7bde1b0324",
   "metadata": {},
   "outputs": [
    {
     "data": {
      "text/plain": [
       "'i'"
      ]
     },
     "execution_count": 30,
     "metadata": {},
     "output_type": "execute_result"
    }
   ],
   "source": [
    "k[-4]"
   ]
  },
  {
   "cell_type": "code",
   "execution_count": 31,
   "id": "6a1585c9-f981-46c4-a3ff-0ba3943c3842",
   "metadata": {},
   "outputs": [
    {
     "ename": "IndexError",
     "evalue": "string index out of range",
     "output_type": "error",
     "traceback": [
      "\u001b[0;31m---------------------------------------------------------------------------\u001b[0m",
      "\u001b[0;31mIndexError\u001b[0m                                Traceback (most recent call last)",
      "Cell \u001b[0;32mIn[31], line 1\u001b[0m\n\u001b[0;32m----> 1\u001b[0m \u001b[43mk\u001b[49m\u001b[43m[\u001b[49m\u001b[38;5;241;43m-\u001b[39;49m\u001b[38;5;241;43m9\u001b[39;49m\u001b[43m]\u001b[49m\n",
      "\u001b[0;31mIndexError\u001b[0m: string index out of range"
     ]
    }
   ],
   "source": [
    "k[-9]"
   ]
  },
  {
   "cell_type": "code",
   "execution_count": 32,
   "id": "548db04b-3953-4577-b7ad-7f00ce2e8d45",
   "metadata": {},
   "outputs": [
    {
     "data": {
      "text/plain": [
       "'pw'"
      ]
     },
     "execution_count": 32,
     "metadata": {},
     "output_type": "execute_result"
    }
   ],
   "source": [
    "#Slicing\n",
    "k[0:2] # starting index (lower bound) element is included but last index (upper bound) element is excluded"
   ]
  },
  {
   "cell_type": "code",
   "execution_count": 33,
   "id": "e1fdb940-cde8-4460-806a-f356cff52aed",
   "metadata": {},
   "outputs": [
    {
     "data": {
      "text/plain": [
       "'wskil'"
      ]
     },
     "execution_count": 33,
     "metadata": {},
     "output_type": "execute_result"
    }
   ],
   "source": [
    "k[1:6] "
   ]
  },
  {
   "cell_type": "code",
   "execution_count": 34,
   "id": "56d668a5-4655-4cfe-b3d5-5848245963cf",
   "metadata": {},
   "outputs": [
    {
     "data": {
      "text/plain": [
       "'skills'"
      ]
     },
     "execution_count": 34,
     "metadata": {},
     "output_type": "execute_result"
    }
   ],
   "source": [
    "k[2:]"
   ]
  },
  {
   "cell_type": "code",
   "execution_count": 35,
   "id": "1d4619eb-808f-4a15-a329-1bcdeff385ae",
   "metadata": {},
   "outputs": [
    {
     "data": {
      "text/plain": [
       "'pwskills'"
      ]
     },
     "execution_count": 35,
     "metadata": {},
     "output_type": "execute_result"
    }
   ],
   "source": [
    "k[0:8:1]"
   ]
  },
  {
   "cell_type": "code",
   "execution_count": 36,
   "id": "52b1a6f6-585e-49a9-a630-419d459346d4",
   "metadata": {},
   "outputs": [
    {
     "data": {
      "text/plain": [
       "'psil'"
      ]
     },
     "execution_count": 36,
     "metadata": {},
     "output_type": "execute_result"
    }
   ],
   "source": [
    "k[0::2] #skip one element"
   ]
  },
  {
   "cell_type": "markdown",
   "id": "183025c6-dcfa-402b-98f2-1047cdf2e49b",
   "metadata": {},
   "source": [
    "var[startIndex:endIndex:Jump] where jump=1 by default\n",
    "\n",
    "also, [optional : optional : optional]"
   ]
  },
  {
   "cell_type": "code",
   "execution_count": 37,
   "id": "c56328a5-9eaf-485b-8820-51e27a594159",
   "metadata": {},
   "outputs": [
    {
     "data": {
      "text/plain": [
       "'psil'"
      ]
     },
     "execution_count": 37,
     "metadata": {},
     "output_type": "execute_result"
    }
   ],
   "source": [
    "k[::2]"
   ]
  },
  {
   "cell_type": "code",
   "execution_count": 38,
   "id": "e6ce8080-6d0a-40f8-9e65-3ba0bee23bae",
   "metadata": {},
   "outputs": [
    {
     "ename": "ValueError",
     "evalue": "slice step cannot be zero",
     "output_type": "error",
     "traceback": [
      "\u001b[0;31m---------------------------------------------------------------------------\u001b[0m",
      "\u001b[0;31mValueError\u001b[0m                                Traceback (most recent call last)",
      "Cell \u001b[0;32mIn[38], line 1\u001b[0m\n\u001b[0;32m----> 1\u001b[0m \u001b[43mk\u001b[49m\u001b[43m[\u001b[49m\u001b[43m:\u001b[49m\u001b[43m:\u001b[49m\u001b[38;5;241;43m0\u001b[39;49m\u001b[43m]\u001b[49m\n\u001b[1;32m      3\u001b[0m \u001b[38;5;66;03m# give error as jump can't be zero\u001b[39;00m\n",
      "\u001b[0;31mValueError\u001b[0m: slice step cannot be zero"
     ]
    }
   ],
   "source": [
    "k[::0]\n",
    "\n",
    "# give error as jump can't be zero"
   ]
  },
  {
   "cell_type": "code",
   "execution_count": 39,
   "id": "09a24fa9-5d28-44ac-8b39-2bfed1f7b556",
   "metadata": {},
   "outputs": [
    {
     "data": {
      "text/plain": [
       "'sllikswp'"
      ]
     },
     "execution_count": 39,
     "metadata": {},
     "output_type": "execute_result"
    }
   ],
   "source": [
    "# printing string in reverse direction\n",
    "k[::-1] # use jump as -1"
   ]
  },
  {
   "cell_type": "code",
   "execution_count": 40,
   "id": "42367d54-8d51-41fc-ba5b-b4839ff9e8ec",
   "metadata": {},
   "outputs": [
    {
     "data": {
      "text/plain": [
       "''"
      ]
     },
     "execution_count": 40,
     "metadata": {},
     "output_type": "execute_result"
    }
   ],
   "source": [
    "k[1:6:-2]"
   ]
  },
  {
   "cell_type": "code",
   "execution_count": 41,
   "id": "4dde254f-86e5-498e-8ab1-0345bf75e04e",
   "metadata": {},
   "outputs": [
    {
     "data": {
      "text/plain": [
       "'sl'"
      ]
     },
     "execution_count": 41,
     "metadata": {},
     "output_type": "execute_result"
    }
   ],
   "source": [
    "k[-1:-5:-2]"
   ]
  },
  {
   "cell_type": "markdown",
   "id": "15174efa-5c28-4ad3-b4af-faa851239690",
   "metadata": {},
   "source": [
    "jump value being -ve means t is jumping in backward direction\n",
    "Now, when we use forward indexing and jmp is -ve then it will go to (starting point - jump)th index\n",
    "\n",
    "So here conflict arise as forward indexing goes in forward diection whereas -ve jump will go to backward direction. {Imagine it on a number scale line}\n",
    "\n",
    "That's why blank will be output"
   ]
  },
  {
   "cell_type": "code",
   "execution_count": 42,
   "id": "93450fa7-e57d-4bd0-9a57-ed5a662285b5",
   "metadata": {},
   "outputs": [
    {
     "data": {
      "text/plain": [
       "''"
      ]
     },
     "execution_count": 42,
     "metadata": {},
     "output_type": "execute_result"
    }
   ],
   "source": [
    "k[1:7:-2]"
   ]
  },
  {
   "cell_type": "code",
   "execution_count": 43,
   "id": "f28a69cc-de16-4d89-9770-af0530d6b749",
   "metadata": {},
   "outputs": [
    {
     "data": {
      "text/plain": [
       "''"
      ]
     },
     "execution_count": 43,
     "metadata": {},
     "output_type": "execute_result"
    }
   ],
   "source": [
    "k[7:1:2] # conflict arising between direction of slicing and jumping"
   ]
  },
  {
   "cell_type": "code",
   "execution_count": 44,
   "id": "e42beb69-e8e4-4c0a-87ec-8af20f26e9c4",
   "metadata": {},
   "outputs": [
    {
     "data": {
      "text/plain": [
       "'slliksw'"
      ]
     },
     "execution_count": 44,
     "metadata": {},
     "output_type": "execute_result"
    }
   ],
   "source": [
    "k[7:0:-1]"
   ]
  },
  {
   "cell_type": "code",
   "execution_count": 45,
   "id": "c967ea9b-dba1-40e7-a260-9244ae3b54f7",
   "metadata": {},
   "outputs": [
    {
     "data": {
      "text/plain": [
       "''"
      ]
     },
     "execution_count": 45,
     "metadata": {},
     "output_type": "execute_result"
    }
   ],
   "source": [
    "k[7:-1:-1]"
   ]
  },
  {
   "cell_type": "code",
   "execution_count": 46,
   "id": "27af8a87-1535-4394-9b10-2a6a35c216d8",
   "metadata": {},
   "outputs": [
    {
     "data": {
      "text/plain": [
       "'slliksw'"
      ]
     },
     "execution_count": 46,
     "metadata": {},
     "output_type": "execute_result"
    }
   ],
   "source": [
    "k[7:-8:-1]"
   ]
  },
  {
   "cell_type": "code",
   "execution_count": 47,
   "id": "dc9a16e8-5e8a-436e-9b2e-7a4cf9a84d85",
   "metadata": {},
   "outputs": [
    {
     "data": {
      "text/plain": [
       "'sllikswp'"
      ]
     },
     "execution_count": 47,
     "metadata": {},
     "output_type": "execute_result"
    }
   ],
   "source": [
    "k[-1 : : -1] # To include last element simply not provide upper bound"
   ]
  },
  {
   "cell_type": "code",
   "execution_count": 48,
   "id": "1ef72136-8c03-4726-9278-d0abdeba7a89",
   "metadata": {},
   "outputs": [
    {
     "data": {
      "text/plain": [
       "'sllikswp'"
      ]
     },
     "execution_count": 48,
     "metadata": {},
     "output_type": "execute_result"
    }
   ],
   "source": [
    "k[::-1]"
   ]
  },
  {
   "cell_type": "code",
   "execution_count": 49,
   "id": "d5df2f92-6ef6-43a7-906f-93c09c4116ec",
   "metadata": {},
   "outputs": [
    {
     "data": {
      "text/plain": [
       "'pwskills'"
      ]
     },
     "execution_count": 49,
     "metadata": {},
     "output_type": "execute_result"
    }
   ],
   "source": [
    "k[:90:1]"
   ]
  },
  {
   "cell_type": "code",
   "execution_count": 50,
   "id": "a3ea5ddf-a3a2-4728-acc5-ed9cc1d71560",
   "metadata": {},
   "outputs": [
    {
     "data": {
      "text/plain": [
       "''"
      ]
     },
     "execution_count": 50,
     "metadata": {},
     "output_type": "execute_result"
    }
   ],
   "source": [
    "k[:-90:1]"
   ]
  },
  {
   "cell_type": "code",
   "execution_count": 51,
   "id": "b34f67a1-6dd2-4f1f-9dd2-d0c341a92447",
   "metadata": {},
   "outputs": [
    {
     "data": {
      "text/plain": [
       "'sllikswp'"
      ]
     },
     "execution_count": 51,
     "metadata": {},
     "output_type": "execute_result"
    }
   ],
   "source": [
    "k[:-90:-1]"
   ]
  },
  {
   "cell_type": "code",
   "execution_count": 52,
   "id": "083ca934-5097-482d-8e15-1d39a3d993f8",
   "metadata": {},
   "outputs": [
    {
     "ename": "IndexError",
     "evalue": "string index out of range",
     "output_type": "error",
     "traceback": [
      "\u001b[0;31m---------------------------------------------------------------------------\u001b[0m",
      "\u001b[0;31mIndexError\u001b[0m                                Traceback (most recent call last)",
      "Cell \u001b[0;32mIn[52], line 1\u001b[0m\n\u001b[0;32m----> 1\u001b[0m \u001b[43mk\u001b[49m\u001b[43m[\u001b[49m\u001b[38;5;241;43m90\u001b[39;49m\u001b[43m]\u001b[49m\n",
      "\u001b[0;31mIndexError\u001b[0m: string index out of range"
     ]
    }
   ],
   "source": [
    "k[90]"
   ]
  },
  {
   "cell_type": "markdown",
   "id": "0198d8ba-c31e-47b7-ba11-0614370d285b",
   "metadata": {},
   "source": [
    "So in slicing upper bound can exced but while fetching one element can't go out of index"
   ]
  },
  {
   "cell_type": "code",
   "execution_count": 53,
   "id": "5faf6ef5-fd37-43f4-b775-7f66047c875c",
   "metadata": {},
   "outputs": [
    {
     "data": {
      "text/plain": [
       "'pwskills'"
      ]
     },
     "execution_count": 53,
     "metadata": {},
     "output_type": "execute_result"
    }
   ],
   "source": [
    "k[-90::1]"
   ]
  },
  {
   "cell_type": "code",
   "execution_count": 54,
   "id": "75b077a8-e1c0-4ed1-9a9f-388fbdf84a67",
   "metadata": {},
   "outputs": [
    {
     "data": {
      "text/plain": [
       "''"
      ]
     },
     "execution_count": 54,
     "metadata": {},
     "output_type": "execute_result"
    }
   ],
   "source": [
    "k[-90::-1]"
   ]
  },
  {
   "cell_type": "code",
   "execution_count": 55,
   "id": "586fff49-3721-43fc-869a-1e44d93fc238",
   "metadata": {},
   "outputs": [],
   "source": [
    "a = 200\n",
    "b= 3.6754\n",
    "c = 8+7j\n",
    "# in this we can't do slicing as these are numbers i.e. they stored as whole"
   ]
  },
  {
   "cell_type": "code",
   "execution_count": 56,
   "id": "24c97c91-fda1-4e23-8c8b-d8073ae70846",
   "metadata": {},
   "outputs": [
    {
     "name": "stdout",
     "output_type": "stream",
     "text": [
      "this is my string class\n"
     ]
    }
   ],
   "source": [
    "s = \"this is my string class\"\n",
    "print(s)"
   ]
  },
  {
   "cell_type": "markdown",
   "id": "95af5fd7-3d6e-425e-86e7-16fe782802af",
   "metadata": {},
   "source": [
    "There are some string functions which are very handy and useful"
   ]
  },
  {
   "cell_type": "code",
   "execution_count": 57,
   "id": "fdf564c2-401f-4bc5-bb29-cbea55eb5526",
   "metadata": {},
   "outputs": [
    {
     "data": {
      "text/plain": [
       "23"
      ]
     },
     "execution_count": 57,
     "metadata": {},
     "output_type": "execute_result"
    }
   ],
   "source": [
    "len(s) # to give length i.e. number of elements"
   ]
  },
  {
   "cell_type": "code",
   "execution_count": 58,
   "id": "2ea0e14e-e98f-4f92-a0d4-060666ec0263",
   "metadata": {},
   "outputs": [
    {
     "data": {
      "text/plain": [
       "3"
      ]
     },
     "execution_count": 58,
     "metadata": {},
     "output_type": "execute_result"
    }
   ],
   "source": [
    "s.find('s') #finding a data in our variable"
   ]
  },
  {
   "cell_type": "code",
   "execution_count": 59,
   "id": "d0d8d627-39ca-4e95-9a89-1dc37849118b",
   "metadata": {},
   "outputs": [
    {
     "name": "stdout",
     "output_type": "stream",
     "text": [
      "18\n",
      "-1\n",
      "2\n",
      "-1\n"
     ]
    }
   ],
   "source": [
    "print(s.find(\"c\"))\n",
    "print(s.find(\"C\"))\n",
    "print(s.find(\"is\"))\n",
    "print(s.find(\"it\"))"
   ]
  },
  {
   "cell_type": "code",
   "execution_count": 60,
   "id": "d465032c-4a6a-4c26-b085-52a6ee36da89",
   "metadata": {},
   "outputs": [
    {
     "data": {
      "text/plain": [
       "-1"
      ]
     },
     "execution_count": 60,
     "metadata": {},
     "output_type": "execute_result"
    }
   ],
   "source": [
    "s.find(\"+\")"
   ]
  },
  {
   "cell_type": "code",
   "execution_count": 61,
   "id": "d74cc430-275f-4ac9-a2ae-9414c91c6bb8",
   "metadata": {},
   "outputs": [
    {
     "data": {
      "text/plain": [
       "-1"
      ]
     },
     "execution_count": 61,
     "metadata": {},
     "output_type": "execute_result"
    }
   ],
   "source": [
    "s.find(\"z\")"
   ]
  },
  {
   "cell_type": "markdown",
   "id": "682b8bd1-1c59-4d4e-ab34-65e8c9073675",
   "metadata": {},
   "source": [
    "'find' function will give index of occurance of that data first time in the variable.\n",
    "\n",
    "If it can't find any data in variable then it will return -1\n",
    "\n",
    "It is case sensitive  <b> Pthon is case sensitive </b>\n",
    "\n",
    "varName.\"pressTAB\" gives all the functions which are compatible to that variable's data type"
   ]
  },
  {
   "cell_type": "code",
   "execution_count": 62,
   "id": "9e7a4ae4-2c81-4045-a408-fb934099ea45",
   "metadata": {},
   "outputs": [
    {
     "data": {
      "text/plain": [
       "2"
      ]
     },
     "execution_count": 62,
     "metadata": {},
     "output_type": "execute_result"
    }
   ],
   "source": [
    "s.count(\"is\")"
   ]
  },
  {
   "cell_type": "code",
   "execution_count": 63,
   "id": "8c46ef1a-217d-4c3f-9bca-c1ebb0a79846",
   "metadata": {},
   "outputs": [
    {
     "data": {
      "text/plain": [
       "5"
      ]
     },
     "execution_count": 63,
     "metadata": {},
     "output_type": "execute_result"
    }
   ],
   "source": [
    "s.count(\"s\")"
   ]
  },
  {
   "cell_type": "code",
   "execution_count": 64,
   "id": "6a43f77e-aed5-4ed9-bb3e-50c838460838",
   "metadata": {},
   "outputs": [
    {
     "data": {
      "text/plain": [
       "0"
      ]
     },
     "execution_count": 64,
     "metadata": {},
     "output_type": "execute_result"
    }
   ],
   "source": [
    "s.count(\"S\")"
   ]
  },
  {
   "cell_type": "code",
   "execution_count": 65,
   "id": "2e5c49c5-f6f8-49ce-876b-660f2fc7ae44",
   "metadata": {},
   "outputs": [
    {
     "data": {
      "text/plain": [
       "'THIS IS MY STRING CLASS'"
      ]
     },
     "execution_count": 65,
     "metadata": {},
     "output_type": "execute_result"
    }
   ],
   "source": [
    "s.upper()"
   ]
  },
  {
   "cell_type": "code",
   "execution_count": 66,
   "id": "3c777634-e6fe-4699-a91e-efb47d7bedba",
   "metadata": {},
   "outputs": [
    {
     "data": {
      "text/plain": [
       "'this is my string class'"
      ]
     },
     "execution_count": 66,
     "metadata": {},
     "output_type": "execute_result"
    }
   ],
   "source": [
    "s.lower()"
   ]
  },
  {
   "cell_type": "code",
   "execution_count": 67,
   "id": "ff97a13d-7a92-4ed3-9ade-c98923b4f36c",
   "metadata": {},
   "outputs": [
    {
     "name": "stdout",
     "output_type": "stream",
     "text": [
      "THIS IS MY STRING CLASS\n",
      "this is my string class\n"
     ]
    }
   ],
   "source": [
    "q = s.upper()\n",
    "w = s.lower()\n",
    "print(q)\n",
    "print(w)"
   ]
  },
  {
   "cell_type": "code",
   "execution_count": 68,
   "id": "8ee778b1-e8e3-4efb-b416-97895bc18db9",
   "metadata": {},
   "outputs": [
    {
     "data": {
      "text/plain": [
       "'This Is My String Class'"
      ]
     },
     "execution_count": 68,
     "metadata": {},
     "output_type": "execute_result"
    }
   ],
   "source": [
    "# Converting to title i.e. capitalize initial char of each word\n",
    "r = s.title()\n",
    "r"
   ]
  },
  {
   "cell_type": "code",
   "execution_count": 69,
   "id": "4e5b96c0-8a1e-45c6-96b0-42116d8a5aab",
   "metadata": {},
   "outputs": [
    {
     "data": {
      "text/plain": [
       "'This is my string class'"
      ]
     },
     "execution_count": 69,
     "metadata": {},
     "output_type": "execute_result"
    }
   ],
   "source": [
    "t = s.capitalize() # only capitalize 1st char of whole string\n",
    "t"
   ]
  },
  {
   "cell_type": "code",
   "execution_count": 70,
   "id": "8952567e-ce10-451d-9ce5-4c44c5388224",
   "metadata": {},
   "outputs": [
    {
     "ename": "TypeError",
     "evalue": "can only concatenate str (not \"int\") to str",
     "output_type": "error",
     "traceback": [
      "\u001b[0;31m---------------------------------------------------------------------------\u001b[0m",
      "\u001b[0;31mTypeError\u001b[0m                                 Traceback (most recent call last)",
      "Cell \u001b[0;32mIn[70], line 1\u001b[0m\n\u001b[0;32m----> 1\u001b[0m \u001b[43ms\u001b[49m\u001b[43m \u001b[49m\u001b[38;5;241;43m+\u001b[39;49m\u001b[43m \u001b[49m\u001b[38;5;241;43m1\u001b[39;49m\n",
      "\u001b[0;31mTypeError\u001b[0m: can only concatenate str (not \"int\") to str"
     ]
    }
   ],
   "source": [
    "s + 1"
   ]
  },
  {
   "cell_type": "code",
   "execution_count": 71,
   "id": "695c6af9-7ae7-4160-9de7-718a5efa1108",
   "metadata": {},
   "outputs": [
    {
     "data": {
      "text/plain": [
       "'this is my string classz'"
      ]
     },
     "execution_count": 71,
     "metadata": {},
     "output_type": "execute_result"
    }
   ],
   "source": [
    "s + 'z'"
   ]
  },
  {
   "cell_type": "code",
   "execution_count": 72,
   "id": "04a1b978-29bb-45ff-a180-4b5e4bf0e789",
   "metadata": {},
   "outputs": [
    {
     "data": {
      "text/plain": [
       "'this is my string class'"
      ]
     },
     "execution_count": 72,
     "metadata": {},
     "output_type": "execute_result"
    }
   ],
   "source": [
    "s"
   ]
  },
  {
   "cell_type": "code",
   "execution_count": 73,
   "id": "99b5838b-5b59-44ee-8544-4d7c28c92d3d",
   "metadata": {},
   "outputs": [
    {
     "data": {
      "text/plain": [
       "'this is my string class7'"
      ]
     },
     "execution_count": 73,
     "metadata": {},
     "output_type": "execute_result"
    }
   ],
   "source": [
    "s + \"7\""
   ]
  },
  {
   "cell_type": "code",
   "execution_count": 74,
   "id": "687355d5-6ad5-4989-815e-4f69fffbb091",
   "metadata": {},
   "outputs": [
    {
     "data": {
      "text/plain": [
       "'this is my string class7'"
      ]
     },
     "execution_count": 74,
     "metadata": {},
     "output_type": "execute_result"
    }
   ],
   "source": [
    "s + str(7) # cancatenating string wih numeric using typecasting"
   ]
  },
  {
   "cell_type": "code",
   "execution_count": 75,
   "id": "557df783-d848-4f13-a0f1-17d279330fe9",
   "metadata": {},
   "outputs": [
    {
     "data": {
      "text/plain": [
       "'this is my string classthis is my string classthis is my string classthis is my string classthis is my string class'"
      ]
     },
     "execution_count": 75,
     "metadata": {},
     "output_type": "execute_result"
    }
   ],
   "source": [
    "s * 5 #will repeat/print that many times"
   ]
  },
  {
   "cell_type": "code",
   "execution_count": 76,
   "id": "ec426268-f5b6-4b36-ac75-acb70e0dd56e",
   "metadata": {},
   "outputs": [
    {
     "data": {
      "text/plain": [
       "'vaiv_07 vaiv_07 vaiv_07 '"
      ]
     },
     "execution_count": 76,
     "metadata": {},
     "output_type": "execute_result"
    }
   ],
   "source": [
    "\"vaiv_07 \" * 3"
   ]
  },
  {
   "cell_type": "code",
   "execution_count": 77,
   "id": "b3bdcfde-ae5e-4496-9c8f-e71aa4aaf09b",
   "metadata": {},
   "outputs": [
    {
     "ename": "TypeError",
     "evalue": "unsupported operand type(s) for /: 'str' and 'int'",
     "output_type": "error",
     "traceback": [
      "\u001b[0;31m---------------------------------------------------------------------------\u001b[0m",
      "\u001b[0;31mTypeError\u001b[0m                                 Traceback (most recent call last)",
      "Cell \u001b[0;32mIn[77], line 1\u001b[0m\n\u001b[0;32m----> 1\u001b[0m \u001b[38;5;124;43m\"\u001b[39;49m\u001b[38;5;124;43mvaiv_07 \u001b[39;49m\u001b[38;5;124;43m\"\u001b[39;49m\u001b[43m \u001b[49m\u001b[38;5;241;43m/\u001b[39;49m\u001b[43m \u001b[49m\u001b[38;5;241;43m3\u001b[39;49m\n",
      "\u001b[0;31mTypeError\u001b[0m: unsupported operand type(s) for /: 'str' and 'int'"
     ]
    }
   ],
   "source": [
    "\"vaiv_07 \" / 3"
   ]
  },
  {
   "cell_type": "code",
   "execution_count": 78,
   "id": "81ebf483-ab78-4292-96b9-94a96122562b",
   "metadata": {},
   "outputs": [
    {
     "ename": "TypeError",
     "evalue": "can only concatenate str (not \"int\") to str",
     "output_type": "error",
     "traceback": [
      "\u001b[0;31m---------------------------------------------------------------------------\u001b[0m",
      "\u001b[0;31mTypeError\u001b[0m                                 Traceback (most recent call last)",
      "Cell \u001b[0;32mIn[78], line 1\u001b[0m\n\u001b[0;32m----> 1\u001b[0m \u001b[38;5;124;43m\"\u001b[39;49m\u001b[38;5;124;43mvaiv_07 \u001b[39;49m\u001b[38;5;124;43m\"\u001b[39;49m\u001b[43m \u001b[49m\u001b[38;5;241;43m+\u001b[39;49m\u001b[43m \u001b[49m\u001b[38;5;241;43m3\u001b[39;49m\n",
      "\u001b[0;31mTypeError\u001b[0m: can only concatenate str (not \"int\") to str"
     ]
    }
   ],
   "source": [
    "\"vaiv_07 \" + 3"
   ]
  },
  {
   "cell_type": "code",
   "execution_count": 79,
   "id": "f0858caa-a7a6-4404-a8bf-c1cf93a10240",
   "metadata": {},
   "outputs": [
    {
     "ename": "TypeError",
     "evalue": "unsupported operand type(s) for -: 'str' and 'int'",
     "output_type": "error",
     "traceback": [
      "\u001b[0;31m---------------------------------------------------------------------------\u001b[0m",
      "\u001b[0;31mTypeError\u001b[0m                                 Traceback (most recent call last)",
      "Cell \u001b[0;32mIn[79], line 1\u001b[0m\n\u001b[0;32m----> 1\u001b[0m \u001b[38;5;124;43m\"\u001b[39;49m\u001b[38;5;124;43mvaiv_07 \u001b[39;49m\u001b[38;5;124;43m\"\u001b[39;49m\u001b[43m \u001b[49m\u001b[38;5;241;43m-\u001b[39;49m\u001b[43m \u001b[49m\u001b[38;5;241;43m3\u001b[39;49m\n",
      "\u001b[0;31mTypeError\u001b[0m: unsupported operand type(s) for -: 'str' and 'int'"
     ]
    }
   ],
   "source": [
    "\"vaiv_07 \" - 3"
   ]
  },
  {
   "cell_type": "code",
   "execution_count": 80,
   "id": "bb7f6011-b482-4919-bd70-1d27639b3a03",
   "metadata": {},
   "outputs": [
    {
     "ename": "SyntaxError",
     "evalue": "unterminated string literal (detected at line 1) (248197186.py, line 1)",
     "output_type": "error",
     "traceback": [
      "\u001b[0;36m  Cell \u001b[0;32mIn[80], line 1\u001b[0;36m\u001b[0m\n\u001b[0;31m    p = 'hello, can't wait to see you'\u001b[0m\n\u001b[0m                                     ^\u001b[0m\n\u001b[0;31mSyntaxError\u001b[0m\u001b[0;31m:\u001b[0m unterminated string literal (detected at line 1)\n"
     ]
    }
   ],
   "source": [
    "p = 'hello, can't wait to see you' \n",
    "#will give error as we are using single quotes for string and string also have single quotes in it"
   ]
  },
  {
   "cell_type": "code",
   "execution_count": 81,
   "id": "d6f81121-13ea-4e42-adea-3b292d7c9fa9",
   "metadata": {},
   "outputs": [
    {
     "data": {
      "text/plain": [
       "\"hello, can't wait to see you\""
      ]
     },
     "execution_count": 81,
     "metadata": {},
     "output_type": "execute_result"
    }
   ],
   "source": [
    "p = \"hello, can't wait to see you\"\n",
    "# will execute \n",
    "p"
   ]
  },
  {
   "cell_type": "code",
   "execution_count": 82,
   "id": "436643c3-a9e1-42a4-b373-abe3140af231",
   "metadata": {},
   "outputs": [
    {
     "ename": "SyntaxError",
     "evalue": "invalid syntax (2333878457.py, line 1)",
     "output_type": "error",
     "traceback": [
      "\u001b[0;36m  Cell \u001b[0;32mIn[82], line 1\u001b[0;36m\u001b[0m\n\u001b[0;31m    P = \"He said,\"This is it\" you listen? \"\u001b[0m\n\u001b[0m                  ^\u001b[0m\n\u001b[0;31mSyntaxError\u001b[0m\u001b[0;31m:\u001b[0m invalid syntax\n"
     ]
    }
   ],
   "source": [
    "P = \"He said,\"This is it\" you listen? \"\n",
    "\n",
    "# Similarly it will also give error as we are using double quotes and string is also having double quotes"
   ]
  },
  {
   "cell_type": "code",
   "execution_count": 83,
   "id": "267cc037-9fe7-4484-94b2-c6eba45d3196",
   "metadata": {},
   "outputs": [
    {
     "data": {
      "text/plain": [
       "'He said,\"This is it\" you listen? '"
      ]
     },
     "execution_count": 83,
     "metadata": {},
     "output_type": "execute_result"
    }
   ],
   "source": [
    "P = 'He said,\"This is it\" you listen? '\n",
    "P"
   ]
  },
  {
   "cell_type": "markdown",
   "id": "81de34b7-17bf-4ac9-b7a6-0a1fc57f9a68",
   "metadata": {},
   "source": [
    "We can use triple quotes (i.e. three consecutive single or doblequotes) if our file have both single and double quotes in it to avoid error"
   ]
  },
  {
   "cell_type": "code",
   "execution_count": 84,
   "id": "bf53bef3-fd84-4033-b231-2677f5df80b9",
   "metadata": {},
   "outputs": [
    {
     "data": {
      "text/plain": [
       "'Konnichiwa, \"yondekudasi\". It\\'s written in japanese which means \"read it plase\" '"
      ]
     },
     "execution_count": 84,
     "metadata": {},
     "output_type": "execute_result"
    }
   ],
   "source": [
    "P = \"\"\"Konnichiwa, \"yondekudasi\". It's written in japanese which means \"read it plase\" \"\"\"\n",
    "P"
   ]
  },
  {
   "cell_type": "code",
   "execution_count": 85,
   "id": "eae89903-dec2-47a6-9241-a9558aac48a7",
   "metadata": {},
   "outputs": [
    {
     "name": "stdout",
     "output_type": "stream",
     "text": [
      "Konnichiwa, \"yondekudasi\". It's written in japanese which means \"read it plase\" \n"
     ]
    }
   ],
   "source": [
    "print(P)"
   ]
  },
  {
   "cell_type": "code",
   "execution_count": null,
   "id": "b574ff30-6e9f-48de-88c8-331593c5cdb8",
   "metadata": {},
   "outputs": [],
   "source": []
  }
 ],
 "metadata": {
  "kernelspec": {
   "display_name": "Python 3 (ipykernel)",
   "language": "python",
   "name": "python3"
  },
  "language_info": {
   "codemirror_mode": {
    "name": "ipython",
    "version": 3
   },
   "file_extension": ".py",
   "mimetype": "text/x-python",
   "name": "python",
   "nbconvert_exporter": "python",
   "pygments_lexer": "ipython3",
   "version": "3.10.8"
  }
 },
 "nbformat": 4,
 "nbformat_minor": 5
}
