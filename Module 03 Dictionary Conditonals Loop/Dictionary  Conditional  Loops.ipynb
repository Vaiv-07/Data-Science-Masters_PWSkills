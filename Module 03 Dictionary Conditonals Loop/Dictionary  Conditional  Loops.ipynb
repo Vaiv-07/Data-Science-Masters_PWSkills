{
 "cells": [
  {
   "cell_type": "markdown",
   "id": "f9c8c005-203b-4e78-be74-e1998bc0538e",
   "metadata": {
    "tags": []
   },
   "source": [
    "## Dictionary"
   ]
  },
  {
   "cell_type": "code",
   "execution_count": 1,
   "id": "9482a013-97e1-482f-8381-d6e5eb756f2a",
   "metadata": {},
   "outputs": [
    {
     "name": "stdout",
     "output_type": "stream",
     "text": [
      "<class 'dict'>\n"
     ]
    }
   ],
   "source": [
    "dict1 = {}\n",
    "print(type(dict1))"
   ]
  },
  {
   "cell_type": "code",
   "execution_count": 2,
   "id": "392d922e-2a15-4a9c-a530-2b013a9606d6",
   "metadata": {},
   "outputs": [
    {
     "data": {
      "text/plain": [
       "set"
      ]
     },
     "execution_count": 2,
     "metadata": {},
     "output_type": "execute_result"
    }
   ],
   "source": [
    "dict1 = {1,4,5,'pw'} # inserting linear data\n",
    "type(dict1)"
   ]
  },
  {
   "cell_type": "code",
   "execution_count": 3,
   "id": "464dda1b-8383-44e3-ba8f-1dc0461e8c3d",
   "metadata": {},
   "outputs": [],
   "source": [
    "dict1 = {'key' : \"pwSkills\"} \n",
    "\n",
    "# key should be always unique else it will upgrade it"
   ]
  },
  {
   "cell_type": "code",
   "execution_count": 4,
   "id": "d35388aa-23ec-495a-9dcb-8472604d33de",
   "metadata": {},
   "outputs": [
    {
     "data": {
      "text/plain": [
       "{'key': 'pwSkills'}"
      ]
     },
     "execution_count": 4,
     "metadata": {},
     "output_type": "execute_result"
    }
   ],
   "source": [
    "dict1"
   ]
  },
  {
   "cell_type": "code",
   "execution_count": 5,
   "id": "1ce52899-dd8a-4b6c-9454-014a2d80da2d",
   "metadata": {},
   "outputs": [],
   "source": [
    "dict2 = {\"Name\":\"Vaibhav\", \"E-mail\":\"support@pwskills.com\", 'Platform':'PwSkills', 'Score': 97.50}"
   ]
  },
  {
   "cell_type": "code",
   "execution_count": 6,
   "id": "2eed09ce-088f-4c16-9143-ccc108a1a708",
   "metadata": {},
   "outputs": [
    {
     "data": {
      "text/plain": [
       "{'Name': 'Vaibhav',\n",
       " 'E-mail': 'support@pwskills.com',\n",
       " 'Platform': 'PwSkills',\n",
       " 'Score': 97.5}"
      ]
     },
     "execution_count": 6,
     "metadata": {},
     "output_type": "execute_result"
    }
   ],
   "source": [
    "dict2"
   ]
  },
  {
   "cell_type": "code",
   "execution_count": 7,
   "id": "ef3f7e95-b85a-483d-a5b8-dd813ac69601",
   "metadata": {},
   "outputs": [
    {
     "name": "stdout",
     "output_type": "stream",
     "text": [
      "{1: 'one', 2: 'two'}\n"
     ]
    }
   ],
   "source": [
    "dict3 = {1:\"one\", 2:\"two\"}\n",
    "print(dict3)"
   ]
  },
  {
   "cell_type": "code",
   "execution_count": 8,
   "id": "8b5a52ce-f941-4783-8b05-486390d61269",
   "metadata": {},
   "outputs": [
    {
     "ename": "SyntaxError",
     "evalue": "invalid syntax (2113675365.py, line 1)",
     "output_type": "error",
     "traceback": [
      "\u001b[0;36m  Cell \u001b[0;32mIn[8], line 1\u001b[0;36m\u001b[0m\n\u001b[0;31m    d = { @ : \"value\" }\u001b[0m\n\u001b[0m          ^\u001b[0m\n\u001b[0;31mSyntaxError\u001b[0m\u001b[0;31m:\u001b[0m invalid syntax\n"
     ]
    }
   ],
   "source": [
    "d = { @ : \"value\" }"
   ]
  },
  {
   "cell_type": "code",
   "execution_count": 9,
   "id": "e66026e1-dbff-4bd4-8083-cbf88ed92bdf",
   "metadata": {},
   "outputs": [],
   "source": [
    "d4 = { '@' : \"value\" }"
   ]
  },
  {
   "cell_type": "code",
   "execution_count": 10,
   "id": "8f80d518-3b74-4534-9808-e64df5862cb0",
   "metadata": {},
   "outputs": [
    {
     "data": {
      "text/plain": [
       "{'@': 'value'}"
      ]
     },
     "execution_count": 10,
     "metadata": {},
     "output_type": "execute_result"
    }
   ],
   "source": [
    "d4"
   ]
  },
  {
   "cell_type": "code",
   "execution_count": 11,
   "id": "d9afe2d5-4c41-4da7-83c7-8ade7084b39d",
   "metadata": {},
   "outputs": [
    {
     "ename": "NameError",
     "evalue": "name '_k' is not defined",
     "output_type": "error",
     "traceback": [
      "\u001b[0;31m---------------------------------------------------------------------------\u001b[0m",
      "\u001b[0;31mNameError\u001b[0m                                 Traceback (most recent call last)",
      "Cell \u001b[0;32mIn[11], line 1\u001b[0m\n\u001b[0;32m----> 1\u001b[0m d5 \u001b[38;5;241m=\u001b[39m {\u001b[43m_k\u001b[49m : \u001b[38;5;241m56\u001b[39m}\n",
      "\u001b[0;31mNameError\u001b[0m: name '_k' is not defined"
     ]
    }
   ],
   "source": [
    "d5 = {_k : 56}"
   ]
  },
  {
   "cell_type": "code",
   "execution_count": 12,
   "id": "0bbd9017-0bfe-43b4-b3dc-1735076c7eba",
   "metadata": {},
   "outputs": [
    {
     "data": {
      "text/plain": [
       "{'_k': 56}"
      ]
     },
     "execution_count": 12,
     "metadata": {},
     "output_type": "execute_result"
    }
   ],
   "source": [
    "d5 = {'_k' : 56}\n",
    "d5"
   ]
  },
  {
   "cell_type": "code",
   "execution_count": 13,
   "id": "85d1aa6f-177e-4e0f-b031-564e9a106256",
   "metadata": {},
   "outputs": [
    {
     "data": {
      "text/plain": [
       "{True: 'value'}"
      ]
     },
     "execution_count": 13,
     "metadata": {},
     "output_type": "execute_result"
    }
   ],
   "source": [
    "d6 = {True: \"value\"}\n",
    "d6"
   ]
  },
  {
   "cell_type": "code",
   "execution_count": 14,
   "id": "205bb989-61c9-4c21-9179-5b8e2108922d",
   "metadata": {},
   "outputs": [
    {
     "data": {
      "text/plain": [
       "{'Name': 'Vaibhav',\n",
       " 'E-mail': 'support@pwskills.com',\n",
       " 'Platform': 'PwSkills',\n",
       " 'Score': 97.5}"
      ]
     },
     "execution_count": 14,
     "metadata": {},
     "output_type": "execute_result"
    }
   ],
   "source": [
    "dict2"
   ]
  },
  {
   "cell_type": "code",
   "execution_count": 15,
   "id": "d69f11de-c3b8-494c-aeda-71e92612fa9f",
   "metadata": {},
   "outputs": [
    {
     "ename": "KeyError",
     "evalue": "0",
     "output_type": "error",
     "traceback": [
      "\u001b[0;31m---------------------------------------------------------------------------\u001b[0m",
      "\u001b[0;31mKeyError\u001b[0m                                  Traceback (most recent call last)",
      "Cell \u001b[0;32mIn[15], line 1\u001b[0m\n\u001b[0;32m----> 1\u001b[0m \u001b[43mdict2\u001b[49m\u001b[43m[\u001b[49m\u001b[38;5;241;43m0\u001b[39;49m\u001b[43m]\u001b[49m\n",
      "\u001b[0;31mKeyError\u001b[0m: 0"
     ]
    }
   ],
   "source": [
    "dict2[0]"
   ]
  },
  {
   "cell_type": "code",
   "execution_count": 16,
   "id": "2137d41a-b767-491f-80dd-3f68919d7c05",
   "metadata": {},
   "outputs": [
    {
     "data": {
      "text/plain": [
       "'Vaibhav'"
      ]
     },
     "execution_count": 16,
     "metadata": {},
     "output_type": "execute_result"
    }
   ],
   "source": [
    "dict2['Name']"
   ]
  },
  {
   "cell_type": "code",
   "execution_count": 17,
   "id": "f17404a7-518c-459b-bd94-12946ce96c2c",
   "metadata": {},
   "outputs": [
    {
     "ename": "KeyError",
     "evalue": "'name'",
     "output_type": "error",
     "traceback": [
      "\u001b[0;31m---------------------------------------------------------------------------\u001b[0m",
      "\u001b[0;31mKeyError\u001b[0m                                  Traceback (most recent call last)",
      "Cell \u001b[0;32mIn[17], line 1\u001b[0m\n\u001b[0;32m----> 1\u001b[0m \u001b[43mdict2\u001b[49m\u001b[43m[\u001b[49m\u001b[38;5;124;43m'\u001b[39;49m\u001b[38;5;124;43mname\u001b[39;49m\u001b[38;5;124;43m'\u001b[39;49m\u001b[43m]\u001b[49m \u001b[38;5;66;03m#case sensitive\u001b[39;00m\n",
      "\u001b[0;31mKeyError\u001b[0m: 'name'"
     ]
    }
   ],
   "source": [
    "dict2['name'] #case sensitive"
   ]
  },
  {
   "cell_type": "markdown",
   "id": "cddd40f0-a1c6-4f00-b09f-296c8b418eda",
   "metadata": {},
   "source": [
    "So indexing and slicing isn't like list or string"
   ]
  },
  {
   "cell_type": "code",
   "execution_count": 18,
   "id": "8022062b-16c5-4070-a17d-df4526a05470",
   "metadata": {},
   "outputs": [
    {
     "data": {
      "text/plain": [
       "97.5"
      ]
     },
     "execution_count": 18,
     "metadata": {},
     "output_type": "execute_result"
    }
   ],
   "source": [
    "dict2['Score']"
   ]
  },
  {
   "cell_type": "code",
   "execution_count": 19,
   "id": "632de75e-3064-42f6-a0a4-8c1450d32339",
   "metadata": {},
   "outputs": [
    {
     "ename": "KeyError",
     "evalue": "1",
     "output_type": "error",
     "traceback": [
      "\u001b[0;31m---------------------------------------------------------------------------\u001b[0m",
      "\u001b[0;31mKeyError\u001b[0m                                  Traceback (most recent call last)",
      "Cell \u001b[0;32mIn[19], line 1\u001b[0m\n\u001b[0;32m----> 1\u001b[0m \u001b[43mdict2\u001b[49m\u001b[43m[\u001b[49m\u001b[38;5;241;43m1\u001b[39;49m\u001b[43m]\u001b[49m\n",
      "\u001b[0;31mKeyError\u001b[0m: 1"
     ]
    }
   ],
   "source": [
    "dict2[1]"
   ]
  },
  {
   "cell_type": "code",
   "execution_count": 20,
   "id": "b4988e22-fcd2-4b97-90d9-b15e90cd3bcd",
   "metadata": {},
   "outputs": [
    {
     "data": {
      "text/plain": [
       "'value'"
      ]
     },
     "execution_count": 20,
     "metadata": {},
     "output_type": "execute_result"
    }
   ],
   "source": [
    "d6[True]"
   ]
  },
  {
   "cell_type": "code",
   "execution_count": 21,
   "id": "2face921-9c6c-4021-9e61-fd9c92ecd55d",
   "metadata": {},
   "outputs": [
    {
     "data": {
      "text/plain": [
       "'value'"
      ]
     },
     "execution_count": 21,
     "metadata": {},
     "output_type": "execute_result"
    }
   ],
   "source": [
    "d6[1] #true -> 1"
   ]
  },
  {
   "cell_type": "code",
   "execution_count": 22,
   "id": "056e47b5-c513-4380-8020-aa8205789053",
   "metadata": {},
   "outputs": [
    {
     "data": {
      "text/plain": [
       "'two'"
      ]
     },
     "execution_count": 22,
     "metadata": {},
     "output_type": "execute_result"
    }
   ],
   "source": [
    "dict3[2]"
   ]
  },
  {
   "cell_type": "code",
   "execution_count": 23,
   "id": "42714b00-3331-4031-b72d-5fb0f7dcba32",
   "metadata": {},
   "outputs": [],
   "source": [
    "dict5 = {'name':\"element1\", \"value\":345, 'name':\"element2\"}"
   ]
  },
  {
   "cell_type": "code",
   "execution_count": 24,
   "id": "d9b95b00-3da8-44bd-b794-893dceb2c897",
   "metadata": {},
   "outputs": [
    {
     "data": {
      "text/plain": [
       "'element2'"
      ]
     },
     "execution_count": 24,
     "metadata": {},
     "output_type": "execute_result"
    }
   ],
   "source": [
    "dict5['name'] # for similar/repetitive key the last one will be fetched"
   ]
  },
  {
   "cell_type": "markdown",
   "id": "1288b7f2-dc51-4b5c-9205-bbe65d77df1c",
   "metadata": {},
   "source": [
    "That's why key should be unique else it will override with last value"
   ]
  },
  {
   "cell_type": "code",
   "execution_count": 25,
   "id": "bc8c3037-5179-4672-9d68-3318914e78f8",
   "metadata": {},
   "outputs": [
    {
     "data": {
      "text/plain": [
       "{'company': 'pwskills', 'course': ['data science', 'webD', 'java']}"
      ]
     },
     "execution_count": 25,
     "metadata": {},
     "output_type": "execute_result"
    }
   ],
   "source": [
    "dict6 = {'company':\"pwskills\", 'course':['data science', 'webD', 'java']}\n",
    "dict6"
   ]
  },
  {
   "cell_type": "code",
   "execution_count": 26,
   "id": "dd3e306a-53e7-4576-a29e-f0a9a30b1ede",
   "metadata": {},
   "outputs": [
    {
     "data": {
      "text/plain": [
       "['data science', 'webD', 'java']"
      ]
     },
     "execution_count": 26,
     "metadata": {},
     "output_type": "execute_result"
    }
   ],
   "source": [
    "dict6['course']"
   ]
  },
  {
   "cell_type": "code",
   "execution_count": 27,
   "id": "60df134d-d979-4af4-994c-34e13ce55908",
   "metadata": {},
   "outputs": [
    {
     "data": {
      "text/plain": [
       "'java'"
      ]
     },
     "execution_count": 27,
     "metadata": {},
     "output_type": "execute_result"
    }
   ],
   "source": [
    "dict6['course'][2]"
   ]
  },
  {
   "cell_type": "code",
   "execution_count": 28,
   "id": "ecc9562f-51b0-49a0-9b61-734bb381b13e",
   "metadata": {},
   "outputs": [
    {
     "data": {
      "text/plain": [
       "'data science'"
      ]
     },
     "execution_count": 28,
     "metadata": {},
     "output_type": "execute_result"
    }
   ],
   "source": [
    "dict6['course'][0]"
   ]
  },
  {
   "cell_type": "code",
   "execution_count": 29,
   "id": "2e55a47c-0198-42dc-9e1c-bb84c095ed97",
   "metadata": {},
   "outputs": [
    {
     "data": {
      "text/plain": [
       "{'number': [34, 23, 35, 29],\n",
       " 'assignment': (3, 1, 4, 2),\n",
       " 'launch_date': {'02-03-23', '05-03-23', '09-03-23', '28-02-23'}}"
      ]
     },
     "execution_count": 29,
     "metadata": {},
     "output_type": "execute_result"
    }
   ],
   "source": [
    "dict7 = {'number':[34,23,35,29], 'assignment':(3,1,4,2), 'launch_date':{'28-02-23','02-03-23','05-03-23','09-03-23'}}\n",
    "dict7"
   ]
  },
  {
   "cell_type": "code",
   "execution_count": 30,
   "id": "d7ea7cc9-a322-4df8-a31c-266c8d7ddf4f",
   "metadata": {},
   "outputs": [
    {
     "data": {
      "text/plain": [
       "{'class timing': {'webD': '3pm', 'data science': '6pm', 'java': '10am'}}"
      ]
     },
     "execution_count": 30,
     "metadata": {},
     "output_type": "execute_result"
    }
   ],
   "source": [
    "dict8 = {\"class timing\":{'webD':\"3pm\", 'data science':'6pm', 'java':'10am'}}\n",
    "dict8 # nested dictionary"
   ]
  },
  {
   "cell_type": "code",
   "execution_count": 31,
   "id": "ddbed6b5-8a59-47eb-ba53-dfff1fc5572f",
   "metadata": {},
   "outputs": [
    {
     "data": {
      "text/plain": [
       "{'webD': '3pm', 'data science': '6pm', 'java': '10am'}"
      ]
     },
     "execution_count": 31,
     "metadata": {},
     "output_type": "execute_result"
    }
   ],
   "source": [
    "dict8['class timing']"
   ]
  },
  {
   "cell_type": "code",
   "execution_count": 32,
   "id": "d8b4d557-bb06-4675-b7a2-f30ba567dfb7",
   "metadata": {},
   "outputs": [
    {
     "data": {
      "text/plain": [
       "'10am'"
      ]
     },
     "execution_count": 32,
     "metadata": {},
     "output_type": "execute_result"
    }
   ],
   "source": [
    "dict8['class timing']['java']"
   ]
  },
  {
   "cell_type": "code",
   "execution_count": 33,
   "id": "47705c6f-57a3-48f0-a997-121b0c3be2ae",
   "metadata": {},
   "outputs": [],
   "source": [
    "# adding a new key pair in dictionaty\n",
    "dict8['Mentor'] = ['instructor1', 'instructor2', 'instructor3', 'instructor4']"
   ]
  },
  {
   "cell_type": "code",
   "execution_count": 34,
   "id": "27c0b8c9-17a5-4be2-ad50-3f4c720b1420",
   "metadata": {},
   "outputs": [
    {
     "data": {
      "text/plain": [
       "{'class timing': {'webD': '3pm', 'data science': '6pm', 'java': '10am'},\n",
       " 'Mentor': ['instructor1', 'instructor2', 'instructor3', 'instructor4']}"
      ]
     },
     "execution_count": 34,
     "metadata": {},
     "output_type": "execute_result"
    }
   ],
   "source": [
    "dict8"
   ]
  },
  {
   "cell_type": "markdown",
   "id": "3c4bee79-762e-4bfd-a54f-67234234cd78",
   "metadata": {
    "tags": []
   },
   "source": [
    "If ney key is already in the dictionay then it will update/overwrite it else it will add this new key"
   ]
  },
  {
   "cell_type": "code",
   "execution_count": 35,
   "id": "4bc8825d-cfda-402e-96f3-349fac1231dd",
   "metadata": {},
   "outputs": [
    {
     "data": {
      "text/plain": [
       "{'class timing': {'webD': '3pm', 'data science': '6pm', 'java': '10am'},\n",
       " 'Mentor': ['instructor1', 'instructor2', 'instructor3', 'instructor4'],\n",
       " 'Mentor 00': ['instructor1', 'instructor2', 'instructor3', 'instructor4']}"
      ]
     },
     "execution_count": 35,
     "metadata": {},
     "output_type": "execute_result"
    }
   ],
   "source": [
    "# adding a new key pair in dictionaty\n",
    "dict8['Mentor 00'] = ['instructor1', 'instructor2', 'instructor3', 'instructor4']\n",
    "dict8"
   ]
  },
  {
   "cell_type": "code",
   "execution_count": 36,
   "id": "86d011bf-b767-4412-b2e6-81432763da04",
   "metadata": {},
   "outputs": [],
   "source": [
    "# removing a ey pair\n",
    "del dict8['Mentor 00']"
   ]
  },
  {
   "cell_type": "code",
   "execution_count": 37,
   "id": "e170e4cf-d978-4c8c-bdd8-19f3b7333008",
   "metadata": {},
   "outputs": [
    {
     "data": {
      "text/plain": [
       "{'class timing': {'webD': '3pm', 'data science': '6pm', 'java': '10am'},\n",
       " 'Mentor': ['instructor1', 'instructor2', 'instructor3', 'instructor4']}"
      ]
     },
     "execution_count": 37,
     "metadata": {},
     "output_type": "execute_result"
    }
   ],
   "source": [
    "dict8"
   ]
  },
  {
   "cell_type": "code",
   "execution_count": 38,
   "id": "2b0cbdc9-aea5-4885-aba2-38cc4320cd22",
   "metadata": {},
   "outputs": [
    {
     "data": {
      "text/plain": [
       "dict_keys(['class timing', 'Mentor'])"
      ]
     },
     "execution_count": 38,
     "metadata": {},
     "output_type": "execute_result"
    }
   ],
   "source": [
    "# getting all keys in a dictionary\n",
    "dict8.keys()"
   ]
  },
  {
   "cell_type": "code",
   "execution_count": 39,
   "id": "bc63ab32-df88-493f-9cb4-b1aadedeac88",
   "metadata": {},
   "outputs": [
    {
     "name": "stdout",
     "output_type": "stream",
     "text": [
      "dict_keys(['company', 'course'])\n"
     ]
    }
   ],
   "source": [
    "print(dict6.keys())"
   ]
  },
  {
   "cell_type": "code",
   "execution_count": 40,
   "id": "f36f988c-80ba-42dc-9ce6-1f7b6d7ffd1a",
   "metadata": {},
   "outputs": [
    {
     "data": {
      "text/plain": [
       "['class timing', 'Mentor']"
      ]
     },
     "execution_count": 40,
     "metadata": {},
     "output_type": "execute_result"
    }
   ],
   "source": [
    "list(dict8.keys())"
   ]
  },
  {
   "cell_type": "code",
   "execution_count": 41,
   "id": "e58a4399-bd13-45cd-adf2-96dbdb1daaba",
   "metadata": {},
   "outputs": [
    {
     "data": {
      "text/plain": [
       "dict_values([{'webD': '3pm', 'data science': '6pm', 'java': '10am'}, ['instructor1', 'instructor2', 'instructor3', 'instructor4']])"
      ]
     },
     "execution_count": 41,
     "metadata": {},
     "output_type": "execute_result"
    }
   ],
   "source": [
    "# getting all values\n",
    "dict8.values()"
   ]
  },
  {
   "cell_type": "code",
   "execution_count": 42,
   "id": "3252aed0-19bd-4d2e-a00c-a45a2a52940f",
   "metadata": {},
   "outputs": [
    {
     "data": {
      "text/plain": [
       "dict_items([('class timing', {'webD': '3pm', 'data science': '6pm', 'java': '10am'}), ('Mentor', ['instructor1', 'instructor2', 'instructor3', 'instructor4'])])"
      ]
     },
     "execution_count": 42,
     "metadata": {},
     "output_type": "execute_result"
    }
   ],
   "source": [
    "dict8.items()"
   ]
  },
  {
   "cell_type": "code",
   "execution_count": 43,
   "id": "e8172bd2-1884-4c00-a818-35d16aec6cbb",
   "metadata": {},
   "outputs": [
    {
     "data": {
      "text/plain": [
       "[('class timing', {'webD': '3pm', 'data science': '6pm', 'java': '10am'}),\n",
       " ('Mentor', ['instructor1', 'instructor2', 'instructor3', 'instructor4'])]"
      ]
     },
     "execution_count": 43,
     "metadata": {},
     "output_type": "execute_result"
    }
   ],
   "source": [
    "list(dict8.items())"
   ]
  },
  {
   "cell_type": "markdown",
   "id": "2d8162bc-3dc7-455f-ab78-df6b86bfff9d",
   "metadata": {},
   "source": [
    "In this list these are in tuples form holding key-value pair"
   ]
  },
  {
   "cell_type": "code",
   "execution_count": 44,
   "id": "7386fb74-8f8e-4ce8-a7cf-c3506ebc8b0f",
   "metadata": {},
   "outputs": [
    {
     "data": {
      "text/plain": [
       "[('name', 'element2'), ('value', 345)]"
      ]
     },
     "execution_count": 44,
     "metadata": {},
     "output_type": "execute_result"
    }
   ],
   "source": [
    "list(dict5.items())"
   ]
  },
  {
   "cell_type": "code",
   "execution_count": 45,
   "id": "a82fb308-05bc-4c7d-bf91-9ee7226eeb3b",
   "metadata": {},
   "outputs": [
    {
     "ename": "TypeError",
     "evalue": "pop expected at least 1 argument, got 0",
     "output_type": "error",
     "traceback": [
      "\u001b[0;31m---------------------------------------------------------------------------\u001b[0m",
      "\u001b[0;31mTypeError\u001b[0m                                 Traceback (most recent call last)",
      "Cell \u001b[0;32mIn[45], line 1\u001b[0m\n\u001b[0;32m----> 1\u001b[0m \u001b[43mdict5\u001b[49m\u001b[38;5;241;43m.\u001b[39;49m\u001b[43mpop\u001b[49m\u001b[43m(\u001b[49m\u001b[43m)\u001b[49m\n\u001b[1;32m      2\u001b[0m dict5\n",
      "\u001b[0;31mTypeError\u001b[0m: pop expected at least 1 argument, got 0"
     ]
    }
   ],
   "source": [
    "dict5.pop()\n",
    "dict5"
   ]
  },
  {
   "cell_type": "code",
   "execution_count": 46,
   "id": "c901a834-c676-446e-8eae-c0157b868823",
   "metadata": {},
   "outputs": [
    {
     "data": {
      "text/plain": [
       "345"
      ]
     },
     "execution_count": 46,
     "metadata": {},
     "output_type": "execute_result"
    }
   ],
   "source": [
    "dict5.pop('value')"
   ]
  },
  {
   "cell_type": "code",
   "execution_count": 47,
   "id": "e1654d42-08df-444f-9dc6-16032f46ac27",
   "metadata": {},
   "outputs": [
    {
     "data": {
      "text/plain": [
       "{'name': 'element2'}"
      ]
     },
     "execution_count": 47,
     "metadata": {},
     "output_type": "execute_result"
    }
   ],
   "source": [
    "dict5"
   ]
  },
  {
   "cell_type": "code",
   "execution_count": 48,
   "id": "b0c40104-1c55-44a2-8637-d158cadf09dc",
   "metadata": {},
   "outputs": [
    {
     "data": {
      "text/plain": [
       "{'company': 'pwskills', 'course': ['data science', 'webD', 'java']}"
      ]
     },
     "execution_count": 48,
     "metadata": {},
     "output_type": "execute_result"
    }
   ],
   "source": [
    "dict6"
   ]
  },
  {
   "cell_type": "markdown",
   "id": "9de7f5b4-b303-4dd5-9899-c3fe6cb4ce34",
   "metadata": {},
   "source": [
    "### Dictionary is mutable"
   ]
  },
  {
   "cell_type": "markdown",
   "id": "0df6ac28-787d-47a0-9db9-547e01830833",
   "metadata": {},
   "source": [
    "## Control flow"
   ]
  },
  {
   "cell_type": "markdown",
   "id": "34f79527-15f9-4ad9-9b58-1bda79db9077",
   "metadata": {},
   "source": [
    "If-else statement"
   ]
  },
  {
   "cell_type": "code",
   "execution_count": 49,
   "id": "77d2f06b-505b-4b46-8f40-74ab8d84ff72",
   "metadata": {},
   "outputs": [
    {
     "ename": "NameError",
     "evalue": "name 'marks' is not defined",
     "output_type": "error",
     "traceback": [
      "\u001b[0;31m---------------------------------------------------------------------------\u001b[0m",
      "\u001b[0;31mNameError\u001b[0m                                 Traceback (most recent call last)",
      "Cell \u001b[0;32mIn[49], line 1\u001b[0m\n\u001b[0;32m----> 1\u001b[0m \u001b[38;5;28;01mif\u001b[39;00m \u001b[43mmarks\u001b[49m \u001b[38;5;241m>\u001b[39m\u001b[38;5;241m=\u001b[39m \u001b[38;5;241m90\u001b[39m :\n\u001b[1;32m      2\u001b[0m     \u001b[38;5;28mprint\u001b[39m(\u001b[38;5;124m\"\u001b[39m\u001b[38;5;124mCongrats!!! You\u001b[39m\u001b[38;5;124m'\u001b[39m\u001b[38;5;124mre eligible to be a member of elite group\u001b[39m\u001b[38;5;124m\"\u001b[39m)\n",
      "\u001b[0;31mNameError\u001b[0m: name 'marks' is not defined"
     ]
    }
   ],
   "source": [
    "if marks >= 90 :\n",
    "    print(\"Congrats!!! You're eligible to be a member of elite group\")"
   ]
  },
  {
   "cell_type": "code",
   "execution_count": 50,
   "id": "81cf0d75-d117-466d-a44d-aea9f9765d86",
   "metadata": {},
   "outputs": [
    {
     "ename": "IndentationError",
     "evalue": "expected an indented block after 'if' statement on line 1 (2574344775.py, line 2)",
     "output_type": "error",
     "traceback": [
      "\u001b[0;36m  Cell \u001b[0;32mIn[50], line 2\u001b[0;36m\u001b[0m\n\u001b[0;31m    print(\"Congrats!!! You're eligible to be a member of elite group\")\u001b[0m\n\u001b[0m    ^\u001b[0m\n\u001b[0;31mIndentationError\u001b[0m\u001b[0;31m:\u001b[0m expected an indented block after 'if' statement on line 1\n"
     ]
    }
   ],
   "source": [
    "if marks >= 90 :\n",
    "print(\"Congrats!!! You're eligible to be a member of elite group\")\n",
    "\n",
    "# error due to indentation"
   ]
  },
  {
   "cell_type": "code",
   "execution_count": 52,
   "id": "8bc3b42c-c146-4941-8eea-89490a3764fe",
   "metadata": {},
   "outputs": [
    {
     "name": "stdin",
     "output_type": "stream",
     "text": [
      "Enter your marks please... 97\n"
     ]
    },
    {
     "name": "stdout",
     "output_type": "stream",
     "text": [
      "Congrats!!! You're eligible to be a member of elite group\n"
     ]
    }
   ],
   "source": [
    "# marks = 97\n",
    "# getting input from user\n",
    "marks = float(input(\"Enter your marks please...\")) # but the problem is that input() function treat data as string by default\n",
    "# That's why we have to do typecasting\n",
    "\n",
    "if marks >= 90 :\n",
    "    print(\"Congrats!!! You're eligible to be a member of elite group\")\n",
    "elif marks >= 75 and marks < 90:\n",
    "    print(\"Congrats!!! You're in gold batch\")\n",
    "elif marks > 40 and marks <75 :\n",
    "    print(\"Try hard next time...\")\n",
    "else:\n",
    "    print(\"You sure have to study more!!!\")"
   ]
  },
  {
   "cell_type": "code",
   "execution_count": 53,
   "id": "473f9b93-17ae-47b8-8132-381e285ecfdf",
   "metadata": {},
   "outputs": [
    {
     "name": "stdout",
     "output_type": "stream",
     "text": [
      "value =  97.0 \n",
      "type =  <class 'float'>\n"
     ]
    }
   ],
   "source": [
    "print('value = ',marks, '\\ntype = ',type(marks))"
   ]
  },
  {
   "cell_type": "code",
   "execution_count": 54,
   "id": "9165f31e-ac6f-4ea1-8082-7a93ef12e7c3",
   "metadata": {},
   "outputs": [
    {
     "name": "stdin",
     "output_type": "stream",
     "text": [
      "Enter the price 900\n"
     ]
    },
    {
     "name": "stdout",
     "output_type": "stream",
     "text": [
      "Todi shopping to chalti h\n"
     ]
    }
   ],
   "source": [
    "price = int(input(\"Enter the price\"))\n",
    "\n",
    "if price > 1000:\n",
    "    print(\"Save money!!!\")\n",
    "else:\n",
    "    print(\"Todi shopping to chalti h\")\n",
    "    \n",
    "# elif is not mandetory"
   ]
  },
  {
   "cell_type": "code",
   "execution_count": 55,
   "id": "b141ee70-a7a4-4fdc-90a5-0aa6cc2355d3",
   "metadata": {},
   "outputs": [
    {
     "name": "stdin",
     "output_type": "stream",
     "text": [
      "Enter the price 1099\n"
     ]
    },
    {
     "name": "stdout",
     "output_type": "stream",
     "text": [
      "Save money!!!\n"
     ]
    }
   ],
   "source": [
    "price = int(input(\"Enter the price\"))\n",
    "\n",
    "if price > 1000:\n",
    "    print(\"Save money!!!\")\n",
    "    \n",
    "# else is optional"
   ]
  },
  {
   "cell_type": "code",
   "execution_count": 56,
   "id": "102b01c7-360c-4dc7-a358-413bc7eb9225",
   "metadata": {},
   "outputs": [
    {
     "name": "stdin",
     "output_type": "stream",
     "text": [
      "Enter the price 5999\n"
     ]
    },
    {
     "name": "stdout",
     "output_type": "stream",
     "text": [
      "Save money!!!\n",
      "It's too expensive\n"
     ]
    }
   ],
   "source": [
    "price = int(input(\"Enter the price\"))\n",
    "\n",
    "if price > 1000:\n",
    "    print(\"Save money!!!\")\n",
    "    if price > 3000:\n",
    "        print(\"It's too expensive\")\n",
    "else :\n",
    "    print(\"Let's buy it\")"
   ]
  },
  {
   "cell_type": "code",
   "execution_count": 57,
   "id": "19ecd365-8b92-4fe1-a104-3a23636810a1",
   "metadata": {},
   "outputs": [
    {
     "name": "stdin",
     "output_type": "stream",
     "text": [
      "Enter the price 2499\n"
     ]
    },
    {
     "name": "stdout",
     "output_type": "stream",
     "text": [
      "Save money!!!\n",
      "Try to look for alternative\n"
     ]
    }
   ],
   "source": [
    "price = int(input(\"Enter the price\"))\n",
    "\n",
    "if price > 1000:\n",
    "    print(\"Save money!!!\")\n",
    "    if price > 3000:\n",
    "        print(\"It's too expensive\")\n",
    "    else:\n",
    "        print(\"Try to look for alternative\")   # nested if-else\n",
    "elif price < 100 :\n",
    "    print(\"Check quality\")\n",
    "else :\n",
    "    print(\"Let's buy it\")"
   ]
  },
  {
   "cell_type": "markdown",
   "id": "dba8b171-5eb2-4e35-9f3b-c2de452ba7e5",
   "metadata": {},
   "source": [
    "## LOOP"
   ]
  },
  {
   "cell_type": "code",
   "execution_count": 58,
   "id": "1361940a-14d3-4723-be7f-4a6d75f88ed7",
   "metadata": {},
   "outputs": [],
   "source": [
    "l = [1,22,3,4,15,6,79,8,32]"
   ]
  },
  {
   "cell_type": "code",
   "execution_count": 59,
   "id": "16a9037a-15d9-4175-b869-579433f888e4",
   "metadata": {},
   "outputs": [
    {
     "name": "stdout",
     "output_type": "stream",
     "text": [
      "1\n",
      "22\n",
      "3\n",
      "4\n",
      "15\n",
      "6\n",
      "79\n",
      "8\n",
      "32\n"
     ]
    }
   ],
   "source": [
    "# adding 1 to each element in list'l'\n",
    "for i in l :      # here i is temp var to store element in that iteration and 'l' is iterable var \n",
    "    print(i)"
   ]
  },
  {
   "cell_type": "code",
   "execution_count": 60,
   "id": "f51211bd-dca7-42fe-b4dd-0ad2aaa97aa4",
   "metadata": {},
   "outputs": [
    {
     "name": "stdout",
     "output_type": "stream",
     "text": [
      "2\n",
      "23\n",
      "4\n",
      "5\n",
      "16\n",
      "7\n",
      "80\n",
      "9\n",
      "33\n"
     ]
    }
   ],
   "source": [
    "for i in l :\n",
    "    print(i+1)"
   ]
  },
  {
   "cell_type": "code",
   "execution_count": 61,
   "id": "8d6785ae-7588-42fd-beaa-4db6103cb2d8",
   "metadata": {},
   "outputs": [
    {
     "name": "stdout",
     "output_type": "stream",
     "text": [
      "[1, 22, 3, 4, 15, 6, 79, 8, 32]\n",
      "[2, 23, 4, 5, 16, 7, 80, 9, 33]\n"
     ]
    }
   ],
   "source": [
    "print(l)\n",
    "l1 = []\n",
    "for i in l :\n",
    "    l1.append(i+1)  # here append is more suitable than insert or extend\n",
    "print(l1)"
   ]
  },
  {
   "cell_type": "code",
   "execution_count": 62,
   "id": "06150829-8183-497a-8103-c47beeba473f",
   "metadata": {},
   "outputs": [
    {
     "data": {
      "text/plain": [
       "['PW', 'Gate', 'pwskills', 'data science masters']"
      ]
     },
     "execution_count": 62,
     "metadata": {},
     "output_type": "execute_result"
    }
   ],
   "source": [
    "l2 = [\"PW\", \"Gate\", \"pwskills\", 'data science masters']\n",
    "l2"
   ]
  },
  {
   "cell_type": "code",
   "execution_count": 63,
   "id": "e5ec0f8b-e8d7-4507-b08a-59321c7715dc",
   "metadata": {},
   "outputs": [
    {
     "name": "stdout",
     "output_type": "stream",
     "text": [
      "PW\n",
      "Gate\n",
      "pwskills\n",
      "data science masters\n"
     ]
    }
   ],
   "source": [
    "# now we want to convert each char of elements of list l2 to upper-case\n",
    "for i in l2:\n",
    "    print(i)"
   ]
  },
  {
   "cell_type": "code",
   "execution_count": 64,
   "id": "bda063c6-b2db-4fcb-860c-d09f65d45c8c",
   "metadata": {},
   "outputs": [
    {
     "name": "stdout",
     "output_type": "stream",
     "text": [
      "PW\n",
      "GATE\n",
      "PWSKILLS\n",
      "DATA SCIENCE MASTERS\n"
     ]
    }
   ],
   "source": [
    "for i in l2:\n",
    "    print(i.upper())"
   ]
  },
  {
   "cell_type": "code",
   "execution_count": 65,
   "id": "3370ebe3-f10e-4ce9-9751-037586d9b441",
   "metadata": {},
   "outputs": [
    {
     "name": "stdout",
     "output_type": "stream",
     "text": [
      "['PW', 'Gate', 'pwskills', 'data science masters']\n",
      "['PW', 'GATE', 'PWSKILLS', 'DATA SCIENCE MASTERS']\n"
     ]
    }
   ],
   "source": [
    "print(l2)\n",
    "l3 = []\n",
    "for i in l2:\n",
    "    l3.append(i.upper())\n",
    "    \n",
    "print(l3)"
   ]
  },
  {
   "cell_type": "code",
   "execution_count": 66,
   "id": "018706ee-5b88-47bb-9544-5ad46c9e1688",
   "metadata": {},
   "outputs": [
    {
     "data": {
      "text/plain": [
       "[1, 4, 2, 7, 99, 'a', 'd', 'poly', 90.89, 672.34213]"
      ]
     },
     "execution_count": 66,
     "metadata": {},
     "output_type": "execute_result"
    }
   ],
   "source": [
    "l4 = [1,4,2,7,99, 'a', 'd', 'poly', 90.89, 672.34213]\n",
    "l4"
   ]
  },
  {
   "cell_type": "code",
   "execution_count": 67,
   "id": "99f57dd6-c194-4f38-b832-32652ac64484",
   "metadata": {},
   "outputs": [
    {
     "name": "stdout",
     "output_type": "stream",
     "text": [
      "1\n",
      "4\n",
      "2\n",
      "7\n",
      "99\n",
      "a\n",
      "d\n",
      "poly\n",
      "90.89\n",
      "672.34213\n"
     ]
    }
   ],
   "source": [
    "# Now we want to separate l4 in two lists having similar data in them (seperate numeric and strings)\n",
    "for i in l4:\n",
    "    print(i)"
   ]
  },
  {
   "cell_type": "code",
   "execution_count": 68,
   "id": "9da8fe30-8923-48a8-9be7-20dc20b483cf",
   "metadata": {},
   "outputs": [
    {
     "name": "stdout",
     "output_type": "stream",
     "text": [
      "[1, 4, 2, 7, 99, 90.89, 672.34213]\n",
      "\n",
      " ['a', 'd', 'poly']\n"
     ]
    }
   ],
   "source": [
    "num_part = []\n",
    "str_part = []\n",
    "for data in l4 :\n",
    "    if type(data) == int or type(data) == float :\n",
    "        num_part.append(data)\n",
    "    elif type(data) == str :\n",
    "        str_part.append(data)\n",
    "    else:\n",
    "        print(\"Data is neighter numeric nor string\")\n",
    "        \n",
    "print(num_part)\n",
    "print('\\n',str_part)"
   ]
  },
  {
   "cell_type": "code",
   "execution_count": 69,
   "id": "7b6d03d8-8ef5-4a46-8033-7b9df888024d",
   "metadata": {},
   "outputs": [],
   "source": [
    "l5 = [2, 4, 4.49, 9.12, True, 'True', [False, 3, 8, 'PW'], (5, 8)] "
   ]
  },
  {
   "cell_type": "code",
   "execution_count": 70,
   "id": "af129182-e131-47a8-ac6a-7d99457610d5",
   "metadata": {},
   "outputs": [
    {
     "name": "stdout",
     "output_type": "stream",
     "text": [
      "Data  True  is neighter numeric nor string\n",
      "Data  [False, 3, 8, 'PW']  is neighter numeric nor string\n",
      "Data  (5, 8)  is neighter numeric nor string\n",
      "[2, 4, 4.49, 9.12]\n",
      "\n",
      " ['True']\n"
     ]
    }
   ],
   "source": [
    "num_part = []\n",
    "str_part = []\n",
    "for data in l5 :\n",
    "    if type(data) == int or type(data) == float :\n",
    "        num_part.append(data)\n",
    "    elif type(data) == str :\n",
    "        str_part.append(data)\n",
    "    else:\n",
    "        print(\"Data \",data,\" is neighter numeric nor string\")\n",
    "        \n",
    "print(num_part)\n",
    "print('\\n',str_part)"
   ]
  },
  {
   "cell_type": "code",
   "execution_count": null,
   "id": "adc2811d-c82e-499e-9a4a-d6d018f3823d",
   "metadata": {},
   "outputs": [],
   "source": []
  }
 ],
 "metadata": {
  "kernelspec": {
   "display_name": "Python 3 (ipykernel)",
   "language": "python",
   "name": "python3"
  },
  "language_info": {
   "codemirror_mode": {
    "name": "ipython",
    "version": 3
   },
   "file_extension": ".py",
   "mimetype": "text/x-python",
   "name": "python",
   "nbconvert_exporter": "python",
   "pygments_lexer": "ipython3",
   "version": "3.10.8"
  }
 },
 "nbformat": 4,
 "nbformat_minor": 5
}
